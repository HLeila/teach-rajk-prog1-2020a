{
 "cells": [
  {
   "cell_type": "markdown",
   "metadata": {},
   "source": [
    "### sima"
   ]
  },
  {
   "cell_type": "code",
   "execution_count": 24,
   "metadata": {},
   "outputs": [],
   "source": [
    "cow_alive_list_test_1 = [False, False, False, True, True, True]"
   ]
  },
  {
   "cell_type": "code",
   "execution_count": 25,
   "metadata": {},
   "outputs": [],
   "source": [
    "def my_solution1_A(cow_alive_list):\n",
    "    fat_alive_cow_index = 0\n",
    "    thin_alive_cow_index = len(cow_alive_list) - 1\n",
    "\n",
    "    while (fat_alive_cow_index + 1) < thin_alive_cow_index:\n",
    "        middle_cow = int((fat_alive_cow_index + thin_alive_cow_index) / 2)\n",
    "        if cow_alive_list[middle_cow]:\n",
    "            thin_alive_cow_index = middle_cow\n",
    "        else:\n",
    "            fat_alive_cow_index = middle_cow\n",
    "\n",
    "    return middle_cow + 1"
   ]
  },
  {
   "cell_type": "code",
   "execution_count": 26,
   "metadata": {},
   "outputs": [
    {
     "data": {
      "text/plain": [
       "4"
      ]
     },
     "execution_count": 26,
     "metadata": {},
     "output_type": "execute_result"
    }
   ],
   "source": [
    "my_solution1_A(cow_alive_list_test_1)"
   ]
  },
  {
   "cell_type": "markdown",
   "metadata": {},
   "source": [
    "Ezzel nem csináltál semmit, egy az egyben a kurzuson is látott rossz megoldás.\n",
    "\n",
    "Ez a függvény eggyel nagyobb számot ad vissza, mint a helyes megoldás, abban az esetben, ha az aktuális `middle_cow` már nincs életben. Ezért a végére kell egy plusz elágazás:"
   ]
  },
  {
   "cell_type": "code",
   "execution_count": 27,
   "metadata": {},
   "outputs": [],
   "source": [
    "def my_solution1_A_jav(cow_alive_list):\n",
    "    fat_alive_cow_index = 0\n",
    "    thin_alive_cow_index = len(cow_alive_list) - 1\n",
    "\n",
    "    while (fat_alive_cow_index + 1) < thin_alive_cow_index:\n",
    "        middle_cow = int((fat_alive_cow_index + thin_alive_cow_index) / 2)\n",
    "        if cow_alive_list[middle_cow]:\n",
    "            thin_alive_cow_index = middle_cow\n",
    "        else:\n",
    "            fat_alive_cow_index = middle_cow\n",
    "\n",
    "    if cow_alive_list[middle_cow]:\n",
    "        return middle_cow\n",
    "    else:\n",
    "        return middle_cow + 1"
   ]
  },
  {
   "cell_type": "code",
   "execution_count": 28,
   "metadata": {},
   "outputs": [
    {
     "data": {
      "text/plain": [
       "3"
      ]
     },
     "execution_count": 28,
     "metadata": {},
     "output_type": "execute_result"
    }
   ],
   "source": [
    "my_solution1_A_jav(cow_alive_list_test_1)"
   ]
  },
  {
   "cell_type": "markdown",
   "metadata": {},
   "source": [
    "-------------------------------"
   ]
  },
  {
   "cell_type": "code",
   "execution_count": 7,
   "metadata": {},
   "outputs": [],
   "source": [
    "def my_solution1_B(cow_alive_list):\n",
    "    place = 0\n",
    "    for cow_is_alive in cow_alive_list:\n",
    "        place = place + 1\n",
    "        if cow_is_alive:\n",
    "            return place\n",
    "    \n",
    "    return place + 1"
   ]
  },
  {
   "cell_type": "code",
   "execution_count": 31,
   "metadata": {},
   "outputs": [
    {
     "data": {
      "text/plain": [
       "4"
      ]
     },
     "execution_count": 31,
     "metadata": {},
     "output_type": "execute_result"
    }
   ],
   "source": [
    "my_solution1_B(cow_alive_list_test_1)"
   ]
  },
  {
   "cell_type": "markdown",
   "metadata": {},
   "source": [
    "Ez szintén egy az egyben a kurzuson is látott rossz megoldás.\n",
    "\n",
    "A hiba az, hogy a függvény eggyel nagyobb értéket ad vissza, mint a helyes megoldás. Ez azért van, mert a 4. sorban már hozzáadsz egyet a place változóhoz, és utána ellenőrzöd, hogy még életben van-e a tehén (az eggyel kisebb indexnél). Úgy lenne helyes, ha előbb végeznéd el az ellenőrzést, és utána növelnéd a place változót. Az utolsó `return` pedig fölösleges."
   ]
  },
  {
   "cell_type": "code",
   "execution_count": 37,
   "metadata": {},
   "outputs": [],
   "source": [
    "def my_solution1_B_jav(cow_alive_list):\n",
    "    place = 0\n",
    "    for cow_is_alive in cow_alive_list:\n",
    "        if cow_is_alive:\n",
    "            return place\n",
    "        place = place + 1"
   ]
  },
  {
   "cell_type": "code",
   "execution_count": 38,
   "metadata": {},
   "outputs": [
    {
     "data": {
      "text/plain": [
       "3"
      ]
     },
     "execution_count": 38,
     "metadata": {},
     "output_type": "execute_result"
    }
   ],
   "source": [
    "my_solution1_B_jav(cow_alive_list_test_1)"
   ]
  },
  {
   "cell_type": "markdown",
   "metadata": {},
   "source": [
    "-------------------------------"
   ]
  },
  {
   "cell_type": "markdown",
   "metadata": {},
   "source": [
    "### jkg"
   ]
  },
  {
   "cell_type": "code",
   "execution_count": 12,
   "metadata": {},
   "outputs": [],
   "source": [
    "from jkg_evaluators import dragonfind_10_to_500"
   ]
  },
  {
   "cell_type": "code",
   "execution_count": 15,
   "metadata": {},
   "outputs": [],
   "source": [
    "def my_solution2_A(is_dead, number_of_cows):\n",
    "\n",
    "    middle_cow = int(number_of_cows / 2)\n",
    "\n",
    "    if is_dead(middle_cow):\n",
    "\n",
    "        for i in range(middle_cow, number_of_cows - 1):\n",
    "            if not is_dead(i):\n",
    "                return i\n",
    "\n",
    "    else:\n",
    "\n",
    "        for i in range(1, middle_cow):\n",
    "            if not is_dead(i):\n",
    "                return i"
   ]
  },
  {
   "cell_type": "code",
   "execution_count": 16,
   "metadata": {
    "scrolled": true
   },
   "outputs": [
    {
     "name": "stdout",
     "output_type": "stream",
     "text": [
      "- success rate: 123732/124714 (99.0%)\n",
      "- error count: 0\n",
      "- best performance: 2\n",
      "- worst performance: 250\n",
      "- mean performance: 85.26525490321856\n",
      "\n",
      "\n",
      " BAD SOLUTION at: \n",
      " {'number_of_cows': 10, 'dragon_coming_to': 5}\n",
      "\n",
      "\n",
      " BAD SOLUTION at: \n",
      " {'number_of_cows': 10, 'dragon_coming_to': 9}\n",
      "\n",
      "\n",
      " BAD SOLUTION at: \n",
      " {'number_of_cows': 11, 'dragon_coming_to': 5}\n",
      "\n",
      "\n",
      " BAD SOLUTION at: \n",
      " {'number_of_cows': 11, 'dragon_coming_to': 10}\n",
      "\n",
      "\n",
      " BAD SOLUTION at: \n",
      " {'number_of_cows': 12, 'dragon_coming_to': 6}\n",
      "\n",
      "\n",
      " BAD SOLUTION at: \n",
      " {'number_of_cows': 12, 'dragon_coming_to': 11}\n",
      "\n",
      "\n",
      " BAD SOLUTION at: \n",
      " {'number_of_cows': 13, 'dragon_coming_to': 6}\n",
      "\n",
      "\n",
      " BAD SOLUTION at: \n",
      " {'number_of_cows': 13, 'dragon_coming_to': 12}\n",
      "\n",
      "\n",
      " BAD SOLUTION at: \n",
      " {'number_of_cows': 14, 'dragon_coming_to': 7}\n",
      "\n",
      "\n",
      " BAD SOLUTION at: \n",
      " {'number_of_cows': 14, 'dragon_coming_to': 13}\n"
     ]
    }
   ],
   "source": [
    "dragonfind_10_to_500.evaluate(my_solution2_A)"
   ]
  },
  {
   "cell_type": "markdown",
   "metadata": {},
   "source": [
    "Ez a függvény a legtöbb esetben jó megoldást ad, de a szélső értékekkel probléma lesz.\n",
    "- Ha a megoldás a lista utolsó eleme, akkor nem lesz a függvénynek visszatérési értéke. Ez azért van, mert az első iteráció csak az utolsó előtti elemig megy el. A `range(a, b)` első eleme `a`, utolsó eleme pedig `b - 1`, tehát a `number_of_cows`-ból nem kéne kivonnod egyet a 7. sorban.\n",
    "- Ugyanez a helyzet, ha a megoldás pont a középső elem, mert a második iteráció is csak a `middle_cow - 1`-ig megy el."
   ]
  },
  {
   "cell_type": "markdown",
   "metadata": {},
   "source": [
    "-------------------------------"
   ]
  },
  {
   "cell_type": "code",
   "execution_count": 18,
   "metadata": {},
   "outputs": [],
   "source": [
    "def my_solution2_B(is_dead, number_of_cows):\n",
    "\n",
    "    found_dragon = False\n",
    "    min_cow = 0\n",
    "    max_cow = number_of_cows\n",
    "\n",
    "    while found_dragon == False:\n",
    "\n",
    "        middle_cow = (min_cow + max_cow) // 2\n",
    "\n",
    "        if is_dead(middle_cow) == True:\n",
    "            min_cow = middle_cow + 1\n",
    "\n",
    "            if is_dead(middle_cow + 1) == False:\n",
    "                found_dragon = True\n",
    "                return middle_cow + 1\n",
    "\n",
    "        else:\n",
    "            max_cow = middle_cow\n",
    "\n",
    "            if is_dead(middle_cow - 1) == True:\n",
    "                found_dragon = True\n",
    "                return middle_cow"
   ]
  },
  {
   "cell_type": "code",
   "execution_count": 19,
   "metadata": {},
   "outputs": [
    {
     "name": "stdout",
     "output_type": "stream",
     "text": [
      "- success rate: 124714/124714 (100.0%)\n",
      "- error count: 0\n",
      "- best performance: 2\n",
      "- worst performance: 16\n",
      "- mean performance: 12.73109674936254\n"
     ]
    }
   ],
   "source": [
    "dragonfind_10_to_500.evaluate(my_solution2_B)"
   ]
  },
  {
   "cell_type": "markdown",
   "metadata": {},
   "source": [
    "Ez alapvetően jó megoldás, de a `found_dragon` változó nem szükséges. Csak akkor állítod át az értékét `True`-ra, mikor a következő sorban `return` szerepel, ami miatt egyébként is megáll az iteráció. Egy sima `while True`-val is működik a függvény:"
   ]
  },
  {
   "cell_type": "code",
   "execution_count": 40,
   "metadata": {},
   "outputs": [],
   "source": [
    "def my_solution2_B_jav(is_dead, number_of_cows):\n",
    "\n",
    "    min_cow = 0\n",
    "    max_cow = number_of_cows\n",
    "\n",
    "    while True:\n",
    "\n",
    "        middle_cow = (min_cow + max_cow) // 2\n",
    "\n",
    "        if is_dead(middle_cow) == True:\n",
    "            min_cow = middle_cow + 1\n",
    "\n",
    "            if is_dead(middle_cow + 1) == False:\n",
    "                return middle_cow + 1\n",
    "\n",
    "        else:\n",
    "            max_cow = middle_cow\n",
    "\n",
    "            if is_dead(middle_cow - 1) == True:\n",
    "                return middle_cow"
   ]
  },
  {
   "cell_type": "code",
   "execution_count": 41,
   "metadata": {},
   "outputs": [
    {
     "name": "stdout",
     "output_type": "stream",
     "text": [
      "- success rate: 124714/124714 (100.0%)\n",
      "- error count: 0\n",
      "- best performance: 2\n",
      "- worst performance: 16\n",
      "- mean performance: 12.73109674936254\n"
     ]
    }
   ],
   "source": [
    "dragonfind_10_to_500.evaluate(my_solution2_B_jav)"
   ]
  },
  {
   "cell_type": "markdown",
   "metadata": {},
   "source": [
    "-------------------------------"
   ]
  },
  {
   "cell_type": "code",
   "execution_count": 59,
   "metadata": {},
   "outputs": [],
   "source": [
    "def my_solution2_C(is_dead, number_of_cows):\n",
    "\n",
    "    found_dragon = False\n",
    "    min_cow = 0\n",
    "    max_cow = number_of_cows\n",
    "\n",
    "    while found_dragon == False:\n",
    "\n",
    "        middle_cow = (min_cow + max_cow) // 2\n",
    "\n",
    "        if is_dead(middle_cow) == True:\n",
    "            min_cow = middle_cow + 1\n",
    "\n",
    "        else:\n",
    "            max_cow = middle_cow\n",
    "\n",
    "        if max_cow - min_cow < 2:\n",
    "            if is_dead(min_cow) == False:\n",
    "\n",
    "                found_dragon = True\n",
    "                return min_cow\n",
    "\n",
    "            else:\n",
    "\n",
    "                return max_cow"
   ]
  },
  {
   "cell_type": "code",
   "execution_count": 21,
   "metadata": {},
   "outputs": [
    {
     "name": "stdout",
     "output_type": "stream",
     "text": [
      "- success rate: 124714/124714 (100.0%)\n",
      "- error count: 0\n",
      "- best performance: 3\n",
      "- worst performance: 9\n",
      "- mean performance: 8.48632070176564\n"
     ]
    }
   ],
   "source": [
    "dragonfind_10_to_500.evaluate(my_solution2_C)"
   ]
  },
  {
   "cell_type": "markdown",
   "metadata": {},
   "source": [
    "Ez is jó megoldás (a `found_dragon` szintén fölösleges). Ezena  második részen látszik, hogy sokat dolgoztál, és király, hogy több 100%-os megoldást is leadtál."
   ]
  }
 ],
 "metadata": {
  "kernelspec": {
   "display_name": "Python 3",
   "language": "python",
   "name": "python3"
  },
  "language_info": {
   "codemirror_mode": {
    "name": "ipython",
    "version": 3
   },
   "file_extension": ".py",
   "mimetype": "text/x-python",
   "name": "python",
   "nbconvert_exporter": "python",
   "pygments_lexer": "ipython3",
   "version": "3.7.3"
  }
 },
 "nbformat": 4,
 "nbformat_minor": 2
}
