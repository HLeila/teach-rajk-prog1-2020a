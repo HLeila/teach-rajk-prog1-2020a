{
 "cells": [
  {
   "cell_type": "markdown",
   "metadata": {},
   "source": [
    "#### find the string that contains a given letter the largest number of times\n",
    "\n",
    "if none of the strings contain the letter, return an empty string.\n",
    "upper or lower case should be ignored. if multiple strings contain the letter the same amount of time, that is the highest, return the first one\n",
    "\n",
    "> ```[\"bAbB\", \"cad\", \"BBaaCc\"], \"B\" -> \"bAbB\"```"
   ]
  },
  {
   "cell_type": "code",
   "execution_count": 12,
   "metadata": {},
   "outputs": [],
   "source": [
    "from jkg_evaluators import word_with_most_of_letters"
   ]
  },
  {
   "cell_type": "code",
   "execution_count": 10,
   "metadata": {},
   "outputs": [],
   "source": [
    "test_list_1=[\"bAbB\", \"cad\", \"BBaaCc\"]\n",
    "test_list_2=[\"xyzzs\",\"abbbczs\",\"cccc\",\"semmikulonos\"]"
   ]
  },
  {
   "cell_type": "code",
   "execution_count": 15,
   "metadata": {},
   "outputs": [],
   "source": [
    "def find_word_with_most_of_letters(list_of_strings, letter):\n",
    "    #Make a list where every string is  \n",
    "    x=list_of_strings.copy()\n",
    "    let=letter.lower()\n",
    "    \n",
    "    for i in range(0,len(list_of_strings)):\n",
    "        x[i]=list_of_strings[i].lower()\n",
    "    \n",
    "    max=0\n",
    "    index=0\n",
    "    \n",
    "    for y in x:\n",
    "        count=0\n",
    "        for z in y:\n",
    "            if z==let:\n",
    "                count=count+1\n",
    "        if max<count:\n",
    "            max=count\n",
    "            max_szo=list_of_strings[index]\n",
    "        index=index+1\n",
    "        \n",
    "    if max==0:\n",
    "        max_szo=\"\"\n",
    "    \n",
    "    return max_szo"
   ]
  },
  {
   "cell_type": "code",
   "execution_count": 16,
   "metadata": {},
   "outputs": [
    {
     "data": {
      "text/plain": [
       "'bAbB'"
      ]
     },
     "execution_count": 16,
     "metadata": {},
     "output_type": "execute_result"
    }
   ],
   "source": [
    "find_word_with_most_of_letters(test_list_1,\"B\")"
   ]
  },
  {
   "cell_type": "code",
   "execution_count": 17,
   "metadata": {},
   "outputs": [
    {
     "data": {
      "text/plain": [
       "'cccc'"
      ]
     },
     "execution_count": 17,
     "metadata": {},
     "output_type": "execute_result"
    }
   ],
   "source": [
    "find_word_with_most_of_letters(test_list_2,\"c\")"
   ]
  },
  {
   "cell_type": "code",
   "execution_count": 18,
   "metadata": {},
   "outputs": [
    {
     "name": "stdout",
     "output_type": "stream",
     "text": [
      "- success rate: 495/495 (100.0%)\n",
      "- error count: 0\n",
      "- best performance: 1\n",
      "- worst performance: 1\n",
      "- mean performance: 1.0\n"
     ]
    }
   ],
   "source": [
    "word_with_most_of_letters.evaluate(find_word_with_most_of_letters)"
   ]
  },
  {
   "cell_type": "code",
   "execution_count": null,
   "metadata": {},
   "outputs": [],
   "source": []
  }
 ],
 "metadata": {
  "kernelspec": {
   "display_name": "Python 3",
   "language": "python",
   "name": "python3"
  },
  "language_info": {
   "codemirror_mode": {
    "name": "ipython",
    "version": 3
   },
   "file_extension": ".py",
   "mimetype": "text/x-python",
   "name": "python",
   "nbconvert_exporter": "python",
   "pygments_lexer": "ipython3",
   "version": "3.7.5"
  }
 },
 "nbformat": 4,
 "nbformat_minor": 2
}
