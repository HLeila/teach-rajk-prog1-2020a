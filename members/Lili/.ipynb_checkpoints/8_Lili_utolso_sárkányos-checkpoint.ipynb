{
 "cells": [
  {
   "cell_type": "code",
   "execution_count": 1,
   "metadata": {},
   "outputs": [],
   "source": [
    "cow_alive_list_test_1 = [False, False, True, True, True]\n",
    "cow_alive_list_test_2 = [False, False, False, False, True, True, True, True, True, True]"
   ]
  },
  {
   "cell_type": "code",
   "execution_count": 2,
   "metadata": {},
   "outputs": [],
   "source": [
    "def my_solution2(cow_alive_list):\n",
    "    fat_alive_cow_index = 0\n",
    "    thin_alive_cow_index = len(cow_alive_list) - 1\n",
    "    \n",
    "    while (fat_alive_cow_index + 1) < thin_alive_cow_index:\n",
    "        middle_cow = int((fat_alive_cow_index + \n",
    "                          thin_alive_cow_index) / 2)\n",
    "        if cow_alive_list[middle_cow]:\n",
    "            thin_alive_cow_index = middle_cow\n",
    "        else:\n",
    "            fat_alive_cow_index = middle_cow\n",
    "    \n",
    "    return middle_cow + 2"
   ]
  },
  {
   "cell_type": "code",
   "execution_count": 3,
   "metadata": {},
   "outputs": [
    {
     "data": {
      "text/plain": [
       "3"
      ]
     },
     "execution_count": 3,
     "metadata": {},
     "output_type": "execute_result"
    }
   ],
   "source": [
    "my_solution2(cow_alive_list_test_1)"
   ]
  },
  {
   "cell_type": "code",
   "execution_count": 4,
   "metadata": {},
   "outputs": [
    {
     "data": {
      "text/plain": [
       "5"
      ]
     },
     "execution_count": 4,
     "metadata": {},
     "output_type": "execute_result"
    }
   ],
   "source": [
    "my_solution2(cow_alive_list_test_2)"
   ]
  },
  {
   "cell_type": "code",
   "execution_count": null,
   "metadata": {},
   "outputs": [],
   "source": [
    "#def is_alive(list,x):\n",
    "#    out=list[x-1]\n",
    "#    return out"
   ]
  },
  {
   "cell_type": "code",
   "execution_count": null,
   "metadata": {},
   "outputs": [],
   "source": [
    "#is_alive(2)"
   ]
  },
  {
   "cell_type": "code",
   "execution_count": 30,
   "metadata": {},
   "outputs": [],
   "source": [
    "def my_solution1(is_dead,number_of_cows):\n",
    "    place = 0\n",
    "    for cow_is_alive in range(1,number_of_cows):\n",
    "        place = place + 1\n",
    "        if not is_dead(cow_is_alive):\n",
    "               return place\n",
    "#Nem tudom miért nem jó, nem értem."
   ]
  },
  {
   "cell_type": "code",
   "execution_count": 31,
   "metadata": {},
   "outputs": [],
   "source": [
    "#my_solution1(is_alive,10)"
   ]
  },
  {
   "cell_type": "code",
   "execution_count": 7,
   "metadata": {},
   "outputs": [],
   "source": [
    "from jkg_evaluators import dragonfind_10_to_500"
   ]
  },
  {
   "cell_type": "code",
   "execution_count": 32,
   "metadata": {},
   "outputs": [
    {
     "name": "stdout",
     "output_type": "stream",
     "text": [
      "- success rate: 124714/124714 (100.0%)\n",
      "- error count: 0\n",
      "- best performance: 1\n",
      "- worst performance: 499\n",
      "- mean performance: 167.04724409448818\n"
     ]
    }
   ],
   "source": [
    "dragonfind_10_to_500.evaluate(my_solution1)"
   ]
  },
  {
   "cell_type": "code",
   "execution_count": 9,
   "metadata": {},
   "outputs": [],
   "source": [
    "def my_solution3(is_dead,\n",
    "                 number_of_cows):\n",
    "\n",
    "    for i in range(1, number_of_cows):\n",
    "        if not is_dead(i):\n",
    "            return i"
   ]
  },
  {
   "cell_type": "code",
   "execution_count": 10,
   "metadata": {},
   "outputs": [
    {
     "name": "stdout",
     "output_type": "stream",
     "text": [
      "- success rate: 124714/124714 (100.0%)\n",
      "- error count: 0\n",
      "- best performance: 1\n",
      "- worst performance: 499\n",
      "- mean performance: 167.04724409448818\n"
     ]
    }
   ],
   "source": [
    "dragonfind_10_to_500.evaluate(my_solution3)"
   ]
  },
  {
   "cell_type": "code",
   "execution_count": 14,
   "metadata": {},
   "outputs": [],
   "source": [
    "egg_alive_list_test = [False, False, False, False, True, True, True, True, True, True]\n",
    "egg_alive_list_test2 = [False, False, False, False, False, False, False, False, False, True]"
   ]
  },
  {
   "cell_type": "code",
   "execution_count": 39,
   "metadata": {},
   "outputs": [],
   "source": [
    "def hulye_tojas_kettes(tojas_lista):\n",
    "    for i in range(1,101,2):\n",
    "        if tojas_lista(i):\n",
    "            if tojas_lista(i-1):\n",
    "                return i-2\n",
    "            return i-1"
   ]
  },
  {
   "cell_type": "code",
   "execution_count": 54,
   "metadata": {},
   "outputs": [],
   "source": [
    "def hulye_tojas_tizes(tojas_lista):\n",
    "    for i in range(10,101,10):\n",
    "        if tojas_lista(i):\n",
    "            for j in range(i-9,i):\n",
    "                if tojas_lista(j):\n",
    "                    return j-1\n",
    "            return i-1"
   ]
  },
  {
   "cell_type": "code",
   "execution_count": 36,
   "metadata": {},
   "outputs": [],
   "source": [
    "def hulye_tojas_sima(tojas_lista):\n",
    "    for i in range(1,101):\n",
    "        if tojas_lista(i):\n",
    "            return i-1\n"
   ]
  },
  {
   "cell_type": "code",
   "execution_count": 20,
   "metadata": {},
   "outputs": [],
   "source": [
    "from jkg_evaluators import eggdrop_100floor_2egg"
   ]
  },
  {
   "cell_type": "code",
   "execution_count": 55,
   "metadata": {},
   "outputs": [
    {
     "name": "stdout",
     "output_type": "stream",
     "text": [
      "- success rate: 100/101 (99.0%)\n",
      "- error count: 0\n",
      "- best performance: 2\n",
      "- worst performance: 19\n",
      "- mean performance: 10.891089108910892\n",
      "\n",
      "\n",
      " BAD SOLUTION at: \n",
      " {'egg_count': 2, 'floor_count': 100, 'max_floor': 100}\n"
     ]
    }
   ],
   "source": [
    "eggdrop_100floor_2egg.evaluate(hulye_tojas_tizes)"
   ]
  },
  {
   "cell_type": "code",
   "execution_count": 41,
   "metadata": {},
   "outputs": [
    {
     "name": "stdout",
     "output_type": "stream",
     "text": [
      "- success rate: 100/101 (99.0%)\n",
      "- error count: 0\n",
      "- best performance: 1\n",
      "- worst performance: 100\n",
      "- mean performance: 50.99009900990099\n",
      "\n",
      "\n",
      " BAD SOLUTION at: \n",
      " {'egg_count': 2, 'floor_count': 100, 'max_floor': 100}\n"
     ]
    }
   ],
   "source": [
    "eggdrop_100floor_2egg.evaluate(hulye_tojas_sima)"
   ]
  },
  {
   "cell_type": "code",
   "execution_count": null,
   "metadata": {},
   "outputs": [],
   "source": []
  }
 ],
 "metadata": {
  "kernelspec": {
   "display_name": "Python 3",
   "language": "python",
   "name": "python3"
  },
  "language_info": {
   "codemirror_mode": {
    "name": "ipython",
    "version": 3
   },
   "file_extension": ".py",
   "mimetype": "text/x-python",
   "name": "python",
   "nbconvert_exporter": "python",
   "pygments_lexer": "ipython3",
   "version": "3.7.3"
  }
 },
 "nbformat": 4,
 "nbformat_minor": 2
}
