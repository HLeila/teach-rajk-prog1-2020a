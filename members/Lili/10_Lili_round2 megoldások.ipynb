{
 "cells": [
  {
   "cell_type": "code",
   "execution_count": 3,
   "metadata": {},
   "outputs": [],
   "source": [
    "import sys\n",
    "sys.path.insert(0, '..')\n",
    "from __import_file__ import AB\n",
    "from __import_file__ import Roli\n",
    "from __import_file__ import Dani\n",
    "from __import_file__ import Meszi\n",
    "from __import_file__ import Marci\n",
    "from __import_file__ import Bori\n",
    "from __import_file__ import Leila\n",
    "from __import_file__ import Sara\n",
    "from __import_file__ import Mark\n",
    "from __import_file__ import Lili"
   ]
  },
  {
   "cell_type": "markdown",
   "metadata": {},
   "source": [
    "## AB"
   ]
  },
  {
   "cell_type": "code",
   "execution_count": 6,
   "metadata": {},
   "outputs": [],
   "source": [
    "def AB_solution(n):\n",
    "    # modify this function\n",
    "    # return value and parameters and all\n",
    "    lm=0\n",
    "    #nem tudom, hogy milyen értéket kéne adni lm-nek\n",
    "    n.sort(reverse=True)\n",
    "    valtozo1=n[0]\n",
    "    valtozo2=n[1]\n",
    "    szorzat_legnagyobb=valtozo1 * valtozo2\n",
    "    valtozo3=n[-1]\n",
    "    valtozo4=n[-2]\n",
    "    szorzat_legkisebb=valtozo3 * valtozo4\n",
    "    \n",
    "    if szorzat_legnagyobb>szorzat_legkisebb:\n",
    "        return szorzat_legnagyobb\n",
    "    return szorzat_legkisebb"
   ]
  },
  {
   "cell_type": "code",
   "execution_count": 7,
   "metadata": {},
   "outputs": [
    {
     "name": "stdout",
     "output_type": "stream",
     "text": [
      "- success rate: 497/497 (100.0%)\n",
      "- error count: 0\n",
      "- best performance: 1\n",
      "- worst performance: 1\n",
      "- mean performance: 1.0\n"
     ]
    }
   ],
   "source": [
    "AB.evaluate(AB_solution)"
   ]
  },
  {
   "cell_type": "markdown",
   "metadata": {},
   "source": [
    "## Roli"
   ]
  },
  {
   "cell_type": "code",
   "execution_count": 31,
   "metadata": {},
   "outputs": [],
   "source": [
    "def Roli_solution(list_of_strings,string):\n",
    "    count=0\n",
    "    for i in list_of_strings:\n",
    "        for letter in i:\n",
    "            if letter==string.lower() or letter==string.upper():\n",
    "                count=count+1\n",
    "                break\n",
    "    return count\n",
    "            \n",
    "    "
   ]
  },
  {
   "cell_type": "code",
   "execution_count": 32,
   "metadata": {},
   "outputs": [
    {
     "name": "stdout",
     "output_type": "stream",
     "text": [
      "- success rate: 495/495 (100.0%)\n",
      "- error count: 0\n",
      "- best performance: 1\n",
      "- worst performance: 1\n",
      "- mean performance: 1.0\n"
     ]
    }
   ],
   "source": [
    "Roli.evaluate(Roli_solution)"
   ]
  },
  {
   "cell_type": "markdown",
   "metadata": {},
   "source": [
    "## Dani"
   ]
  },
  {
   "cell_type": "code",
   "execution_count": 23,
   "metadata": {},
   "outputs": [],
   "source": [
    "def Dani_solution(list_of_words):\n",
    "    count=0\n",
    "    a=[]\n",
    "    for word in list_of_words:\n",
    "        for letter in word:\n",
    "            if letter=='a' or letter=='A':\n",
    "                count=count+1\n",
    "        a.append(count)\n",
    "        count=0\n",
    "    b=a.copy()\n",
    "    b.sort()    \n",
    "    legnagyobb=b[-1]\n",
    "    \n",
    "    if legnagyobb==0:\n",
    "        return -1\n",
    "    return a.index(legnagyobb)"
   ]
  },
  {
   "cell_type": "code",
   "execution_count": 24,
   "metadata": {},
   "outputs": [
    {
     "name": "stdout",
     "output_type": "stream",
     "text": [
      "- success rate: 495/495 (100.0%)\n",
      "- error count: 0\n",
      "- best performance: 1\n",
      "- worst performance: 1\n",
      "- mean performance: 1.0\n"
     ]
    }
   ],
   "source": [
    "Dani.evaluate(Dani_solution)"
   ]
  },
  {
   "cell_type": "markdown",
   "metadata": {},
   "source": [
    "## Mészi"
   ]
  },
  {
   "cell_type": "code",
   "execution_count": 27,
   "metadata": {},
   "outputs": [],
   "source": [
    "def Meszi_solution(list_of_numbers,number):\n",
    "    x=float(\"-inf\")\n",
    "    lista=[]\n",
    "    for szam in list_of_numbers:\n",
    "        if (szam/number)%2==0:\n",
    "            lista.append(szam)\n",
    "    for szam in lista:\n",
    "        if szam>x:\n",
    "            x=szam\n",
    "    if len(lista)==0:\n",
    "        return 0\n",
    "    return x"
   ]
  },
  {
   "cell_type": "code",
   "execution_count": 28,
   "metadata": {},
   "outputs": [
    {
     "name": "stdout",
     "output_type": "stream",
     "text": [
      "- success rate: 497/497 (100.0%)\n",
      "- error count: 0\n",
      "- best performance: 1\n",
      "- worst performance: 1\n",
      "- mean performance: 1.0\n"
     ]
    }
   ],
   "source": [
    "Meszi.evaluate(Meszi_solution)"
   ]
  },
  {
   "cell_type": "markdown",
   "metadata": {},
   "source": [
    "## Marci"
   ]
  },
  {
   "cell_type": "code",
   "execution_count": 14,
   "metadata": {},
   "outputs": [],
   "source": [
    "def Marci_solution(list_of_numbers,number):\n",
    "    list_of_numbers.reverse()\n",
    "    for szam in list_of_numbers:\n",
    "        if (szam-number)%3==0:\n",
    "            return szam\n",
    "    return 0"
   ]
  },
  {
   "cell_type": "code",
   "execution_count": 15,
   "metadata": {},
   "outputs": [
    {
     "name": "stdout",
     "output_type": "stream",
     "text": [
      "- success rate: 497/497 (100.0%)\n",
      "- error count: 0\n",
      "- best performance: 1\n",
      "- worst performance: 1\n",
      "- mean performance: 1.0\n"
     ]
    }
   ],
   "source": [
    "Marci.evaluate(Marci_solution)"
   ]
  },
  {
   "cell_type": "markdown",
   "metadata": {},
   "source": [
    "## Bori"
   ]
  },
  {
   "cell_type": "code",
   "execution_count": null,
   "metadata": {},
   "outputs": [],
   "source": [
    "def Bori_solution():\n",
    "    # modify this function\n",
    "    # return value and parameters and all\n",
    "    return 0"
   ]
  },
  {
   "cell_type": "code",
   "execution_count": null,
   "metadata": {},
   "outputs": [],
   "source": [
    "Bori.evaluate(Bori_solution)"
   ]
  },
  {
   "cell_type": "markdown",
   "metadata": {},
   "source": [
    "## Leila"
   ]
  },
  {
   "cell_type": "code",
   "execution_count": 12,
   "metadata": {},
   "outputs": [],
   "source": [
    "def Leila_solution(lista):\n",
    "    uj_lista=[]\n",
    "    for szam in lista:\n",
    "        for i in lista:\n",
    "            if i/2==szam:\n",
    "                uj_lista.append(szam)\n",
    "                \n",
    "    if len(uj_lista)==0:\n",
    "        return 0\n",
    "    uj_lista.sort()\n",
    "    return uj_lista[0]"
   ]
  },
  {
   "cell_type": "code",
   "execution_count": 13,
   "metadata": {},
   "outputs": [
    {
     "name": "stdout",
     "output_type": "stream",
     "text": [
      "- success rate: 497/497 (100.0%)\n",
      "- error count: 0\n",
      "- best performance: 1\n",
      "- worst performance: 1\n",
      "- mean performance: 1.0\n"
     ]
    }
   ],
   "source": [
    "Leila.evaluate(Leila_solution)"
   ]
  },
  {
   "cell_type": "markdown",
   "metadata": {},
   "source": [
    "## Sára"
   ]
  },
  {
   "cell_type": "code",
   "execution_count": 37,
   "metadata": {},
   "outputs": [],
   "source": [
    "def Sara_solution(list_of_numbers):\n",
    "    x=0\n",
    "    y=list(set(list_of_numbers))\n",
    "    for i in y:\n",
    "        if i>0:\n",
    "            if i%2==1:\n",
    "                x=x+i\n",
    "    return x\n"
   ]
  },
  {
   "cell_type": "code",
   "execution_count": 36,
   "metadata": {},
   "outputs": [
    {
     "name": "stdout",
     "output_type": "stream",
     "text": [
      "- success rate: 497/497 (100.0%)\n",
      "- error count: 0\n",
      "- best performance: 1\n",
      "- worst performance: 1\n",
      "- mean performance: 1.0\n"
     ]
    }
   ],
   "source": [
    "Sara.evaluate(Sara_solution)"
   ]
  },
  {
   "cell_type": "markdown",
   "metadata": {},
   "source": [
    "## Márk"
   ]
  },
  {
   "cell_type": "code",
   "execution_count": 56,
   "metadata": {},
   "outputs": [],
   "source": [
    "def Mark_solution(list_of_numbers):\n",
    "    lista1=[] #pozitív számok\n",
    "    lista2=[] #negatív számok\n",
    "    for szam in list_of_numbers:\n",
    "        if szam>0:\n",
    "            lista1.append(szam)\n",
    "        if szam<0:\n",
    "            lista2.append(szam*-1)\n",
    "    #negyedik lépés\n",
    "    lista3=[] #pozitív számok\n",
    "    for szam in lista1:\n",
    "        x=str(szam)\n",
    "        y=list(x)\n",
    "        lista3.append(y)\n",
    "    #ötödik lépés\n",
    "    lista4=[] #negatív\n",
    "    for szam in lista2:\n",
    "        x=str(szam)\n",
    "        y=list(x)\n",
    "        lista4.append(y)\n",
    "    #Hatodik lépés\n",
    "    lista5=[] #pozitív\n",
    "    for szam in lista3:\n",
    "        if len(szam)==1:\n",
    "            lista5.append(szam)\n",
    "        if len(szam)==2:\n",
    "            if szam[0]<=szam[1]:\n",
    "                mitortenik=[''.join(szam)]\n",
    "                lista5.append(mitortenik)\n",
    "        if len(szam)==3:\n",
    "            if szam[0]>szam[1]:\n",
    "                M=\"menj tovább hülye függvény\"\n",
    "            elif szam[1]>szam[2]:\n",
    "                M=\"menj tovább hülye függvény\"\n",
    "            else:\n",
    "                mitortenik=[''.join(szam)]\n",
    "                lista5.append(mitortenik)\n",
    "    #Hetedik lépés\n",
    "    lista6=[] #negatív\n",
    "    for szam in lista4:\n",
    "        if len(szam)==1:\n",
    "            lista6.append(szam)\n",
    "        if len(szam)==2:\n",
    "            if szam[0]<=szam[1]:\n",
    "                mitortenik=[''.join(szam)]\n",
    "                lista6.append(mitortenik)\n",
    "        if len(szam)==3:\n",
    "            if szam[0]>szam[1]:\n",
    "                M=\"menj tovább hülye függvény\"\n",
    "            elif szam[1]>szam[2]:\n",
    "                M=\"menj tovább hülye függvény\"\n",
    "            else:\n",
    "                mitortenik=[''.join(szam)]\n",
    "                lista6.append(mitortenik)\n",
    "    \n",
    "    #Nyolcadik lépés\n",
    "    lista7=[] #pozitív\n",
    "    for szam in lista5:\n",
    "        x=int(szam[0])\n",
    "        lista7.append(x)\n",
    "    lista7.sort(reverse=True)\n",
    "    #Kilencedik lépés\n",
    "    lista8=[] #negatív\n",
    "    for szam in lista6:\n",
    "        x=int(szam[0])*-1\n",
    "        lista8.append(x)\n",
    "    lista8.sort()\n",
    "    #Tizedik lépés\n",
    "    lista9=[]\n",
    "    lista9.extend(lista7)\n",
    "    lista9.extend(lista8)\n",
    "    lista9.sort(reverse=True)\n",
    "    \n",
    "    if len(lista9)==0:\n",
    "        lista9.append(0)\n",
    "    return lista9[0]"
   ]
  },
  {
   "cell_type": "code",
   "execution_count": 57,
   "metadata": {},
   "outputs": [
    {
     "name": "stdout",
     "output_type": "stream",
     "text": [
      "- success rate: 497/497 (100.0%)\n",
      "- error count: 0\n",
      "- best performance: 1\n",
      "- worst performance: 1\n",
      "- mean performance: 1.0\n"
     ]
    }
   ],
   "source": [
    "Mark.evaluate(Mark_solution)"
   ]
  },
  {
   "cell_type": "markdown",
   "metadata": {},
   "source": [
    "## Lili"
   ]
  },
  {
   "cell_type": "code",
   "execution_count": 40,
   "metadata": {},
   "outputs": [],
   "source": [
    "def Lili_solution(list_of_strings, letter):\n",
    "    x=list_of_strings.copy()\n",
    "    let=letter.lower()\n",
    "    \n",
    "    for i in range(0,len(list_of_strings)):\n",
    "        x[i]=list_of_strings[i].lower()\n",
    "    \n",
    "    max=0\n",
    "    index=0\n",
    "    \n",
    "    for y in x:\n",
    "        count=0\n",
    "        for z in y:\n",
    "            if z==let:\n",
    "                count=count+1\n",
    "        if max<count:\n",
    "            max=count\n",
    "            max_szo=list_of_strings[index]\n",
    "        index=index+1\n",
    "        \n",
    "    if max==0:\n",
    "        max_szo=\"\"\n",
    "    \n",
    "    return max_szo"
   ]
  },
  {
   "cell_type": "code",
   "execution_count": 41,
   "metadata": {},
   "outputs": [
    {
     "name": "stdout",
     "output_type": "stream",
     "text": [
      "- success rate: 495/495 (100.0%)\n",
      "- error count: 0\n",
      "- best performance: 1\n",
      "- worst performance: 1\n",
      "- mean performance: 1.0\n"
     ]
    }
   ],
   "source": [
    "Lili.evaluate(Lili_solution)"
   ]
  },
  {
   "cell_type": "code",
   "execution_count": null,
   "metadata": {},
   "outputs": [],
   "source": []
  }
 ],
 "metadata": {
  "kernelspec": {
   "display_name": "Python 3",
   "language": "python",
   "name": "python3"
  },
  "language_info": {
   "codemirror_mode": {
    "name": "ipython",
    "version": 3
   },
   "file_extension": ".py",
   "mimetype": "text/x-python",
   "name": "python",
   "nbconvert_exporter": "python",
   "pygments_lexer": "ipython3",
   "version": "3.7.5"
  }
 },
 "nbformat": 4,
 "nbformat_minor": 2
}
