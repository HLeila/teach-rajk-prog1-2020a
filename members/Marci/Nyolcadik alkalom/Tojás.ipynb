{
 "cells": [
  {
   "cell_type": "markdown",
   "metadata": {},
   "source": [
    "We have a 100 story building and 2 eggs. we want to check what is the highest floor from where we can throw out an egg and it doesn’t break. we want to find this out for sure by attempting the least amount of throws possible\n",
    "a solution is a function where\n",
    "\n",
    "parameters:\n",
    "\n",
    "a function: it takes an integer parameter of the floor number and returns a boolean value of whether the egg breaks or not\n",
    "\n",
    "returns: an integer, the number of the highest floor where the egg doesn’t break\n",
    "it throws the egg the least amount of times possible, after it breaks the second egg, it does not throw anymore"
   ]
  },
  {
   "cell_type": "code",
   "execution_count": 3,
   "metadata": {},
   "outputs": [],
   "source": [
    "from jkg_evaluators import eggdrop_100floor_2egg"
   ]
  },
  {
   "cell_type": "code",
   "execution_count": 10,
   "metadata": {},
   "outputs": [],
   "source": [
    "def my_solution1(breaks):\n",
    "\n",
    "    for i in range(1,102,2):\n",
    "        if breaks(i):\n",
    "            for i in range(i-2,102,1):\n",
    "                if breaks(i):\n",
    "                    return i - 1\n",
    "        elif i == 100: \n",
    "                return 100\n",
    "                "
   ]
  },
  {
   "cell_type": "code",
   "execution_count": 11,
   "metadata": {
    "scrolled": true
   },
   "outputs": [
    {
     "name": "stdout",
     "output_type": "stream",
     "text": [
      "- success rate: 101/101 (100.0%)\n",
      "- error count: 0\n",
      "- best performance: 4\n",
      "- worst performance: 54\n",
      "- mean performance: 28.752475247524753\n"
     ]
    }
   ],
   "source": [
    "eggdrop_100floor_2egg.evaluate(my_solution1)"
   ]
  },
  {
   "cell_type": "code",
   "execution_count": 16,
   "metadata": {},
   "outputs": [],
   "source": [
    "def my_solution2(breaks):\n",
    "    for i in range(0,102,3):\n",
    "        if breaks(i) and i-2>0:\n",
    "            if breaks(i-2):\n",
    "                return i-3\n",
    "            else:\n",
    "                if breaks(i-1):\n",
    "                    return i-2\n",
    "                else:\n",
    "                    return i-1\n",
    "        elif i == 100:\n",
    "                return 100\n",
    "                \n",
    "                    "
   ]
  },
  {
   "cell_type": "code",
   "execution_count": 17,
   "metadata": {},
   "outputs": [
    {
     "name": "stdout",
     "output_type": "stream",
     "text": [
      "- success rate: 99/101 (98.0%)\n",
      "- error count: 0\n",
      "- best performance: 3\n",
      "- worst performance: 36\n",
      "- mean performance: 19.95049504950495\n",
      "\n",
      "\n",
      " BAD SOLUTION at: \n",
      " {'egg_count': 2, 'floor_count': 100, 'max_floor': 99}\n",
      "\n",
      "\n",
      " BAD SOLUTION at: \n",
      " {'egg_count': 2, 'floor_count': 100, 'max_floor': 100}\n"
     ]
    }
   ],
   "source": [
    "eggdrop_100floor_2egg.evaluate(my_solution2)"
   ]
  },
  {
   "cell_type": "code",
   "execution_count": 110,
   "metadata": {},
   "outputs": [],
   "source": [
    "def my_solution3(breaks):\n",
    "    for i in range(0,101,4):\n",
    "        if breaks(i) and i>4:\n",
    "            if breaks(i-3):\n",
    "                return i-4\n",
    "            else:\n",
    "                if breaks(i-2):\n",
    "                    return i-3\n",
    "                else:\n",
    "                    if breaks(i-1):\n",
    "                        return i-2\n",
    "                    else:\n",
    "                        return i-1\n",
    "            \n",
    "        elif i == 100:\n",
    "                return 100\n",
    "                "
   ]
  },
  {
   "cell_type": "code",
   "execution_count": 111,
   "metadata": {
    "scrolled": true
   },
   "outputs": [
    {
     "name": "stdout",
     "output_type": "stream",
     "text": [
      "- success rate: 97/101 (96.0%)\n",
      "- error count: 0\n",
      "- best performance: 4\n",
      "- worst performance: 29\n",
      "- mean performance: 16.336633663366335\n",
      "\n",
      "\n",
      " BAD SOLUTION at: \n",
      " {'egg_count': 2, 'floor_count': 100, 'max_floor': 0}\n",
      "\n",
      "\n",
      " BAD SOLUTION at: \n",
      " {'egg_count': 2, 'floor_count': 100, 'max_floor': 1}\n",
      "\n",
      "\n",
      " BAD SOLUTION at: \n",
      " {'egg_count': 2, 'floor_count': 100, 'max_floor': 2}\n",
      "\n",
      "\n",
      " BAD SOLUTION at: \n",
      " {'egg_count': 2, 'floor_count': 100, 'max_floor': 3}\n"
     ]
    }
   ],
   "source": [
    "eggdrop_100floor_2egg.evaluate(my_solution3)"
   ]
  },
  {
   "cell_type": "code",
   "execution_count": 58,
   "metadata": {},
   "outputs": [],
   "source": [
    "def my_solution4(breaks):\n",
    "    for i in range(0,101,10):\n",
    "        if breaks(i) and i>9:\n",
    "            for i in range((i-10),(i),1):\n",
    "                if breaks(i):\n",
    "                    return i-1\n",
    "        elif breaks(i) and i<=9:\n",
    "            for i in range(-1,11,1):\n",
    "                if breaks(i):\n",
    "                    return i-1\n",
    "     \n",
    "                \n"
   ]
  },
  {
   "cell_type": "code",
   "execution_count": 59,
   "metadata": {
    "scrolled": false
   },
   "outputs": [
    {
     "name": "stdout",
     "output_type": "stream",
     "text": [
      "- success rate: 90/101 (89.0%)\n",
      "- error count: 0\n",
      "- best performance: 5\n",
      "- worst performance: 31\n",
      "- mean performance: 18.613861386138613\n",
      "\n",
      "\n",
      " BAD SOLUTION at: \n",
      " {'egg_count': 2, 'floor_count': 100, 'max_floor': 9}\n",
      "\n",
      "\n",
      " BAD SOLUTION at: \n",
      " {'egg_count': 2, 'floor_count': 100, 'max_floor': 19}\n",
      "\n",
      "\n",
      " BAD SOLUTION at: \n",
      " {'egg_count': 2, 'floor_count': 100, 'max_floor': 29}\n",
      "\n",
      "\n",
      " BAD SOLUTION at: \n",
      " {'egg_count': 2, 'floor_count': 100, 'max_floor': 39}\n",
      "\n",
      "\n",
      " BAD SOLUTION at: \n",
      " {'egg_count': 2, 'floor_count': 100, 'max_floor': 49}\n",
      "\n",
      "\n",
      " BAD SOLUTION at: \n",
      " {'egg_count': 2, 'floor_count': 100, 'max_floor': 59}\n",
      "\n",
      "\n",
      " BAD SOLUTION at: \n",
      " {'egg_count': 2, 'floor_count': 100, 'max_floor': 69}\n",
      "\n",
      "\n",
      " BAD SOLUTION at: \n",
      " {'egg_count': 2, 'floor_count': 100, 'max_floor': 79}\n",
      "\n",
      "\n",
      " BAD SOLUTION at: \n",
      " {'egg_count': 2, 'floor_count': 100, 'max_floor': 89}\n",
      "\n",
      "\n",
      " BAD SOLUTION at: \n",
      " {'egg_count': 2, 'floor_count': 100, 'max_floor': 99}\n"
     ]
    }
   ],
   "source": [
    "eggdrop_100floor_2egg.evaluate(my_solution4)"
   ]
  },
  {
   "cell_type": "code",
   "execution_count": 60,
   "metadata": {},
   "outputs": [],
   "source": [
    "def my_solution5(breaks):\n",
    "    for i in range(0,101,10):\n",
    "        if breaks(i) and i>5:\n",
    "            for i in range(i-4,i,1):\n",
    "                if breaks(i):\n",
    "                    return i-1\n",
    "        elif breaks(i) and i<=5:\n",
    "            for i in range(0,5,1):\n",
    "                if breaks(i):\n",
    "                    return i-1\n",
    "     \n",
    "                "
   ]
  },
  {
   "cell_type": "code",
   "execution_count": 62,
   "metadata": {},
   "outputs": [
    {
     "name": "stdout",
     "output_type": "stream",
     "text": [
      "- success rate: 40/101 (40.0%)\n",
      "- error count: 0\n",
      "- best performance: 4\n",
      "- worst performance: 25\n",
      "- mean performance: 14.158415841584159\n",
      "\n",
      "\n",
      " BAD SOLUTION at: \n",
      " {'egg_count': 2, 'floor_count': 100, 'max_floor': 0}\n",
      "\n",
      "\n",
      " BAD SOLUTION at: \n",
      " {'egg_count': 2, 'floor_count': 100, 'max_floor': 1}\n",
      "\n",
      "\n",
      " BAD SOLUTION at: \n",
      " {'egg_count': 2, 'floor_count': 100, 'max_floor': 2}\n",
      "\n",
      "\n",
      " BAD SOLUTION at: \n",
      " {'egg_count': 2, 'floor_count': 100, 'max_floor': 3}\n",
      "\n",
      "\n",
      " BAD SOLUTION at: \n",
      " {'egg_count': 2, 'floor_count': 100, 'max_floor': 4}\n",
      "\n",
      "\n",
      " BAD SOLUTION at: \n",
      " {'egg_count': 2, 'floor_count': 100, 'max_floor': 9}\n",
      "\n",
      "\n",
      " BAD SOLUTION at: \n",
      " {'egg_count': 2, 'floor_count': 100, 'max_floor': 10}\n",
      "\n",
      "\n",
      " BAD SOLUTION at: \n",
      " {'egg_count': 2, 'floor_count': 100, 'max_floor': 11}\n",
      "\n",
      "\n",
      " BAD SOLUTION at: \n",
      " {'egg_count': 2, 'floor_count': 100, 'max_floor': 12}\n",
      "\n",
      "\n",
      " BAD SOLUTION at: \n",
      " {'egg_count': 2, 'floor_count': 100, 'max_floor': 13}\n"
     ]
    }
   ],
   "source": [
    "eggdrop_100floor_2egg.evaluate(my_solution5)"
   ]
  },
  {
   "cell_type": "code",
   "execution_count": 13,
   "metadata": {},
   "outputs": [],
   "source": [
    "def my_solution6(breaks):\n",
    "    for i in range(0,101,4):\n",
    "        if breaks(i) and i>4: \n",
    "            #A 4 hibás esetet itt az i>4 jelenti, mert ugye az i értéke egyszer 4et is fevesz és ha ekkor eltörik a tojás,\n",
    "            #akkor ha pont 4 a törés akkor jót az vissza, mert a 8nál való törés jól megoldja, viszont 0-3 hibát ad mert\n",
    "            # nincs olyan ága az elágazásnak ami alá belépne. \n",
    "            if breaks(i-3): #Ezt az elágazást egy iterációval ki lehetne váltani. pl for j in range(1, 4): if breaks(i - 4 + j) return i - j + vagy valami hasonló\n",
    "                return i-4\n",
    "            else:\n",
    "                if breaks(i-2):\n",
    "                    return i-3\n",
    "                else:\n",
    "                    if breaks(i-1):\n",
    "                        return i-2\n",
    "                    else:\n",
    "                        return i-1\n",
    "            \n",
    "        elif i == 100:\n",
    "                print(i)\n",
    "                return 100\n",
    "        elif breaks(i):\n",
    "            print(i)"
   ]
  },
  {
   "cell_type": "code",
   "execution_count": 14,
   "metadata": {},
   "outputs": [
    {
     "name": "stdout",
     "output_type": "stream",
     "text": [
      "4\n",
      "4\n",
      "4\n",
      "4\n",
      "100\n",
      "- success rate: 97/101 (96.0%)\n",
      "- error count: 0\n",
      "- best performance: 6\n",
      "- worst performance: 54\n",
      "- mean performance: 29.495049504950494\n",
      "\n",
      "\n",
      " BAD SOLUTION at: \n",
      " {'egg_count': 2, 'floor_count': 100, 'max_floor': 0}\n",
      "\n",
      "\n",
      " BAD SOLUTION at: \n",
      " {'egg_count': 2, 'floor_count': 100, 'max_floor': 1}\n",
      "\n",
      "\n",
      " BAD SOLUTION at: \n",
      " {'egg_count': 2, 'floor_count': 100, 'max_floor': 2}\n",
      "\n",
      "\n",
      " BAD SOLUTION at: \n",
      " {'egg_count': 2, 'floor_count': 100, 'max_floor': 3}\n"
     ]
    }
   ],
   "source": [
    "eggdrop_100floor_2egg.evaluate(my_solution6)"
   ]
  },
  {
   "cell_type": "markdown",
   "metadata": {},
   "source": [
    "Máskor kicsit jobban letisztított kódot adj le ha kérhetem. Ebben van 6 különböző megoldás, ahol azért vannak átfedések. Nyugodtan leadhatsz több különböző megoldást, csak akkor valami leírást azért írj, hogy ezeket nézzem meg, vagy itt pl ez lenne a kérdésed és ezért írtad ezt...\n",
    "Az egyes az jó, a többiben igazából a lépésköz és az elágazás kombinációja okoz problémát, egyébkként jók. "
   ]
  }
 ],
 "metadata": {
  "kernelspec": {
   "display_name": "Python 3",
   "language": "python",
   "name": "python3"
  },
  "language_info": {
   "codemirror_mode": {
    "name": "ipython",
    "version": 3
   },
   "file_extension": ".py",
   "mimetype": "text/x-python",
   "name": "python",
   "nbconvert_exporter": "python",
   "pygments_lexer": "ipython3",
   "version": "3.8.2"
  }
 },
 "nbformat": 4,
 "nbformat_minor": 2
}
