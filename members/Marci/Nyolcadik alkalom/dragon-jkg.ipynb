{
 "cells": [
  {
   "cell_type": "markdown",
   "metadata": {},
   "source": [
    "parameters:\n",
    "\n",
    "is_dead: function, it takes an integer parameter of the cows rank in the weight contest and returns a boolean value of whether a cow is dead or not\n",
    "\n",
    "number_of_cows: int, the number of cows in the kingdom\n",
    "\n",
    "returns:an integer, the rank of the largest (the one with the smallest rank) cow that is alive\n",
    "and it checks the least amount of cows possible"
   ]
  },
  {
   "cell_type": "code",
   "execution_count": 1,
   "metadata": {
    "scrolled": false
   },
   "outputs": [
    {
     "name": "stdout",
     "output_type": "stream",
     "text": [
      "Requirement already satisfied: jkg_evaluators in c:\\users\\thinkpad\\anaconda3\\lib\\site-packages (0.0.2)\n",
      "Note: you may need to restart the kernel to use updated packages.\n"
     ]
    }
   ],
   "source": [
    "pip install jkg_evaluators"
   ]
  },
  {
   "cell_type": "code",
   "execution_count": 3,
   "metadata": {},
   "outputs": [],
   "source": [
    "from jkg_evaluators import dragonfind_10_to_500"
   ]
  },
  {
   "cell_type": "code",
   "execution_count": 15,
   "metadata": {},
   "outputs": [],
   "source": [
    "def my_solution2(is_dead,\n",
    "                 number_of_cows):\n",
    "    \n",
    "    cows_alive = number_of_cows\n",
    "    fat_alive_cow_index = 0\n",
    "    thin_alive_cow_index = cows_alive - 1\n",
    "    \n",
    "    while (fat_alive_cow_index + 1) < thin_alive_cow_index:\n",
    "        middle_cow = int( cows_alive / 2)\n",
    "        if is_dead(middle_cow):\n",
    "            return middle_cow\n",
    "        else:\n",
    "            thin_alive_cow_index = middle_cow\n",
    "    \n",
    "    return middle_cow + 1"
   ]
  },
  {
   "cell_type": "code",
   "execution_count": 10,
   "metadata": {},
   "outputs": [],
   "source": [
    "def my_solution2(is_dead,\n",
    "                 number_of_cows):\n",
    "    \n",
    "    middle_cow = int(number_of_cows / 2)\n",
    "\n",
    "    if is_dead(middle_cow):\n",
    "\n",
    "        for i in range(middle_cow, number_of_cows - 1):\n",
    "            if not is_dead(i):\n",
    "                return i\n",
    "\n",
    "    else:\n",
    "\n",
    "        for i in range(1, middle_cow):\n",
    "            if not is_dead(i):\n",
    "                return i"
   ]
  },
  {
   "cell_type": "code",
   "execution_count": 11,
   "metadata": {
    "scrolled": true
   },
   "outputs": [
    {
     "name": "stdout",
     "output_type": "stream",
     "text": [
      "- success rate: 123732/124714 (99.0%)\n",
      "- error count: 0\n",
      "- best performance: 2\n",
      "- worst performance: 250\n",
      "- mean performance: 85.26525490321856\n",
      "\n",
      "\n",
      " BAD SOLUTION at: \n",
      " {'number_of_cows': 10, 'dragon_coming_to': 5}\n",
      "\n",
      "\n",
      " BAD SOLUTION at: \n",
      " {'number_of_cows': 10, 'dragon_coming_to': 9}\n",
      "\n",
      "\n",
      " BAD SOLUTION at: \n",
      " {'number_of_cows': 11, 'dragon_coming_to': 5}\n",
      "\n",
      "\n",
      " BAD SOLUTION at: \n",
      " {'number_of_cows': 11, 'dragon_coming_to': 10}\n",
      "\n",
      "\n",
      " BAD SOLUTION at: \n",
      " {'number_of_cows': 12, 'dragon_coming_to': 6}\n",
      "\n",
      "\n",
      " BAD SOLUTION at: \n",
      " {'number_of_cows': 12, 'dragon_coming_to': 11}\n",
      "\n",
      "\n",
      " BAD SOLUTION at: \n",
      " {'number_of_cows': 13, 'dragon_coming_to': 6}\n",
      "\n",
      "\n",
      " BAD SOLUTION at: \n",
      " {'number_of_cows': 13, 'dragon_coming_to': 12}\n",
      "\n",
      "\n",
      " BAD SOLUTION at: \n",
      " {'number_of_cows': 14, 'dragon_coming_to': 7}\n",
      "\n",
      "\n",
      " BAD SOLUTION at: \n",
      " {'number_of_cows': 14, 'dragon_coming_to': 13}\n"
     ]
    }
   ],
   "source": [
    "dragonfind_10_to_500.evaluate(my_solution2)"
   ]
  },
  {
   "cell_type": "code",
   "execution_count": 12,
   "metadata": {},
   "outputs": [],
   "source": [
    "def my_solution1(is_dead,\n",
    "                 number_of_cows):\n",
    "    \n",
    "    for cow_is_alive in range(1, number_of_cows):\n",
    "        if is_dead(cow_is_alive) == True:\n",
    "            return is_dead(cow_is_alive)\n",
    "    \n",
    "    return cow_is_alive"
   ]
  },
  {
   "cell_type": "code",
   "execution_count": 13,
   "metadata": {
    "scrolled": false
   },
   "outputs": [
    {
     "name": "stdout",
     "output_type": "stream",
     "text": [
      "- success rate: 0/124714 (0.0%)\n",
      "- error count: 0\n",
      "- best performance: 2\n",
      "- worst performance: 499\n",
      "- mean performance: 2.9921259842519685\n",
      "\n",
      "\n",
      " BAD SOLUTION at: \n",
      " {'number_of_cows': 10, 'dragon_coming_to': 1}\n",
      "\n",
      "\n",
      " BAD SOLUTION at: \n",
      " {'number_of_cows': 10, 'dragon_coming_to': 2}\n",
      "\n",
      "\n",
      " BAD SOLUTION at: \n",
      " {'number_of_cows': 10, 'dragon_coming_to': 3}\n",
      "\n",
      "\n",
      " BAD SOLUTION at: \n",
      " {'number_of_cows': 10, 'dragon_coming_to': 4}\n",
      "\n",
      "\n",
      " BAD SOLUTION at: \n",
      " {'number_of_cows': 10, 'dragon_coming_to': 5}\n",
      "\n",
      "\n",
      " BAD SOLUTION at: \n",
      " {'number_of_cows': 10, 'dragon_coming_to': 6}\n",
      "\n",
      "\n",
      " BAD SOLUTION at: \n",
      " {'number_of_cows': 10, 'dragon_coming_to': 7}\n",
      "\n",
      "\n",
      " BAD SOLUTION at: \n",
      " {'number_of_cows': 10, 'dragon_coming_to': 8}\n",
      "\n",
      "\n",
      " BAD SOLUTION at: \n",
      " {'number_of_cows': 10, 'dragon_coming_to': 9}\n",
      "\n",
      "\n",
      " BAD SOLUTION at: \n",
      " {'number_of_cows': 11, 'dragon_coming_to': 1}\n"
     ]
    }
   ],
   "source": [
    "dragonfind_10_to_500.evaluate(my_solution1)"
   ]
  }
 ],
 "metadata": {
  "kernelspec": {
   "display_name": "Python 3",
   "language": "python",
   "name": "python3"
  },
  "language_info": {
   "codemirror_mode": {
    "name": "ipython",
    "version": 3
   },
   "file_extension": ".py",
   "mimetype": "text/x-python",
   "name": "python",
   "nbconvert_exporter": "python",
   "pygments_lexer": "ipython3",
   "version": "3.7.3"
  }
 },
 "nbformat": 4,
 "nbformat_minor": 2
}
