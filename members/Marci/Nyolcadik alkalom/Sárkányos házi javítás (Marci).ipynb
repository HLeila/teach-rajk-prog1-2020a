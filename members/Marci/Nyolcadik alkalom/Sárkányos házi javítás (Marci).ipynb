{
 "cells": [
  {
   "cell_type": "markdown",
   "metadata": {},
   "source": [
    "### sima"
   ]
  },
  {
   "cell_type": "code",
   "execution_count": 20,
   "metadata": {},
   "outputs": [],
   "source": [
    "cow_alive_list_test_1 = [False, False, False, True, True, True]"
   ]
  },
  {
   "cell_type": "code",
   "execution_count": 21,
   "metadata": {},
   "outputs": [],
   "source": [
    "def my_solution1_A(cow_alive_list):\n",
    "    fat_alive_cow_index = 0\n",
    "    thin_alive_cow_index = len(cow_alive_list) - 1\n",
    "\n",
    "    while (fat_alive_cow_index + 1) < thin_alive_cow_index:\n",
    "        middle_cow = int((fat_alive_cow_index + thin_alive_cow_index) / 2)\n",
    "        if cow_alive_list[middle_cow]:\n",
    "            thin_alive_cow_index = middle_cow\n",
    "        else:\n",
    "            fat_alive_cow_index = middle_cow\n",
    "\n",
    "    return middle_cow + 1"
   ]
  },
  {
   "cell_type": "code",
   "execution_count": 22,
   "metadata": {},
   "outputs": [
    {
     "data": {
      "text/plain": [
       "4"
      ]
     },
     "execution_count": 22,
     "metadata": {},
     "output_type": "execute_result"
    }
   ],
   "source": [
    "my_solution1_A(cow_alive_list_test_1)"
   ]
  },
  {
   "cell_type": "markdown",
   "metadata": {},
   "source": [
    "Ezzel nem csináltál semmit, egy az egyben a kurzuson is látott rossz megoldás.\n",
    "\n",
    "Ez a függvény eggyel nagyobb számot ad vissza, mint a helyes megoldás, abban az esetben, ha az aktuális `middle_cow` már nincs életben. Ezért a végére kell egy plusz elágazás:"
   ]
  },
  {
   "cell_type": "code",
   "execution_count": 23,
   "metadata": {},
   "outputs": [],
   "source": [
    "def my_solution1_A_jav(cow_alive_list):\n",
    "    fat_alive_cow_index = 0\n",
    "    thin_alive_cow_index = len(cow_alive_list) - 1\n",
    "\n",
    "    while (fat_alive_cow_index + 1) < thin_alive_cow_index:\n",
    "        middle_cow = int((fat_alive_cow_index + thin_alive_cow_index) / 2)\n",
    "        if cow_alive_list[middle_cow]:\n",
    "            thin_alive_cow_index = middle_cow\n",
    "        else:\n",
    "            fat_alive_cow_index = middle_cow\n",
    "\n",
    "    if cow_alive_list[middle_cow]:\n",
    "        return middle_cow\n",
    "    else:\n",
    "        return middle_cow + 1"
   ]
  },
  {
   "cell_type": "code",
   "execution_count": 24,
   "metadata": {},
   "outputs": [
    {
     "data": {
      "text/plain": [
       "3"
      ]
     },
     "execution_count": 24,
     "metadata": {},
     "output_type": "execute_result"
    }
   ],
   "source": [
    "my_solution1_A_jav(cow_alive_list_test_1)"
   ]
  },
  {
   "cell_type": "markdown",
   "metadata": {},
   "source": [
    "---------------------------"
   ]
  },
  {
   "cell_type": "code",
   "execution_count": 18,
   "metadata": {},
   "outputs": [],
   "source": [
    "def my_solution1_B(cow_alive_list):\n",
    "    place = 0\n",
    "\n",
    "    for cow_is_alive in cow_alive_list:\n",
    "        if cow_is_alive:\n",
    "            return place\n",
    "        elif cow_is_alive == False:\n",
    "            place = place + 1\n",
    "\n",
    "    return place"
   ]
  },
  {
   "cell_type": "code",
   "execution_count": 19,
   "metadata": {},
   "outputs": [
    {
     "data": {
      "text/plain": [
       "2"
      ]
     },
     "execution_count": 19,
     "metadata": {},
     "output_type": "execute_result"
    }
   ],
   "source": [
    "my_solution1_B(cow_alive_list_test_1)"
   ]
  },
  {
   "cell_type": "markdown",
   "metadata": {},
   "source": [
    "Ez jó megoldás, de az `elif` tulajdonképpen fölösleges, mert a `cow_is_alive` egy logikai változó, tehát ha nem `True`, akkor biztos, hogy `False`, ezért elég az `else`."
   ]
  },
  {
   "cell_type": "markdown",
   "metadata": {},
   "source": [
    "---------------------------"
   ]
  },
  {
   "cell_type": "markdown",
   "metadata": {},
   "source": [
    "### jkg"
   ]
  },
  {
   "cell_type": "code",
   "execution_count": 3,
   "metadata": {},
   "outputs": [],
   "source": [
    "from jkg_evaluators import dragonfind_10_to_500"
   ]
  },
  {
   "cell_type": "code",
   "execution_count": 4,
   "metadata": {},
   "outputs": [],
   "source": [
    "def my_solution2_A(is_dead, number_of_cows):\n",
    "\n",
    "    cows_alive = number_of_cows\n",
    "    fat_alive_cow_index = 0\n",
    "    thin_alive_cow_index = cows_alive - 1\n",
    "\n",
    "    while (fat_alive_cow_index + 1) < thin_alive_cow_index:\n",
    "        middle_cow = int(cows_alive / 2)\n",
    "        if is_dead(middle_cow):\n",
    "            return middle_cow\n",
    "        else:\n",
    "            thin_alive_cow_index = middle_cow\n",
    "\n",
    "    return middle_cow + 1"
   ]
  },
  {
   "cell_type": "code",
   "execution_count": null,
   "metadata": {},
   "outputs": [],
   "source": [
    "dragonfind_10_to_500.evaluate(my_solution2_A)"
   ]
  },
  {
   "cell_type": "markdown",
   "metadata": {},
   "source": [
    "Ez a függvény végtelen loopba kerülhet, mert a `middle_cow` változónak minden iterációban ugyanazt az értéket adod: az `int(cows_alive / 2)`-t. Ez sosem változik, mert a `cows_alive` változó értékét sem változtatod. Ha a középső tehén halott, akkor a 10. sor szerint visszaadja az ő indexét, ami egyébként is rossz megoldás (hiszen a legkövérebb, még élő tehén indexe kell). Ha ő életben van, akkor a `thin_alive_cow_index`-et egyenlővé teszi a középső tehén indexével, és bekerül a már említett loop-ba."
   ]
  },
  {
   "cell_type": "markdown",
   "metadata": {},
   "source": [
    "---------------------------"
   ]
  },
  {
   "cell_type": "code",
   "execution_count": 3,
   "metadata": {},
   "outputs": [],
   "source": [
    "def my_solution2_B(is_dead, number_of_cows):\n",
    "\n",
    "    middle_cow = int(number_of_cows / 2)\n",
    "\n",
    "    if is_dead(middle_cow):\n",
    "\n",
    "        for i in range(middle_cow, number_of_cows - 1):\n",
    "            if not is_dead(i):\n",
    "                return i\n",
    "\n",
    "    else:\n",
    "\n",
    "        for i in range(1, middle_cow):\n",
    "            if not is_dead(i):\n",
    "                return i"
   ]
  },
  {
   "cell_type": "code",
   "execution_count": 14,
   "metadata": {
    "scrolled": true
   },
   "outputs": [
    {
     "name": "stdout",
     "output_type": "stream",
     "text": [
      "- success rate: 123732/124714 (99.0%)\n",
      "- error count: 0\n",
      "- best performance: 2\n",
      "- worst performance: 250\n",
      "- mean performance: 85.26525490321856\n",
      "\n",
      "\n",
      " BAD SOLUTION at: \n",
      " {'number_of_cows': 10, 'dragon_coming_to': 5}\n",
      "\n",
      "\n",
      " BAD SOLUTION at: \n",
      " {'number_of_cows': 10, 'dragon_coming_to': 9}\n",
      "\n",
      "\n",
      " BAD SOLUTION at: \n",
      " {'number_of_cows': 11, 'dragon_coming_to': 5}\n",
      "\n",
      "\n",
      " BAD SOLUTION at: \n",
      " {'number_of_cows': 11, 'dragon_coming_to': 10}\n",
      "\n",
      "\n",
      " BAD SOLUTION at: \n",
      " {'number_of_cows': 12, 'dragon_coming_to': 6}\n",
      "\n",
      "\n",
      " BAD SOLUTION at: \n",
      " {'number_of_cows': 12, 'dragon_coming_to': 11}\n",
      "\n",
      "\n",
      " BAD SOLUTION at: \n",
      " {'number_of_cows': 13, 'dragon_coming_to': 6}\n",
      "\n",
      "\n",
      " BAD SOLUTION at: \n",
      " {'number_of_cows': 13, 'dragon_coming_to': 12}\n",
      "\n",
      "\n",
      " BAD SOLUTION at: \n",
      " {'number_of_cows': 14, 'dragon_coming_to': 7}\n",
      "\n",
      "\n",
      " BAD SOLUTION at: \n",
      " {'number_of_cows': 14, 'dragon_coming_to': 13}\n"
     ]
    }
   ],
   "source": [
    "dragonfind_10_to_500.evaluate(my_solution2_B)"
   ]
  },
  {
   "cell_type": "markdown",
   "metadata": {},
   "source": [
    "Ez a függvény a legtöbb esetben jó megoldást ad, de a szélső értékekkel probléma lesz.\n",
    "- Ha a megoldás a lista utolsó eleme, akkor nem lesz a függvénynek visszatérési értéke. Ez azért van, mert az első iteráció csak az utolsó előtti elemig megy el. A `range(a, b)` első eleme `a`, utolsó eleme pedig `b - 1`, tehát a `number_of_cows`-ból nem kéne kivonnod egyet a 7. sorban.\n",
    "- Ugyanez a helyzet, ha a megoldás pont a középső elem, mert a második iteráció is csak a `middle_cow - 1`-ig megy el."
   ]
  },
  {
   "cell_type": "markdown",
   "metadata": {},
   "source": [
    "---------------------------"
   ]
  },
  {
   "cell_type": "code",
   "execution_count": 12,
   "metadata": {},
   "outputs": [],
   "source": [
    "def my_solution2_C(is_dead, number_of_cows):\n",
    "\n",
    "    for cow_is_alive in range(1, number_of_cows):\n",
    "        if is_dead(cow_is_alive) == True:\n",
    "            return is_dead(cow_is_alive)\n",
    "\n",
    "    return cow_is_alive"
   ]
  },
  {
   "cell_type": "code",
   "execution_count": 13,
   "metadata": {
    "scrolled": true
   },
   "outputs": [
    {
     "name": "stdout",
     "output_type": "stream",
     "text": [
      "- success rate: 0/124714 (0.0%)\n",
      "- error count: 0\n",
      "- best performance: 2\n",
      "- worst performance: 499\n",
      "- mean performance: 2.9921259842519685\n",
      "\n",
      "\n",
      " BAD SOLUTION at: \n",
      " {'number_of_cows': 10, 'dragon_coming_to': 1}\n",
      "\n",
      "\n",
      " BAD SOLUTION at: \n",
      " {'number_of_cows': 10, 'dragon_coming_to': 2}\n",
      "\n",
      "\n",
      " BAD SOLUTION at: \n",
      " {'number_of_cows': 10, 'dragon_coming_to': 3}\n",
      "\n",
      "\n",
      " BAD SOLUTION at: \n",
      " {'number_of_cows': 10, 'dragon_coming_to': 4}\n",
      "\n",
      "\n",
      " BAD SOLUTION at: \n",
      " {'number_of_cows': 10, 'dragon_coming_to': 5}\n",
      "\n",
      "\n",
      " BAD SOLUTION at: \n",
      " {'number_of_cows': 10, 'dragon_coming_to': 6}\n",
      "\n",
      "\n",
      " BAD SOLUTION at: \n",
      " {'number_of_cows': 10, 'dragon_coming_to': 7}\n",
      "\n",
      "\n",
      " BAD SOLUTION at: \n",
      " {'number_of_cows': 10, 'dragon_coming_to': 8}\n",
      "\n",
      "\n",
      " BAD SOLUTION at: \n",
      " {'number_of_cows': 10, 'dragon_coming_to': 9}\n",
      "\n",
      "\n",
      " BAD SOLUTION at: \n",
      " {'number_of_cows': 11, 'dragon_coming_to': 1}\n"
     ]
    }
   ],
   "source": [
    "dragonfind_10_to_500.evaluate(my_solution2_C)"
   ]
  },
  {
   "cell_type": "markdown",
   "metadata": {},
   "source": [
    "Ezzel két probléma van:\n",
    "- A függvény visszatérési értéke egy logikai változó, pedig integer kéne, hogy legyen.\n",
    "- A 4. sorban a feltétel ellenkezőjére lenne szükség, mert élő tehenet akarunk találni, nem halottat.\n",
    "\n",
    "Így lenne helyes:"
   ]
  },
  {
   "cell_type": "code",
   "execution_count": 25,
   "metadata": {},
   "outputs": [],
   "source": [
    "def my_solution2_C_jav(is_dead, number_of_cows):\n",
    "\n",
    "    for cow_is_alive in range(1, number_of_cows):\n",
    "        if is_dead(cow_is_alive) == False:\n",
    "            return cow_is_alive\n",
    "\n",
    "    return cow_is_alive"
   ]
  },
  {
   "cell_type": "code",
   "execution_count": 26,
   "metadata": {},
   "outputs": [
    {
     "name": "stdout",
     "output_type": "stream",
     "text": [
      "- success rate: 124714/124714 (100.0%)\n",
      "- error count: 0\n",
      "- best performance: 1\n",
      "- worst performance: 499\n",
      "- mean performance: 167.04724409448818\n"
     ]
    }
   ],
   "source": [
    "dragonfind_10_to_500.evaluate(my_solution2_C_jav)"
   ]
  }
 ],
 "metadata": {
  "kernelspec": {
   "display_name": "Python 3",
   "language": "python",
   "name": "python3"
  },
  "language_info": {
   "codemirror_mode": {
    "name": "ipython",
    "version": 3
   },
   "file_extension": ".py",
   "mimetype": "text/x-python",
   "name": "python",
   "nbconvert_exporter": "python",
   "pygments_lexer": "ipython3",
   "version": "3.7.3"
  }
 },
 "nbformat": 4,
 "nbformat_minor": 2
}
