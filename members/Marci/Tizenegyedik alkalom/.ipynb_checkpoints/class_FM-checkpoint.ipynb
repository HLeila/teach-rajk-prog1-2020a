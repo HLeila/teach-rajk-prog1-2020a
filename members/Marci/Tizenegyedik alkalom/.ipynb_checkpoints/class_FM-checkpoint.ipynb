{
 "cells": [
  {
   "cell_type": "markdown",
   "metadata": {},
   "source": [
    "## hogyan hozunk létre objektumot?"
   ]
  },
  {
   "cell_type": "code",
   "execution_count": 38,
   "metadata": {},
   "outputs": [],
   "source": [
    "class Roman:\n",
    "    \n",
    "    def __init__(self, c):\n",
    "        \n",
    "        if isinstance(c, str):\n",
    "            self.rom = c\n",
    "        \n",
    "        elif isinstance(c, int):\n",
    "            self.num = c\n",
    "            \n",
    "        \n",
    "    def add_other_num(self, x):\n",
    "        self.num += x\n",
    "\n",
    "        \n",
    "    def rom_to_num(self):\n",
    "        rom = self.rom\n",
    "        arabic = []\n",
    "        for i in rom:\n",
    "            if i == 'I':\n",
    "                arabic.append(1)\n",
    "            elif i == 'V':\n",
    "                arabic.append(5)\n",
    "            elif i == 'X':\n",
    "                arabic.append(10)\n",
    "            elif i == 'L':\n",
    "                arabic.append(50)\n",
    "            elif i == 'C':\n",
    "                arabic.append(100)\n",
    "            elif i == 'D':\n",
    "                arabic.append(500)\n",
    "            elif i == 'M':\n",
    "                arabic.append(1000)\n",
    "        convert = 0\n",
    "        arabic.append(0)\n",
    "        for a in range(0, len(arabic)-1):\n",
    "            if arabic[a] < arabic[a+1]:\n",
    "                convert -= arabic[a]\n",
    "\n",
    "            else:\n",
    "                convert += arabic[a]\n",
    "                \n",
    "        if convert < 3999:\n",
    "            return convert\n",
    "        else:\n",
    "            print(\"Enter a valid Roman numeral\")\n",
    "               \n",
    "        "
   ]
  },
  {
   "cell_type": "code",
   "execution_count": 47,
   "metadata": {
    "scrolled": true
   },
   "outputs": [],
   "source": [
    "r = Roman('MMMLXVI')"
   ]
  },
  {
   "cell_type": "code",
   "execution_count": 48,
   "metadata": {},
   "outputs": [
    {
     "data": {
      "text/plain": [
       "'MMMLXVI'"
      ]
     },
     "execution_count": 48,
     "metadata": {},
     "output_type": "execute_result"
    }
   ],
   "source": [
    "r.rom"
   ]
  },
  {
   "cell_type": "code",
   "execution_count": 49,
   "metadata": {},
   "outputs": [
    {
     "data": {
      "text/plain": [
       "3066"
      ]
     },
     "execution_count": 49,
     "metadata": {},
     "output_type": "execute_result"
    }
   ],
   "source": [
    "r.rom_to_num()"
   ]
  }
 ],
 "metadata": {
  "kernelspec": {
   "display_name": "Python 3",
   "language": "python",
   "name": "python3"
  },
  "language_info": {
   "codemirror_mode": {
    "name": "ipython",
    "version": 3
   },
   "file_extension": ".py",
   "mimetype": "text/x-python",
   "name": "python",
   "nbconvert_exporter": "python",
   "pygments_lexer": "ipython3",
   "version": "3.7.3"
  }
 },
 "nbformat": 4,
 "nbformat_minor": 4
}
