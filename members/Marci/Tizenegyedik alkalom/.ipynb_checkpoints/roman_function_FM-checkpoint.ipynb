{
 "cells": [
  {
   "cell_type": "code",
   "execution_count": 1,
   "metadata": {},
   "outputs": [],
   "source": [
    "import requests\n",
    "from bs4 import BeautifulSoup\n",
    "import pandas as pd"
   ]
  },
  {
   "cell_type": "code",
   "execution_count": 2,
   "metadata": {},
   "outputs": [],
   "source": [
    "roms = pd.concat([pd.DataFrame(\n",
    "    [{'arab':a.text.split()[0],'roman':a.text.split()[1]} for a in \\\n",
    " BeautifulSoup(requests.get('https://smorgasborg.artlung.com/roman-numerals/page/%d' % p) \\\n",
    "              .content,'html5lib').find('pre').find_all('a')]) for p in range(1,11)])\\\n",
    "    .loc[lambda df: df['arab'] != '0',:]"
   ]
  },
  {
   "cell_type": "code",
   "execution_count": 3,
   "metadata": {},
   "outputs": [],
   "source": [
    "def rom2ar_test(fun): # ez azokat az eseteket adja vissza, ahol az átváltás helytelen\n",
    "    calc = roms['roman'].apply(fun)\n",
    "    tru = roms['arab'].apply(int)\n",
    "    return roms[calc != tru]"
   ]
  },
  {
   "cell_type": "code",
   "execution_count": 6,
   "metadata": {},
   "outputs": [],
   "source": [
    "def rom2ar(rom_string):\n",
    "    arabic = []\n",
    "    for i in rom_string:\n",
    "        if rom_string == 'I':\n",
    "            arabic.append()\n",
    "            return 1\n",
    "        elif rom_string == 'V':\n",
    "            return 5\n",
    "        elif rom_string == 'X':\n",
    "            return 10\n",
    "        elif rom_string == 'L':\n",
    "            return 50\n",
    "        elif rom_string == 'C':\n",
    "            return 100\n",
    "        elif rom_string == 'D':\n",
    "            return 500\n",
    "        elif rom_string == 'M':\n",
    "            return 1000  \n",
    "        else:\n",
    "            return 3"
   ]
  },
  {
   "cell_type": "code",
   "execution_count": 116,
   "metadata": {},
   "outputs": [],
   "source": [
    "rom_string = 'II'\n",
    "def rom2ar(rom_string):\n",
    "    arabic = []\n",
    "    for i in rom_string:\n",
    "        if i == 'I':\n",
    "            arabic.append(1)\n",
    "        elif i == 'V':\n",
    "            arabic.append(5)\n",
    "        elif i == 'X':\n",
    "            arabic.append(10)\n",
    "        elif i == 'L':\n",
    "            arabic.append(50)\n",
    "        elif i == 'C':\n",
    "            arabic.append(100)\n",
    "        elif i == 'D':\n",
    "            arabic.append(500)\n",
    "        elif i == 'M':\n",
    "            arabic.append(1000)\n",
    "    convert = 0\n",
    "    leftover = 0\n",
    "    if len(arabic) > 1:\n",
    "        for a in range(0, len(arabic)-1):\n",
    "            #hozzáadós rész\n",
    "            if arabic[a] > arabic[a+1]:\n",
    "                convert += arabic[a]\n",
    "                leftover += arabic[a+1]\n",
    "                convert += leftover\n",
    "            #kivonós rész\n",
    "            elif arabic[a] < arabic[a+1]:\n",
    "                convert += arabic[a+1]\n",
    "                leftover += arabic[a]\n",
    "                convert -= leftover\n",
    "            elif arabic[a] == arabic[a+1]:\n",
    "                leftover += arabic[a+1]\n",
    "                convert += leftover\n",
    "        return convert\n",
    "\n",
    "    else:\n",
    "        return arabic[0]\n",
    "        \n"
   ]
  },
  {
   "cell_type": "code",
   "execution_count": 149,
   "metadata": {},
   "outputs": [],
   "source": [
    "rom_string = 'XIX'\n",
    "def rom2ar(rom_string):\n",
    "    arabic = []\n",
    "    for i in rom_string:\n",
    "        if i == 'I':\n",
    "            arabic.append(1)\n",
    "        elif i == 'V':\n",
    "            arabic.append(5)\n",
    "        elif i == 'X':\n",
    "            arabic.append(10)\n",
    "        elif i == 'L':\n",
    "            arabic.append(50)\n",
    "        elif i == 'C':\n",
    "            arabic.append(100)\n",
    "        elif i == 'D':\n",
    "            arabic.append(500)\n",
    "        elif i == 'M':\n",
    "            arabic.append(1000)\n",
    "    convert = 0\n",
    "    arabic.append(0)\n",
    "    for a in range(0, len(arabic)-1):\n",
    "        if arabic[a] < arabic[a+1]:\n",
    "            convert -= arabic[a]\n",
    "            \n",
    "        else:\n",
    "            convert += arabic[a]\n",
    "        \n",
    "    return convert\n"
   ]
  },
  {
   "cell_type": "code",
   "execution_count": 150,
   "metadata": {},
   "outputs": [
    {
     "data": {
      "text/plain": [
       "19"
      ]
     },
     "execution_count": 150,
     "metadata": {},
     "output_type": "execute_result"
    }
   ],
   "source": [
    "rom2ar(rom_string)"
   ]
  },
  {
   "cell_type": "code",
   "execution_count": 151,
   "metadata": {},
   "outputs": [
    {
     "data": {
      "text/html": [
       "<div>\n",
       "<style scoped>\n",
       "    .dataframe tbody tr th:only-of-type {\n",
       "        vertical-align: middle;\n",
       "    }\n",
       "\n",
       "    .dataframe tbody tr th {\n",
       "        vertical-align: top;\n",
       "    }\n",
       "\n",
       "    .dataframe thead th {\n",
       "        text-align: right;\n",
       "    }\n",
       "</style>\n",
       "<table border=\"1\" class=\"dataframe\">\n",
       "  <thead>\n",
       "    <tr style=\"text-align: right;\">\n",
       "      <th></th>\n",
       "      <th>arab</th>\n",
       "      <th>roman</th>\n",
       "    </tr>\n",
       "  </thead>\n",
       "  <tbody>\n",
       "  </tbody>\n",
       "</table>\n",
       "</div>"
      ],
      "text/plain": [
       "Empty DataFrame\n",
       "Columns: [arab, roman]\n",
       "Index: []"
      ]
     },
     "execution_count": 151,
     "metadata": {},
     "output_type": "execute_result"
    }
   ],
   "source": [
    "rom2ar_test(rom2ar)"
   ]
  }
 ],
 "metadata": {
  "kernelspec": {
   "display_name": "Python 3",
   "language": "python",
   "name": "python3"
  },
  "language_info": {
   "codemirror_mode": {
    "name": "ipython",
    "version": 3
   },
   "file_extension": ".py",
   "mimetype": "text/x-python",
   "name": "python",
   "nbconvert_exporter": "python",
   "pygments_lexer": "ipython3",
   "version": "3.7.3"
  }
 },
 "nbformat": 4,
 "nbformat_minor": 4
}
