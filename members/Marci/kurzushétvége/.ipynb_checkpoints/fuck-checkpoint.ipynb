{
 "cells": [
  {
   "cell_type": "code",
   "execution_count": 1,
   "metadata": {},
   "outputs": [],
   "source": [
    "import json\n",
    "import matplotlib.pyplot as plt\n",
    "def get_data_by_year(year):\n",
    "\n",
    "    path_to_file = \"data/{}-msg.json\".format(year)\n",
    "    return json.load(open(path_to_file, \"r\"))"
   ]
  },
  {
   "cell_type": "code",
   "execution_count": 2,
   "metadata": {},
   "outputs": [],
   "source": [
    "timestamp = 1317483598004\n",
    "\n",
    "nevek = {}\n",
    "timest_list = []\n",
    "\n",
    "for y in range(2010,2021):\n",
    "    list_of_dicts = get_data_by_year(y)\n",
    "    for d in list_of_dicts:\n",
    "        if d['type'] == 'Generic':\n",
    "            timest_list.append(d['timestamp_ms'])\n",
    "            \n",
    "def legnagyobb(elem):\n",
    "    return max(elem[1])\n",
    "timest_list = sorted(timest_list, reverse= False)     "
   ]
  },
  {
   "cell_type": "code",
   "execution_count": 10,
   "metadata": {},
   "outputs": [],
   "source": [
    "diff = []\n",
    "\n",
    "for fck in range (0, len(timest_list)-1):\n",
    "    diff.append(timest_list[fck+1]-timest_list[fck])    "
   ]
  },
  {
   "cell_type": "code",
   "execution_count": 11,
   "metadata": {},
   "outputs": [
    {
     "name": "stdout",
     "output_type": "stream",
     "text": [
      "11531014000\n"
     ]
    }
   ],
   "source": [
    "print(max(diff))"
   ]
  },
  {
   "cell_type": "code",
   "execution_count": null,
   "metadata": {},
   "outputs": [],
   "source": []
  }
 ],
 "metadata": {
  "kernelspec": {
   "display_name": "Python 3",
   "language": "python",
   "name": "python3"
  },
  "language_info": {
   "codemirror_mode": {
    "name": "ipython",
    "version": 3
   },
   "file_extension": ".py",
   "mimetype": "text/x-python",
   "name": "python",
   "nbconvert_exporter": "python",
   "pygments_lexer": "ipython3",
   "version": "3.7.3"
  }
 },
 "nbformat": 4,
 "nbformat_minor": 2
}
