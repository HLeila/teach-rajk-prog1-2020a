{
 "cells": [
  {
   "cell_type": "code",
   "execution_count": 3,
   "metadata": {},
   "outputs": [],
   "source": [
    "import sys\n",
    "sys.path.insert(0, '..')\n",
    "from __import_file__ import AB\n",
    "from __import_file__ import Roli\n",
    "from __import_file__ import Dani\n",
    "from __import_file__ import Meszi\n",
    "from __import_file__ import Marci\n",
    "from __import_file__ import Bori\n",
    "from __import_file__ import Leila\n",
    "from __import_file__ import Sara\n",
    "from __import_file__ import Mark\n",
    "from __import_file__ import Lili"
   ]
  },
  {
   "cell_type": "markdown",
   "metadata": {},
   "source": [
    "## AB"
   ]
  },
  {
   "cell_type": "code",
   "execution_count": 56,
   "metadata": {},
   "outputs": [],
   "source": [
    "def AB_solution(n):\n",
    "    lm = n\n",
    "    lm.sort()\n",
    "    lm.reverse()\n",
    "    if (lm[0]*lm[1]) > (lm[-1]*lm[-2]):\n",
    "         return (lm[0]*lm[1])\n",
    "    else:\n",
    "         return (lm[-1]*lm[-2])"
   ]
  },
  {
   "cell_type": "code",
   "execution_count": 57,
   "metadata": {
    "scrolled": false
   },
   "outputs": [
    {
     "name": "stdout",
     "output_type": "stream",
     "text": [
      "- success rate: 497/497 (100.0%)\n",
      "- error count: 0\n",
      "- best performance: 1\n",
      "- worst performance: 1\n",
      "- mean performance: 1.0\n"
     ]
    }
   ],
   "source": [
    "AB.evaluate(AB_solution)"
   ]
  },
  {
   "cell_type": "markdown",
   "metadata": {},
   "source": [
    "## Roli"
   ]
  },
  {
   "cell_type": "code",
   "execution_count": 98,
   "metadata": {},
   "outputs": [],
   "source": [
    "def Roli_solution(list_of_words,letter):\n",
    "    e = 0\n",
    "    l = letter\n",
    "    list = []\n",
    "    list = list_of_words\n",
    "    for i in list:\n",
    "            for f in i:\n",
    "                if f == l.lower():\n",
    "                    e += 1\n",
    "                    break\n",
    "                elif f == l.upper():\n",
    "                    e += 1\n",
    "                    break\n",
    "                else:\n",
    "                    continue\n",
    "    \n",
    "    return e"
   ]
  },
  {
   "cell_type": "code",
   "execution_count": 99,
   "metadata": {
    "scrolled": false
   },
   "outputs": [
    {
     "name": "stdout",
     "output_type": "stream",
     "text": [
      "- success rate: 495/495 (100.0%)\n",
      "- error count: 0\n",
      "- best performance: 1\n",
      "- worst performance: 1\n",
      "- mean performance: 1.0\n"
     ]
    }
   ],
   "source": [
    "Roli.evaluate(Roli_solution)"
   ]
  },
  {
   "cell_type": "markdown",
   "metadata": {},
   "source": [
    "## Dani"
   ]
  },
  {
   "cell_type": "code",
   "execution_count": 118,
   "metadata": {},
   "outputs": [],
   "source": [
    "def Dani_solution(list_of_words):\n",
    "    count = 0\n",
    "    a = []\n",
    "    wordlist = list_of_words\n",
    "    for word in wordlist:\n",
    "            for l in word:\n",
    "                if l == 'a' or l == 'A':\n",
    "                    count += 1\n",
    "                    continue\n",
    "            a.append(count)\n",
    "            count = 0\n",
    "            continue\n",
    "    legnagyobb = max(a)\n",
    "    if legnagyobb == 0:\n",
    "        return -1\n",
    "    else:\n",
    "        return a.index(legnagyobb)"
   ]
  },
  {
   "cell_type": "code",
   "execution_count": 119,
   "metadata": {},
   "outputs": [
    {
     "name": "stdout",
     "output_type": "stream",
     "text": [
      "- success rate: 495/495 (100.0%)\n",
      "- error count: 0\n",
      "- best performance: 1\n",
      "- worst performance: 1\n",
      "- mean performance: 1.0\n"
     ]
    }
   ],
   "source": [
    "Dani.evaluate(Dani_solution)"
   ]
  },
  {
   "cell_type": "markdown",
   "metadata": {},
   "source": [
    "## Mészi"
   ]
  },
  {
   "cell_type": "code",
   "execution_count": 143,
   "metadata": {},
   "outputs": [],
   "source": [
    "def Meszi_solution(list_of_numbers, number):\n",
    "    count = float('-inf')\n",
    "    a = []\n",
    "    listnum = list_of_numbers\n",
    "    for i in listnum:\n",
    "        if (i / number) % 2 == 0:\n",
    "            a.append(i)\n",
    "    for f in a:\n",
    "        if f > count:\n",
    "            count = f\n",
    "    \n",
    "    if count == float('-inf'):\n",
    "        return 0\n",
    "    else:\n",
    "        return count"
   ]
  },
  {
   "cell_type": "code",
   "execution_count": 144,
   "metadata": {},
   "outputs": [
    {
     "name": "stdout",
     "output_type": "stream",
     "text": [
      "- success rate: 497/497 (100.0%)\n",
      "- error count: 0\n",
      "- best performance: 1\n",
      "- worst performance: 1\n",
      "- mean performance: 1.0\n"
     ]
    }
   ],
   "source": [
    "Meszi.evaluate(Meszi_solution)"
   ]
  },
  {
   "cell_type": "markdown",
   "metadata": {},
   "source": [
    "## Leila"
   ]
  },
  {
   "cell_type": "code",
   "execution_count": 35,
   "metadata": {},
   "outputs": [],
   "source": [
    "def Leila_solution(list_of_numbers):\n",
    "    ures = []\n",
    "    for elem in list_of_numbers:\n",
    "        for elem2 in list_of_numbers:\n",
    "            if elem == elem2 /2 :\n",
    "                ures.append(elem)\n",
    "                \n",
    "    if len(ures) != 0:\n",
    "            return min (ures)\n",
    "    else:\n",
    "        return 0\n",
    "    "
   ]
  },
  {
   "cell_type": "code",
   "execution_count": 36,
   "metadata": {},
   "outputs": [
    {
     "name": "stdout",
     "output_type": "stream",
     "text": [
      "- success rate: 497/497 (100.0%)\n",
      "- error count: 0\n",
      "- best performance: 1\n",
      "- worst performance: 1\n",
      "- mean performance: 1.0\n"
     ]
    }
   ],
   "source": [
    "Leila.evaluate(Leila_solution)"
   ]
  },
  {
   "cell_type": "markdown",
   "metadata": {},
   "source": [
    "## Sára"
   ]
  },
  {
   "cell_type": "code",
   "execution_count": 157,
   "metadata": {},
   "outputs": [],
   "source": [
    "def Sara_solution(list_of_numbers):\n",
    "        rand = 0\n",
    "        numlist = list_of_numbers\n",
    "        numlist = list(dict.fromkeys(numlist))\n",
    "        for i in numlist:\n",
    "            if (i > 0) and (i % 2 == 1):\n",
    "                rand += i\n",
    "            \n",
    "        return rand"
   ]
  },
  {
   "cell_type": "code",
   "execution_count": 158,
   "metadata": {},
   "outputs": [
    {
     "name": "stdout",
     "output_type": "stream",
     "text": [
      "- success rate: 497/497 (100.0%)\n",
      "- error count: 0\n",
      "- best performance: 1\n",
      "- worst performance: 1\n",
      "- mean performance: 1.0\n"
     ]
    }
   ],
   "source": [
    "Sara.evaluate(Sara_solution)"
   ]
  },
  {
   "cell_type": "markdown",
   "metadata": {},
   "source": [
    "## Lili"
   ]
  },
  {
   "cell_type": "code",
   "execution_count": 204,
   "metadata": {},
   "outputs": [],
   "source": [
    "def Lili_solution(list_of_words, letter):\n",
    "    a = [w.lower() for w in list_of_words] \n",
    "    b = letter.lower()\n",
    "    c = 0\n",
    "    d = 0\n",
    "    for x in a:\n",
    "        e = 0\n",
    "        for s in x:\n",
    "            if s == b: e += 1\n",
    "        if c < e:\n",
    "            c = e\n",
    "            f = list_of_words[d]\n",
    "        d += 1 \n",
    "    if c == 0:\n",
    "        f = ''\n",
    "\n",
    "    return f"
   ]
  },
  {
   "cell_type": "code",
   "execution_count": 205,
   "metadata": {
    "scrolled": true
   },
   "outputs": [
    {
     "name": "stdout",
     "output_type": "stream",
     "text": [
      "- success rate: 495/495 (100.0%)\n",
      "- error count: 0\n",
      "- best performance: 1\n",
      "- worst performance: 1\n",
      "- mean performance: 1.0\n"
     ]
    }
   ],
   "source": [
    "Lili.evaluate(Lili_solution)"
   ]
  }
 ],
 "metadata": {
  "kernelspec": {
   "display_name": "Python 3",
   "language": "python",
   "name": "python3"
  },
  "language_info": {
   "codemirror_mode": {
    "name": "ipython",
    "version": 3
   },
   "file_extension": ".py",
   "mimetype": "text/x-python",
   "name": "python",
   "nbconvert_exporter": "python",
   "pygments_lexer": "ipython3",
   "version": "3.7.5"
  }
 },
 "nbformat": 4,
 "nbformat_minor": 2
}
