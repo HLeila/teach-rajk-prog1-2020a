{
 "cells": [
  {
   "cell_type": "markdown",
   "metadata": {},
   "source": [
    "### Mi a hiba az alábbi kódokban? Javítsd ki őket!"
   ]
  },
  {
   "cell_type": "markdown",
   "metadata": {},
   "source": [
    "#### Annyi jupyter tutor, ami ehhez a házihoz remélhetőleg elég lesz.\n",
    "\n",
    "- Úgy jelöltök ki cellát, hogy belekattintotok.\n",
    "- A kijelölt cellát a nagy RUN gombra kattinva tudjátok lefuttatni. Illeve a CTRL+ENTER és SHIFT+ENTER kombinációval. Az előbbi csak lefuttatja a kijelölt cellát, míg az utóbbi továbblép a következő cellára és azt jelöli ki.\n",
    "- Ha véletlenül örökké futna egy kódrészlet akkor a standard STOP gombbal állíthatjátok le a futást.\n",
    "- Ha ennél nagyobb a baj akkor a Kernel fül alatt Restartoljatok. \n",
    "- Illetve a változtatásaitokat menteni is kell standard Save gomb vagy CTRL+S."
   ]
  },
  {
   "cell_type": "markdown",
   "metadata": {},
   "source": [
    "#### #1"
   ]
  },
  {
   "cell_type": "code",
   "execution_count": 1,
   "metadata": {},
   "outputs": [
    {
     "name": "stdout",
     "output_type": "stream",
     "text": [
      "3\n"
     ]
    }
   ],
   "source": [
    "def egy():\n",
    "    l1 = [3, 5, 24, 9, 15, -4, 87]\n",
    "    l2 = [6, 17, 134, -11, 26, -1]\n",
    "\n",
    "    #A beépített len függvény egy iterálható objektum elemeinek számát adja visszatérési értékként.\n",
    "    #Pl. lista elemeinek száma\n",
    "    for n in range(len(l1)-1): # Egyel csökkenteni kell a ciklusban lévő lista hosszát  mivel az elsőben 7, a másodikban 6 elem van\n",
    "                               # Ha egy ciklusba tesszük, nem tud végigmenni, mivel a kérne 7. elemet, de nincs mindkettőben\n",
    "                               # A lényeg, hogy egyenlő hosszúak legyenek\n",
    "        if l1[n] > l2[n]:\n",
    "            print(n)\n",
    "egy()"
   ]
  },
  {
   "cell_type": "markdown",
   "metadata": {},
   "source": [
    "#### #2"
   ]
  },
  {
   "cell_type": "code",
   "execution_count": 2,
   "metadata": {},
   "outputs": [
    {
     "data": {
      "text/plain": [
       "'semmi'"
      ]
     },
     "execution_count": 2,
     "metadata": {},
     "output_type": "execute_result"
    }
   ],
   "source": [
    "def ketto(x, y, z):\n",
    "    \n",
    "    if x + y > z and x + z > y and y + z > x:\n",
    "        a = 'háromszög'\n",
    "    \n",
    "        if a == 'háromszög':       #a loopot a loopon belülre kell tenni, különben nem tudja realizálni, ha az a háromszög\n",
    "            return (x, y, z)\n",
    "    else:\n",
    "        return 'semmi'\n",
    "\n",
    "ketto(1,2,3)"
   ]
  },
  {
   "cell_type": "markdown",
   "metadata": {},
   "source": [
    "#### #3"
   ]
  },
  {
   "cell_type": "code",
   "execution_count": 3,
   "metadata": {},
   "outputs": [
    {
     "name": "stdout",
     "output_type": "stream",
     "text": [
      "2450\n"
     ]
    }
   ],
   "source": [
    "def harom():\n",
    "    s = 0\n",
    "\n",
    "    for k in range (0,100,2):     #Ez while-al nem futott le valamiért :/ Nem tudom mit nem értek benne\n",
    "        \n",
    "        s = s + k\n",
    "            \n",
    "    print(s)\n",
    "            \n",
    "        \n",
    "\n",
    "harom()"
   ]
  },
  {
   "cell_type": "markdown",
   "metadata": {},
   "source": [
    "#### #4"
   ]
  },
  {
   "cell_type": "code",
   "execution_count": 4,
   "metadata": {},
   "outputs": [
    {
     "name": "stdout",
     "output_type": "stream",
     "text": [
      "[0, 1, None, 3]\n"
     ]
    }
   ],
   "source": [
    "def negy():                             #Ha a cella eleme 4 vagy nagyobb, vegye ki, írjon legyen None az értéke\n",
    "    t = [0,1,4,3]                       #Itt ezt jó lenne még egyszer átbeszélni, hogy hogy is van a None:(\n",
    "\n",
    "    for i in range(len(t)):\n",
    "        \n",
    "        \n",
    "        if len('alma') == len(t):\n",
    "         \n",
    "            if t[i] < 4:\n",
    "            \n",
    "                t[i] = t[i]\n",
    "            \n",
    "            else:\n",
    "        \n",
    "                t[i] = None\n",
    "            \n",
    "    print(t)\n",
    "            \n",
    "negy()"
   ]
  },
  {
   "cell_type": "markdown",
   "metadata": {},
   "source": [
    "#### #5"
   ]
  },
  {
   "cell_type": "code",
   "execution_count": 5,
   "metadata": {
    "scrolled": true
   },
   "outputs": [
    {
     "data": {
      "text/plain": [
       "[112, 721, 1002]"
      ]
     },
     "execution_count": 5,
     "metadata": {},
     "output_type": "execute_result"
    }
   ],
   "source": [
    "def ot():\n",
    "    input_lista = [112,4234,721,1002,5982,1035]\n",
    "    out = []\n",
    "\n",
    "    for i in range(0,len(input_lista)-1):  #Először a lista hosszúságával egyenlővé teszem a ciklust\n",
    "                                           #A ciklus változójáz átnevezem index-ről i-re\n",
    "        if input_lista[i] < input_lista[i+1]:\n",
    "\n",
    "            out.append(input_lista[i])     #Nem egyeztek a lista indexei, az out-ból hiányoztak, ezért elcsúszott\n",
    "                                           #Helyette appendel mentem el\n",
    "    return out\n",
    "\n",
    "ot()"
   ]
  },
  {
   "cell_type": "code",
   "execution_count": 84,
   "metadata": {},
   "outputs": [],
   "source": [
    "6"
   ]
  },
  {
   "cell_type": "code",
   "execution_count": 6,
   "metadata": {},
   "outputs": [
    {
     "name": "stdout",
     "output_type": "stream",
     "text": [
      "[1, 2, 1, 1, 1]\n"
     ]
    }
   ],
   "source": [
    "def hat():                #Kicsit több féle értelmezést is belelátok:/\n",
    "    l = [1,1,1,1,1]       #Ha jól értem ez a kód hozzá akar adni egyet az elemhez, ha az i és a lista eleme megegyezik\n",
    "    i = 0\n",
    "    \n",
    "    #while l[i] == 1:     #Így felírva nincs vége a while loopnak, mivel az összes eleme 1, utána ha vége a listának, nem tudja értelmezni\n",
    "                                           # Lehetne valami ilyesmi alakban? while l[i] == 1 and i <= len(l-1):\n",
    "    for i in range(0,len(l)-1):\n",
    "        if l[i+1] == i:  \n",
    "\n",
    "            l[i] += 1\n",
    "    \n",
    "    print(l)\n",
    "        \n",
    "            \n",
    "hat()"
   ]
  },
  {
   "cell_type": "markdown",
   "metadata": {},
   "source": [
    "#### #6"
   ]
  },
  {
   "cell_type": "code",
   "execution_count": 7,
   "metadata": {},
   "outputs": [
    {
     "data": {
      "text/plain": [
       "49.5"
      ]
     },
     "execution_count": 7,
     "metadata": {},
     "output_type": "execute_result"
    }
   ],
   "source": [
    "def het():\n",
    "    genya = 0\n",
    "    \n",
    "    for i in range(0, 100, 1):  #Floatot nem tud bevenni a range. Ennek egy megoldása lehet, ha felszorzom egészre, majd leosztom\n",
    "        i = i/100               #Ezzel osztom vissza az eredetire\n",
    "        genya += i\n",
    "\n",
    "    return genya\n",
    "    \n",
    "het()"
   ]
  },
  {
   "cell_type": "markdown",
   "metadata": {},
   "source": [
    "#### #7"
   ]
  },
  {
   "cell_type": "code",
   "execution_count": 8,
   "metadata": {},
   "outputs": [
    {
     "ename": "SyntaxError",
     "evalue": "invalid syntax (<ipython-input-8-4667c8a57aa7>, line 6)",
     "output_type": "error",
     "traceback": [
      "\u001b[0;36m  File \u001b[0;32m\"<ipython-input-8-4667c8a57aa7>\"\u001b[0;36m, line \u001b[0;32m6\u001b[0m\n\u001b[0;31m    if lanka > tanga\u001b[0m\n\u001b[0m                    ^\u001b[0m\n\u001b[0;31mSyntaxError\u001b[0m\u001b[0;31m:\u001b[0m invalid syntax\n"
     ]
    }
   ],
   "source": [
    "def nyolc():\n",
    "    banka = 'almamáter'\n",
    "    tanga = ''\n",
    "    \n",
    "    for lanka in banka:\n",
    "        if lanka > tanga\n",
    "            tanga = lanka\n",
    "        else\n",
    "            return kifogytam\n",
    "        \n",
    "    return tanga\n",
    "    \n",
    "nyolc()"
   ]
  },
  {
   "cell_type": "markdown",
   "metadata": {},
   "source": [
    "#### #8"
   ]
  },
  {
   "cell_type": "code",
   "execution_count": 10,
   "metadata": {},
   "outputs": [
    {
     "ename": "IndentationError",
     "evalue": "unindent does not match any outer indentation level (<tokenize>, line 4)",
     "output_type": "error",
     "traceback": [
      "\u001b[0;36m  File \u001b[0;32m\"<tokenize>\"\u001b[0;36m, line \u001b[0;32m4\u001b[0m\n\u001b[0;31m    while len(árán) < 5:\u001b[0m\n\u001b[0m    ^\u001b[0m\n\u001b[0;31mIndentationError\u001b[0m\u001b[0;31m:\u001b[0m unindent does not match any outer indentation level\n"
     ]
    }
   ],
   "source": [
    "def kilenc():\n",
    "        árán = \"\"\n",
    "        száján = \"szárán\"\n",
    "    while len(árán) < 5:\n",
    "    árván = száján * 2\n",
    "        kárán = len(száján) // 3\n",
    "        \n",
    "            for bárány in száján:\n",
    "            if száján[kárán] == bárány:\n",
    "                álcám = True\n",
    "                else:\n",
    "                álcám = False\n",
    "        \n",
    "        if álcám:\n",
    "            lányán = False\n",
    "                fácán = True\n",
    "        else:\n",
    "            lányán = True\n",
    "            fácán = False\n",
    "        \n",
    "if lányán:\n",
    "    árán += \"m\"\n",
    "elif fácán:\n",
    "    árán += \"n\"\n",
    "else:\n",
    "    hamutálcán = \"pusztulásán\"\n",
    "            \n",
    "    return árán\n",
    "kilenc()"
   ]
  },
  {
   "cell_type": "code",
   "execution_count": null,
   "metadata": {},
   "outputs": [],
   "source": []
  }
 ],
 "metadata": {
  "kernelspec": {
   "display_name": "Python 3",
   "language": "python",
   "name": "python3"
  },
  "language_info": {
   "codemirror_mode": {
    "name": "ipython",
    "version": 3
   },
   "file_extension": ".py",
   "mimetype": "text/x-python",
   "name": "python",
   "nbconvert_exporter": "python",
   "pygments_lexer": "ipython3",
   "version": "3.7.3"
  }
 },
 "nbformat": 4,
 "nbformat_minor": 4
}
