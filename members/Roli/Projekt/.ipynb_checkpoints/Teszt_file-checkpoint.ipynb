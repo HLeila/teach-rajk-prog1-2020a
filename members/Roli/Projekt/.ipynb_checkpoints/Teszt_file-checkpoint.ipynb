{
 "cells": [
  {
   "cell_type": "code",
   "execution_count": null,
   "metadata": {},
   "outputs": [],
   "source": [
    "#!pip install Flask\n",
    "#!pip install pymessenger\n",
    "#pip install spacy==2.1\n",
    "#!pip install https://github.com/oroszgy/spacy-hungarian-models/releases/download/hu_core_ud_lg-0.3.1/hu_core_ud_lg-0.3.1-py3-none-any.whl\n",
    "\n",
    "#Gif küldést is meg lehetne próbálni\n",
    "\n",
    "import random\n",
    "from flask import Flask, request\n",
    "from pymessenger.bot import Bot\n",
    "import hu_core_ud_lg\n",
    "nlp = hu_core_ud_lg.load()\n",
    "\n",
    "app = Flask(__name__)\n",
    "ACCESS_TOKEN = 'EAAnMFMZAxZAUMBAC1s22arTMg4LObsBGuZCMItXgbZBu78cCZApnSAWbHuhgLzRUYZAB0hIxYYKZAr5GjRWK5jOfTVfvQjZCPxaRVIAzuX56ZC6CJD6Js3uHbFttmPoQpchaHfilZAclWIna6VoFRagRoYxF7zoyyvDTNmsI7Eov0QugZDZD'\n",
    "VERIFY_TOKEN = 'VERIFY_TOKEN'\n",
    "bot = Bot(ACCESS_TOKEN)\n",
    "    \n",
    "\n",
    "#requesteket befogadó link (endpoint) elkészítése (ide kerülnek az üzenetek)\n",
    "@app.route(\"/\", methods=['GET', 'POST'])\n",
    "def receive_message():\n",
    "    if request.method == 'GET': #A GET az ellenőrzési token beérkezésének interakcióját jelenti\n",
    "        token_sent = request.args.get(\"hub.verify_token\") #Ez gyakorlatilag egy biztonsági kód, ami megakadályozza a külső (nem FB) requesteket\n",
    "        return verify_fb_token(token_sent)                #Előre meg kell adni a FB-nak, ezt visszaküldi a request esetén, ha nem matchel, nem fut le az app\n",
    "\n",
    "    \n",
    "    else: #Ha nem GET, akkor személy által küldött üzenet, kép stb.\n",
    "       output = request.get_json()\n",
    "       for event in output['entry']:\n",
    "          messaging = event['messaging'] #leszűri az beérkező interakciók, \"eventek\" közül az üzenetekre\n",
    "          for message in messaging:\n",
    "            if message.get('message'):\n",
    "                \n",
    "                recipient_id = message['sender']['id'] #Tudnunk kell, hogy ki küldte (azonosító): neki fogjuk vissza is küldeni\n",
    "\n",
    "                #Beérkező üzenet lekérése\n",
    "                uzenet = message['message'].get('text')\n",
    "                uzenet_nlp = nlp(uzenet)\n",
    "                \n",
    "                eredeti_szavak = []\n",
    "                lemmatizalt_szavak = []\n",
    "            \n",
    "                #szavak lemmatizálása\n",
    "                for szo in uzenet_nlp:\n",
    "                    eredeti_szavak.append(szo.text)\n",
    "                    lemmatizalt_szavak.append(szo.lemma_)\n",
    "                    \n",
    "                #Elágazás a válaszokhoz\n",
    "\n",
    "                if \"szo\" in lemmatizalt_szavak:\n",
    "                    response_sent_text = \"Az absztrakt szólimitjére vagy kiváncsi?\"\n",
    "                    send_message(recipient_id, response_sent_text)\n",
    "                    \n",
    "                \n",
    "                               \n",
    "                \n",
    "               # elif message['message'].get('text'): #ha üzenet a tartalma\n",
    "                #    response_sent_text = get_message()\n",
    "                 #   send_message(recipient_id, response_sent_text)\n",
    "                    \n",
    "         \n",
    "                if message['message'].get('attachments'): #ha más a tartalma (pl. kép, GIF stb.)\n",
    "                    response_sent_nontext = get_message()\n",
    "                    send_message(recipient_id, response_sent_nontext)\n",
    "    return \"Message Processed\"\n",
    "\n",
    "\n",
    "def verify_fb_token(token_sent): #a beérkező token egyezését ellenőrző függvény. Ha megegyezik, lefut, ha nem, errort dob ki\n",
    "    if token_sent == VERIFY_TOKEN:\n",
    "        return request.args.get(\"hub.challenge\")\n",
    "    else:\n",
    "        return 'Invalid verification token'\n",
    "\n",
    "#Ez határozza meg a visszaküldendő üzenetet, ide kell majd előtte az nlp warpolgatás\n",
    "def get_message():\n",
    "    sample_responses = [\"You are stunning!\", \"We're proud of you.\", \"Keep on being you!\", \"We're greatful to know you :)\"]\n",
    "    # return selected item to the user\n",
    "    return random.choice(sample_responses)\n",
    "\n",
    "#Uzenetküldő függvény\n",
    "def send_message(recipient_id, response):\n",
    "    bot.send_text_message(recipient_id, response) #pymessenger uzenetkuldo kodja\n",
    "    return \"success\"\n",
    "\n",
    "\n",
    "if __name__ == \"__main__\":\n",
    "    app.run()"
   ]
  },
  {
   "cell_type": "code",
   "execution_count": 16,
   "metadata": {},
   "outputs": [
    {
     "name": "stdout",
     "output_type": "stream",
     "text": [
      "['Hogyan', 'kell', 'táblázatot', 'hivatkozni', '?'] ['hogyan', 'kell', 'táblázat', 'hivatkozik', '?'] ['hogyan', 'kell', 'tablazat', 'hivatkozik', '?'] ['hogyan', 'kell', 'tablazat', 'hivatkozik', '?']\n",
      "hogyan\n",
      "kell\n",
      "tablazat\n",
      "hivatkozik\n",
      "?\n"
     ]
    }
   ],
   "source": [
    "kapott_uzenet = \"Hogyan kell táblázatot hivatkozni?\"\n",
    "#import unidecode\n",
    "#import random\n",
    "#import spacy\n",
    "#import hu_core_ud_lg\n",
    "nlp = hu_core_ud_lg.load()\n",
    "kapott_uzenet_nlp = nlp(kapott_uzenet)\n",
    "\n",
    "\n",
    "eredeti_szavak = []\n",
    "lemma_szavak = []\n",
    "ekezet_nelkuli_szavak = []\n",
    "\n",
    "#szavak lemmatizálása\n",
    "for szo in kapott_uzenet_nlp:\n",
    "    eredeti_szavak.append(szo.text)\n",
    "    lemma_szavak.append(szo.lemma_)\n",
    "\n",
    "#Ékezetek eltávolítása\n",
    "for i in lemma_szavak:\n",
    "    ekezet_nelkuli_szavak.append(unidecode.unidecode(i))\n",
    "\n",
    "#Kisbetűvé alakítás\n",
    "uzenet_kulcsszavak = [szo.lower() for szo in ekezet_nelkuli_szavak]\n",
    "\n",
    "print(eredeti_szavak, lemma_szavak, ekezet_nelkuli_szavak, uzenet_kulcsszavak)\n",
    "\n",
    "for a in uzenet_kulcsszavak:\n",
    "    print(a)\n"
   ]
  },
  {
   "cell_type": "code",
   "execution_count": 17,
   "metadata": {},
   "outputs": [
    {
     "data": {
      "text/plain": [
       "'hogyan kell tablazat hivatkozik ?'"
      ]
     },
     "execution_count": 17,
     "metadata": {},
     "output_type": "execute_result"
    }
   ],
   "source": [
    "\" \".join(uzenet_kulcsszavak)"
   ]
  }
 ],
 "metadata": {
  "kernelspec": {
   "display_name": "Python 3",
   "language": "python",
   "name": "python3"
  },
  "language_info": {
   "codemirror_mode": {
    "name": "ipython",
    "version": 3
   },
   "file_extension": ".py",
   "mimetype": "text/x-python",
   "name": "python",
   "nbconvert_exporter": "python",
   "pygments_lexer": "ipython3",
   "version": "3.7.4"
  }
 },
 "nbformat": 4,
 "nbformat_minor": 2
}
