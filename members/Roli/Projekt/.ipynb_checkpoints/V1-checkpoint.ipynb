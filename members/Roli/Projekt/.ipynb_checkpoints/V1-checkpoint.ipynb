{
 "cells": [
  {
   "cell_type": "code",
   "execution_count": 8,
   "metadata": {},
   "outputs": [
    {
     "name": "stdout",
     "output_type": "stream",
     "text": [
      "showing info https://raw.githubusercontent.com/nltk/nltk_data/gh-pages/index.xml\n"
     ]
    },
    {
     "data": {
      "text/plain": [
       "True"
      ]
     },
     "execution_count": 8,
     "metadata": {},
     "output_type": "execute_result"
    }
   ],
   "source": [
    "#!pip install Flask\n",
    "#!pip install pymessenger\n",
    "#!pip install nltk\n",
    "import nltk\n",
    "nltk.download()"
   ]
  },
  {
   "cell_type": "code",
   "execution_count": 10,
   "metadata": {},
   "outputs": [],
   "source": [
    "#Stemmer\n",
    "from nltk.stem.snowball import SnowballStemmer\n",
    "magyar_stem = SnowballStemmer(\"hungarian\")"
   ]
  },
  {
   "cell_type": "code",
   "execution_count": 47,
   "metadata": {},
   "outputs": [
    {
     "data": {
      "text/plain": [
       "'szavas'"
      ]
     },
     "execution_count": 47,
     "metadata": {},
     "output_type": "execute_result"
    }
   ],
   "source": [
    "mondat = \"A gazda megette a kutyát!\"\n",
    "magyar_stem.stem(\"szavas\")"
   ]
  },
  {
   "cell_type": "code",
   "execution_count": 33,
   "metadata": {},
   "outputs": [
    {
     "name": "stdout",
     "output_type": "stream",
     "text": [
      "Collecting spacy==2.1\n",
      "  Downloading https://files.pythonhosted.org/packages/1e/de/09c45b3921d4b63daf6e7feab3e6571217835325c199a2e840267a83a766/spacy-2.1.0-cp37-cp37m-win_amd64.whl (26.9MB)\n",
      "Requirement already satisfied: requests<3.0.0,>=2.13.0 in c:\\users\\rausz\\anaconda3\\lib\\site-packages (from spacy==2.1) (2.22.0)\n",
      "Collecting jsonschema<3.0.0,>=2.6.0 (from spacy==2.1)\n",
      "  Downloading https://files.pythonhosted.org/packages/77/de/47e35a97b2b05c2fadbec67d44cfcdcd09b8086951b331d82de90d2912da/jsonschema-2.6.0-py2.py3-none-any.whl\n",
      "Requirement already satisfied: murmurhash<1.1.0,>=0.28.0 in c:\\users\\rausz\\anaconda3\\lib\\site-packages (from spacy==2.1) (1.0.2)\n",
      "Requirement already satisfied: cymem<2.1.0,>=2.0.2 in c:\\users\\rausz\\anaconda3\\lib\\site-packages (from spacy==2.1) (2.0.3)\n",
      "Requirement already satisfied: wasabi<1.1.0,>=0.0.12 in c:\\users\\rausz\\anaconda3\\lib\\site-packages (from spacy==2.1) (0.7.0)\n",
      "Requirement already satisfied: srsly<1.1.0,>=0.0.5 in c:\\users\\rausz\\anaconda3\\lib\\site-packages (from spacy==2.1) (1.0.2)\n",
      "Collecting plac<1.0.0,>=0.9.6 (from spacy==2.1)\n",
      "  Downloading https://files.pythonhosted.org/packages/9e/9b/62c60d2f5bc135d2aa1d8c8a86aaf84edb719a59c7f11a4316259e61a298/plac-0.9.6-py2.py3-none-any.whl\n",
      "Collecting blis<0.3.0,>=0.2.2 (from spacy==2.1)\n",
      "  Downloading https://files.pythonhosted.org/packages/5e/94/9da0eff97411b3e85933e8b955d2ffd353f97b65372a2861e57d59d9ad5d/blis-0.2.4-cp37-cp37m-win_amd64.whl (3.1MB)\n",
      "Collecting preshed<2.1.0,>=2.0.1 (from spacy==2.1)\n",
      "  Downloading https://files.pythonhosted.org/packages/b8/e3/0ec374ed2b5046073e735b6e349d759e795fc2e3c83306fbef88efa01921/preshed-2.0.1-cp37-cp37m-win_amd64.whl (73kB)\n",
      "Requirement already satisfied: numpy>=1.15.0 in c:\\users\\rausz\\anaconda3\\lib\\site-packages (from spacy==2.1) (1.16.5)\n",
      "Collecting thinc<7.1.0,>=7.0.2 (from spacy==2.1)\n",
      "  Downloading https://files.pythonhosted.org/packages/20/16/96f6c0a4301f392077c67831639e8e614e2adf45185ee6a1c6a3f0ab2299/thinc-7.0.8-cp37-cp37m-win_amd64.whl (1.9MB)\n",
      "Requirement already satisfied: urllib3!=1.25.0,!=1.25.1,<1.26,>=1.21.1 in c:\\users\\rausz\\anaconda3\\lib\\site-packages (from requests<3.0.0,>=2.13.0->spacy==2.1) (1.24.2)\n",
      "Requirement already satisfied: certifi>=2017.4.17 in c:\\users\\rausz\\anaconda3\\lib\\site-packages (from requests<3.0.0,>=2.13.0->spacy==2.1) (2019.9.11)\n",
      "Requirement already satisfied: idna<2.9,>=2.5 in c:\\users\\rausz\\anaconda3\\lib\\site-packages (from requests<3.0.0,>=2.13.0->spacy==2.1) (2.8)\n",
      "Requirement already satisfied: chardet<3.1.0,>=3.0.2 in c:\\users\\rausz\\anaconda3\\lib\\site-packages (from requests<3.0.0,>=2.13.0->spacy==2.1) (3.0.4)\n",
      "Requirement already satisfied: tqdm<5.0.0,>=4.10.0 in c:\\users\\rausz\\anaconda3\\lib\\site-packages (from thinc<7.1.0,>=7.0.2->spacy==2.1) (4.46.1)\n",
      "Installing collected packages: jsonschema, plac, blis, preshed, thinc, spacy\n",
      "  Found existing installation: jsonschema 3.0.2\n",
      "    Uninstalling jsonschema-3.0.2:\n",
      "      Successfully uninstalled jsonschema-3.0.2\n",
      "  Found existing installation: plac 1.1.3\n",
      "    Uninstalling plac-1.1.3:\n",
      "      Successfully uninstalled plac-1.1.3\n",
      "  Found existing installation: blis 0.4.1\n",
      "    Uninstalling blis-0.4.1:\n",
      "      Successfully uninstalled blis-0.4.1\n"
     ]
    },
    {
     "name": "stderr",
     "output_type": "stream",
     "text": [
      "ERROR: jupyterlab-server 1.0.6 has requirement jsonschema>=3.0.1, but you'll have jsonschema 2.6.0 which is incompatible.\n",
      "ERROR: Could not install packages due to an EnvironmentError: [WinError 5] A hozzáférés megtagadva: 'c:\\\\users\\\\rausz\\\\anaconda3\\\\lib\\\\site-packages\\\\~lis\\\\cy.cp37-win_amd64.pyd'\n",
      "Consider using the `--user` option or check the permissions.\n",
      "\n"
     ]
    }
   ],
   "source": [
    "!pip install spacy==2.1\n"
   ]
  },
  {
   "cell_type": "code",
   "execution_count": 10,
   "metadata": {},
   "outputs": [
    {
     "name": "stdout",
     "output_type": "stream",
     "text": [
      "Collecting spacy==2.1\n",
      "  Using cached https://files.pythonhosted.org/packages/1e/de/09c45b3921d4b63daf6e7feab3e6571217835325c199a2e840267a83a766/spacy-2.1.0-cp37-cp37m-win_amd64.whl\n",
      "Requirement already satisfied: srsly<1.1.0,>=0.0.5 in c:\\users\\rausz\\anaconda3\\lib\\site-packages (from spacy==2.1) (1.0.2)\n",
      "Requirement already satisfied: cymem<2.1.0,>=2.0.2 in c:\\users\\rausz\\anaconda3\\lib\\site-packages (from spacy==2.1) (2.0.3)\n",
      "Collecting blis<0.3.0,>=0.2.2 (from spacy==2.1)\n",
      "  Using cached https://files.pythonhosted.org/packages/5e/94/9da0eff97411b3e85933e8b955d2ffd353f97b65372a2861e57d59d9ad5d/blis-0.2.4-cp37-cp37m-win_amd64.whl\n",
      "Requirement already satisfied: jsonschema<3.0.0,>=2.6.0 in c:\\users\\rausz\\anaconda3\\lib\\site-packages (from spacy==2.1) (2.6.0)\n",
      "Requirement already satisfied: murmurhash<1.1.0,>=0.28.0 in c:\\users\\rausz\\anaconda3\\lib\\site-packages (from spacy==2.1) (1.0.2)\n",
      "Requirement already satisfied: requests<3.0.0,>=2.13.0 in c:\\users\\rausz\\anaconda3\\lib\\site-packages (from spacy==2.1) (2.22.0)\n",
      "Requirement already satisfied: numpy>=1.15.0 in c:\\users\\rausz\\anaconda3\\lib\\site-packages (from spacy==2.1) (1.16.5)\n",
      "Collecting preshed<2.1.0,>=2.0.1 (from spacy==2.1)\n",
      "  Using cached https://files.pythonhosted.org/packages/b8/e3/0ec374ed2b5046073e735b6e349d759e795fc2e3c83306fbef88efa01921/preshed-2.0.1-cp37-cp37m-win_amd64.whl\n",
      "Requirement already satisfied: wasabi<1.1.0,>=0.0.12 in c:\\users\\rausz\\anaconda3\\lib\\site-packages (from spacy==2.1) (0.7.0)\n",
      "Requirement already satisfied: plac<1.0.0,>=0.9.6 in c:\\users\\rausz\\anaconda3\\lib\\site-packages (from spacy==2.1) (0.9.6)\n",
      "Collecting thinc<7.1.0,>=7.0.2 (from spacy==2.1)\n",
      "  Using cached https://files.pythonhosted.org/packages/20/16/96f6c0a4301f392077c67831639e8e614e2adf45185ee6a1c6a3f0ab2299/thinc-7.0.8-cp37-cp37m-win_amd64.whl\n",
      "Requirement already satisfied: certifi>=2017.4.17 in c:\\users\\rausz\\anaconda3\\lib\\site-packages (from requests<3.0.0,>=2.13.0->spacy==2.1) (2019.9.11)\n",
      "Requirement already satisfied: chardet<3.1.0,>=3.0.2 in c:\\users\\rausz\\anaconda3\\lib\\site-packages (from requests<3.0.0,>=2.13.0->spacy==2.1) (3.0.4)\n",
      "Requirement already satisfied: urllib3!=1.25.0,!=1.25.1,<1.26,>=1.21.1 in c:\\users\\rausz\\anaconda3\\lib\\site-packages (from requests<3.0.0,>=2.13.0->spacy==2.1) (1.24.2)\n",
      "Requirement already satisfied: idna<2.9,>=2.5 in c:\\users\\rausz\\anaconda3\\lib\\site-packages (from requests<3.0.0,>=2.13.0->spacy==2.1) (2.8)\n",
      "Requirement already satisfied: tqdm<5.0.0,>=4.10.0 in c:\\users\\rausz\\anaconda3\\lib\\site-packages (from thinc<7.1.0,>=7.0.2->spacy==2.1) (4.46.1)\n",
      "Installing collected packages: blis, preshed, thinc, spacy\n",
      "  Found existing installation: blis 0.4.1\n",
      "    Uninstalling blis-0.4.1:\n",
      "      Successfully uninstalled blis-0.4.1\n"
     ]
    },
    {
     "name": "stderr",
     "output_type": "stream",
     "text": [
      "ERROR: Could not install packages due to an EnvironmentError: [WinError 5] A hozzáférés megtagadva: 'c:\\\\users\\\\rausz\\\\anaconda3\\\\lib\\\\site-packages\\\\~-is\\\\cy.cp37-win_amd64.pyd'\n",
      "Consider using the `--user` option or check the permissions.\n",
      "\n"
     ]
    }
   ],
   "source": [
    "!pip install spacy==2.1\n",
    "#import spacy"
   ]
  },
  {
   "cell_type": "code",
   "execution_count": 3,
   "metadata": {},
   "outputs": [
    {
     "data": {
      "text/plain": [
       "Hány szó az absztrakt?"
      ]
     },
     "execution_count": 3,
     "metadata": {},
     "output_type": "execute_result"
    }
   ],
   "source": [
    "import hu_core_ud_lg\n",
    "nlp = hu_core_ud_lg.load()\n",
    "\n",
    "uzenet = \"Hány szó az absztrakt?\"\n",
    "uzenet_nlp = nlp(uzenet)\n",
    "\n",
    "uzenet_nlp"
   ]
  },
  {
   "cell_type": "code",
   "execution_count": 7,
   "metadata": {},
   "outputs": [
    {
     "name": "stdout",
     "output_type": "stream",
     "text": [
      "Requirement already satisfied: unidecode in c:\\users\\rausz\\anaconda3\\lib\\site-packages (1.1.1)\n",
      "['Mit', 'csináljak', 'két', 'szerzőnél', '?'] ['mi', 'csinál', 'két', 'szerző', '?'] ['mi', 'csinal', 'ket', 'szerzo', '?']\n"
     ]
    }
   ],
   "source": [
    "!pip install unidecode\n",
    "import unidecode\n",
    "\n",
    "uzenet = \"Mit csináljak két szerzőnél?\"\n",
    "uzenet_nlp = nlp(uzenet)\n",
    "eredeti_szavak = []\n",
    "lemma_szavak = []\n",
    "ekezet_nelkuli_szavak = []\n",
    "            \n",
    "                \n",
    "                #szavak lemmatizálása\n",
    "for szo in uzenet_nlp:\n",
    "    eredeti_szavak.append(szo.text)\n",
    "    lemma_szavak.append(szo.lemma_)\n",
    "    \n",
    "for i in lemma_szavak:\n",
    "    ekezet_nelkuli_szavak.append(unidecode.unidecode(i))\n",
    "\n",
    "print(eredeti_szavak,lemma_szavak,ekezet_nelkuli_szavak)\n",
    "\n"
   ]
  },
  {
   "cell_type": "code",
   "execution_count": 49,
   "metadata": {},
   "outputs": [
    {
     "name": "stdout",
     "output_type": "stream",
     "text": [
      "A a\n",
      "gazda gazda\n",
      "megetette megetet\n",
      "a a\n",
      "kutyát kutya\n"
     ]
    }
   ],
   "source": [
    "for szo in doc:\n",
    "    print(szo.text,szo.lemma_)"
   ]
  },
  {
   "cell_type": "code",
   "execution_count": 8,
   "metadata": {},
   "outputs": [
    {
     "ename": "SyntaxError",
     "evalue": "invalid syntax (<ipython-input-8-28779d8b5f40>, line 88)",
     "output_type": "error",
     "traceback": [
      "\u001b[1;36m  File \u001b[1;32m\"<ipython-input-8-28779d8b5f40>\"\u001b[1;36m, line \u001b[1;32m88\u001b[0m\n\u001b[1;33m    if (\"kereszt\" or \"kereszthivatkozas\" or \"kereszt hivatkozas\")\u001b[0m\n\u001b[1;37m                                                                 ^\u001b[0m\n\u001b[1;31mSyntaxError\u001b[0m\u001b[1;31m:\u001b[0m invalid syntax\n"
     ]
    }
   ],
   "source": [
    "#!pip install Flask\n",
    "#!pip install pymessenger\n",
    "#!pip install https://github.com/oroszgy/spacy-hungarian-models/releases/download/hu_core_ud_lg-0.3.1/hu_core_ud_lg-0.3.1-py3-none-any.whl\n",
    "#!pip install spacy==2.1\n",
    "#!pip install unidecode\n",
    "#Gif küldést is meg lehetne próbálni\n",
    "\n",
    "import unidecode\n",
    "import random\n",
    "from flask import Flask, request\n",
    "from pymessenger.bot import Bot\n",
    "import spacy\n",
    "import hu_core_ud_lg\n",
    "nlp = hu_core_ud_lg.load()\n",
    "\n",
    "app = Flask(__name__)\n",
    "ACCESS_TOKEN = 'EAAnMFMZAxZAUMBAC1s22arTMg4LObsBGuZCMItXgbZBu78cCZApnSAWbHuhgLzRUYZAB0hIxYYKZAr5GjRWK5jOfTVfvQjZCPxaRVIAzuX56ZC6CJD6Js3uHbFttmPoQpchaHfilZAclWIna6VoFRagRoYxF7zoyyvDTNmsI7Eov0QugZDZD'\n",
    "VERIFY_TOKEN = 'VERIFY_TOKEN'\n",
    "bot = Bot(ACCESS_TOKEN)\n",
    "\n",
    "def verify_fb_token(token_sent): #a beérkező token egyezését ellenőrző függvény. Ha megegyezik, lefut, ha nem, errort dob ki\n",
    "    if token_sent == VERIFY_TOKEN:\n",
    "        return request.args.get(\"hub.challenge\")\n",
    "    else:\n",
    "        return 'Invalid verification token'\n",
    "\n",
    "\n",
    "#Ez határozza meg a visszaküldendő üzenetet, ide kell majd előtte az nlp warpolgatás\n",
    "def get_message():\n",
    "    sample_responses = [\"You are stunning!\", \"We're proud of you.\", \"Keep on being you!\", \"We're greatful to know you :)\"]\n",
    "    # return selected item to the user\n",
    "    return random.choice(sample_responses)\n",
    "\n",
    "#uses PyMessenger to send response to user\n",
    "def send_message(recipient_id, response):\n",
    "    bot.send_text_message(recipient_id, response) #pymessenger uzenetkuldo kodja\n",
    "    return \"success\"\n",
    "    \n",
    "\n",
    "\n",
    "#requesteket befogadó link (endpoint) elkészítése (ide kerülnek az üzenetek)\n",
    "@app.route(\"/\", methods=['GET', 'POST'])\n",
    "def receive_message():\n",
    "    if request.method == 'GET': #A GET az ellenőrzési token beérkezésének interakcióját jelenti\n",
    "        token_sent = request.args.get(\"hub.verify_token\") #Ez gyakorlatilag egy biztonsági kód, ami megakadályozza a külső (nem FB) requesteket\n",
    "        return verify_fb_token(token_sent)                #Előre meg kell adni a FB-nak, ezt visszaküldi a request esetén, ha nem matchel, nem fut le az app\n",
    "\n",
    "    \n",
    "    else: #Ha nem GET, akkor személy által küldött üzenet, kép stb.\n",
    "       output = request.get_json()\n",
    "       for event in output['entry']:\n",
    "          messaging = event['messaging'] #leszűri az beérkező interakciók, \"eventek\" közül az üzenetekre\n",
    "          for message in messaging:\n",
    "            if message.get('message'):\n",
    "                \n",
    "                recipient_id = message['sender']['id'] #Tudnunk kell, hogy ki küldte (azonosító): neki fogjuk vissza is küldeni\n",
    "\n",
    "                #Kapott üzenet lekérése\n",
    "                kapott_uzenet = message['message'].get('text')\n",
    "                kapott_uzenet_nlp = nlp(kapott_uzenet)\n",
    "                \n",
    "                eredeti_szavak = []\n",
    "                lemma_szavak = []\n",
    "                ekezet_nelkuli_szavak = []\n",
    "            \n",
    "                #szavak lemmatizálása\n",
    "                for szo in kapott_uzenet_nlp:\n",
    "                    eredeti_szavak.append(szo.text)\n",
    "                    lemma_szavak.append(szo.lemma_)\n",
    "                    \n",
    "                #Ékezetek eltávolítása\n",
    "                for i in lemma_szavak:\n",
    "                    ekezet_nelkuli_szavak.append(unidecode.unidecode(i))\n",
    "\n",
    "                    \n",
    "                #Elágazás a válaszokhoz\n",
    "                if \"\" in ekezet_nelkuli_szavak:\n",
    "                    response_sent_text = \"PLACEHOLDER\"\n",
    "                    send_message(recipient_id, response_sent_text)\n",
    "                    \n",
    "                #Több szerző esetén   \n",
    "                elif (\"szerzok\" or \"szerzo\") and (\"hivatkozas\" or \"tobb\" or \"ketto\" or \"harom\" or \"szoveg\" or \"szovegkoz\") in ekezet_nelkuli_szavak:\n",
    "                    valasz = \"Egy- illetve két szerző esetében a szövegközben a vezetéknevek feltüntetésével (Németh, 2002) illetve (Németh – Zsótér, 2007), három vagy több szerző esetén az első szerző megnevezése után et al. (et alii latin kifejezés jelentése: és mások) kifejezéssel rövidíthető a hivatkozás (Németh et al., 2002). Az et al. használata csak szövegközben megengedett, a hivatkozásjegyzékbe minden nevet ki kell írni!\"\n",
    "                    send_message(recipient_id, valasz)\n",
    "                    \n",
    "                #Kereszthivatkozás\n",
    "                elif (\"kereszt\" or \"kereszthivatkozas\" or \"kereszt hivatkozas\"):\n",
    "                    valasz = \"\"\"Közvetett hivatkozás, avagy hivatkozás a hivatkozás hivatkozására, ha a dolgozatban hivatkozott mű a hivatkozott résznél egy másik műre hivatkozik. Tehát amikor a dolgozatban idézett Németh műve a hivatkozott résznél a dolgozatban nem hivatkozott Zsótér művét idézi.\n",
    "\n",
    "Formáját tekintve több jó megoldási forma van, de egyértelműnek kell lennie, hogy ki idéz kit. A pontosság érdekében kereszthivatkozásnál feltüntethető mindkét mű keletkezési ideje.\n",
    "\n",
    "Példa:\n",
    "\n",
    "szövegközben: Zsótért idézi Németh, 2006, 32. old. VAGY (Zsótér, 2002-t idézi Németh, 2006, 32. old.)\n",
    "hivatkozásjegyzékben: Németh Ders (2006): Demonstrátori visszaemlékezéseim. Budapest, Aula Kiadó\n",
    "\n",
    "Tehát itt már Zsótér művét nem kell említeni. Itt jó viszonyítási alapként szolgálhat az a szabály, hogy olyan könyvet/cikket nem szabad forrásjegyzékbe betenni, amit nem is fogtunk a kezünkbe (ezért nem szabad közvetlenül az idézett forrásra hivatkozni, még ha annak pontos hivatkozása benne is van az olvasott műben). Ennek gyakorlati jelentősége is lehet: előfordulhat, hogy az általunk olvasott mű félreértelmezi, rosszul interpretálja az eredetit, a kereszthivatkozással ezt a “felelősséget” kerülhetjük el.\n",
    "\"\"\"\n",
    "                    send_message(recipient_id, valasz)\n",
    "                    \n",
    "                #Szó szerinti hivatkozás   \n",
    "                elif (\"szo szerint\" or \"szo szerinti\" or \"szoszerinti\" or \"szoszerint\" or \"idezet\" or \"idezek\") and (\"hivatkozas\" or \"hivatkozni\" or \"hivatkozzam\" or \"szovegkozben\" or \"lehivatkozni\")) in ekezet_nelkuli_szavak:\n",
    "                    valasz = \"Minden esetben idézőjelbe kell tenni az idézett szöveget (“Minden esetben idézőjelbe kell tenni...” (Ábrahám-Fekete, 2012, 2. old.)).\"\n",
    "                    send_message(recipient_id, valasz)\n",
    "                    \n",
    "                    \n",
    "                #Oldalszám\n",
    "                elif (\"oldal\" or \"oldalszam\" or \"felsorolas\" or \"tablazat\" or \"szo szerint\" or \"forditas\" or \"abra\" or \"szo szerinti\" or \"szoszerint\" or \"szoszerinti\" or \"szam adat\" or \"szamszeru adat\" or \"szamadat\" or \"adat\") and (\"hivatkozas\" or \"hivatkozni\" or \"hivatkozzam\" or \"lehivatkozni\") in ekezet_nelkuli_szavak:\n",
    "                    valasz = \"\"\"Szó szerinti idézet, listaszerű felsorolás, fordítás, táblázat, számszerűsített adatközlés vagy ábra esetén a pontos oldalszám is kötelezően megjelölendő (Németh – Zsótér, 2007,77. old.).\n",
    "                    Az oldalszám feltüntetésének számos módja van, itt is a következetesség a legfontosabb. Alkalmazható a magyar (27. old./oldal), angol (p. 27, több oldal esetében pp. 27-28), de más elfogadott megoldás is (2007:77, stb.).\n",
    "                    Azon esetekben, amikor a szó szerinti idézetnek, ábrának-táblázatnak, vagy hivatkozott adatnak nincs meghatározható oldalszáma (például internetes honlapon szerepelt), akkor természetesen itt sem lehet feltüntetni. \"\"\"\n",
    "                    send_message(recipient_id, valasz)\n",
    "                    \n",
    "                \n",
    "                #Táblázat\n",
    "                elif (\"tablazat\" or \"abra\" ) and (\"hivatkozas\" or \"hivatkozni\" or \"hivatkozzam\" or \"szovegkozben\" or \"formai\" or \"oldalszam\" or \"forras\" or \"lehivatkozni\") in ekezet_nelkuli_szavak:\n",
    "                    valasz = \"\"\"Sokszor ezek a vizualizációk segítenek szemléletesebben, egyszerűbben közölni az információt, ilyenkor használatuk ajánlott. Már csak azon okból kifolyólag is, mert megtörik a folytonos szöveg monotóniáját, olvasmányosabbá teszik a dolgozatot. Fontos észben tartani, hogy hivatkozásuk módjára speciális szabályok érvényesek: minden esetben közvetlenül az adott objektum (illetve annak címmegjelölése) alatt fel kell tüntetni a forrást, pontos oldalszámmal. Az alábbi esetek fordulhatnak elő:\n",
    "\n",
    "                    1) Ha saját készítésű objektumról van szó (pl. egy koncepcionális ábra esetén), erről is informálni kell az olvasót – amennyiben ez nem teljesen egyértelmű. Ezt például (1. ábra - XY, forrás: saját koncepció), vagy más módon szoktuk jelezni.\n",
    "\n",
    "                    2) Más szerző ábrájának, stb. átvétele estén minden esetben fel kell tüntetni a pontos oldalszámot. A változtatás nélkül átvett ábrák, grafikonok esetében értelemszerűen az általánosnak megfelelően, oldalszámmal kiegészítve (például: 2. ábra - YZ, forrás: Németh-Zsótér, 2007, 3. oldal).\n",
    "\n",
    "                    3) Ha mégis változtatunk az eredeti objektumon, akkor ugyancsak fel kell tüntetni a forrást, a végére odaírva, hogy „alapján” vagy más utalás a változtatásra. Előfordulhat, hogy pl. több táblázatot gyúrunk egybe, ekkor az összes forrást fel kell sorolni (például: 2. ábra - YZ, forrás: Németh-Zsótér, 2007, 3. oldal alapján saját elképzelés).\n",
    "\n",
    "                    4) Ha közvetett hivatkozásról (lásd korábban) van szó, akkor a szövegközi megoldáshoz hasonlóan járunk el: feltüntetjük az eredeti forrást, idézi: ahol mi láttuk az ábrát, és a hivatkozásjegyzékben csak ez utóbbi szerepel.\"\"\"\n",
    "                    send_message(recipient_id, valasz)\n",
    "                    \n",
    "                #Adatpont\n",
    "                elif (\"adat\" or \"adatpont or \") and (\"hivatkozas\" or \"hivatkozni\" or \"hivatkozzam\" or \"szovegkozben\" or \"lehivatkozni\") in ekezet_nelkuli_szavak:\n",
    "                    valasz = \"\"\"Adat hivatkozások esetében a közvetlenül a felhasznált adatot követő (!) hivatkozásban a szerzőt és évszámot követően ugyancsak fel kell tüntetni a pontos oldalszámot.\n",
    "                    \n",
    "                    Szövegközben: (Schwab, 2017, 9. old.)\n",
    "                    \n",
    "                    Hivatkozásjegyzékben: Schwab, Klaus (2017): The Global Competitiveness Report 2017-2018. World Economic Forum\"\"\"\n",
    "                    send_message(recipient_id, valasz)\n",
    "                    \n",
    "                elif (\"szerzok\" or \"szerzo\") and (\"hivatkozas\" or \"hivatkozni\" or \"hivatkozzam\" or \"szovegkozben\" or \"lehivatkozni\") in ekezet_nelkuli_szavak:\n",
    "                    valasz = \"\"\n",
    "                    send_message(recipient_id, valasz)\n",
    "                    \n",
    "                elif (\"szerzok\" or \"szerzo\") and (\"hivatkozas\" or \"hivatkozni\" or \"hivatkozzam\" or \"szovegkozben\" or \"lehivatkozni\") in ekezet_nelkuli_szavak:\n",
    "                    valasz = \"\"\n",
    "                    send_message(recipient_id, valasz)\n",
    "                    \n",
    "                elif (\"szerzok\" or \"szerzo\") and (\"hivatkozas\" or \"hivatkozni\" or \"hivatkozzam\" or \"szovegkozben\") in ekezet_nelkuli_szavak:\n",
    "                    valasz = \"\"\n",
    "                    send_message(recipient_id, valasz)\n",
    "                    \n",
    "                    \n",
    "                \n",
    "                    \n",
    "                \n",
    "                elif: #message['message'].get('text'): #ha üzenet a tartalma\n",
    "                    response_sent_text = get_message()\n",
    "                    send_message(recipient_id, response_sent_text)\n",
    "                    \n",
    "         \n",
    "                else message['message'].get('attachments'): #ha más a tartalma (pl. kép, GIF stb.)\n",
    "                    response_sent_nontext = get_message()\n",
    "                    send_message(recipient_id, response_sent_nontext)\n",
    "    return \"Message Processed\"\n",
    "\n",
    "\n",
    "if __name__ == \"__main__\":\n",
    "    app.run()"
   ]
  },
  {
   "cell_type": "code",
   "execution_count": null,
   "metadata": {},
   "outputs": [],
   "source": []
  }
 ],
 "metadata": {
  "kernelspec": {
   "display_name": "Python 3",
   "language": "python",
   "name": "python3"
  },
  "language_info": {
   "codemirror_mode": {
    "name": "ipython",
    "version": 3
   },
   "file_extension": ".py",
   "mimetype": "text/x-python",
   "name": "python",
   "nbconvert_exporter": "python",
   "pygments_lexer": "ipython3",
   "version": "3.7.4"
  }
 },
 "nbformat": 4,
 "nbformat_minor": 2
}
