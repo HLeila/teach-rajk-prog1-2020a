{
 "cells": [
  {
   "cell_type": "code",
   "execution_count": 1,
   "metadata": {},
   "outputs": [
    {
     "name": "stdout",
     "output_type": "stream",
     "text": [
      "Requirement already satisfied: jkg_evaluators in c:\\users\\rausz\\anaconda3\\lib\\site-packages (0.0.2)\n"
     ]
    }
   ],
   "source": [
    "!pip install jkg_evaluators\n",
    "cow_alive_list_test_1 = [False, False, True, True, True]"
   ]
  },
  {
   "cell_type": "code",
   "execution_count": 25,
   "metadata": {},
   "outputs": [],
   "source": [
    "#Sárkány tesztelés"
   ]
  },
  {
   "cell_type": "code",
   "execution_count": 2,
   "metadata": {},
   "outputs": [],
   "source": [
    "def my_solution1(is_dead,number_of_cows):\n",
    "\n",
    "    kover_elo = 0\n",
    "    sovany_elo = (number_of_cows - 1)\n",
    "    \n",
    "    while (kover_elo) < sovany_elo:\n",
    "        kozep = int((kover_elo + sovany_elo) / 2)\n",
    "        \n",
    "        if is_dead(kozep) != is_dead(kozep + 1):\n",
    "            return kozep + 1\n",
    "        \n",
    "        elif is_dead(kozep) == True:\n",
    "            kover_elo = kozep\n",
    "            \n",
    "        elif is_dead(kozep) == False:\n",
    "            sovany_elo = kozep\n",
    "            "
   ]
  },
  {
   "cell_type": "code",
   "execution_count": 3,
   "metadata": {},
   "outputs": [
    {
     "name": "stdout",
     "output_type": "stream",
     "text": [
      "- success rate: 124714/124714 (100.0%)\n",
      "- error count: 0\n",
      "- best performance: 2\n",
      "- worst performance: 34\n",
      "- mean performance: 24.023189056561414\n"
     ]
    }
   ],
   "source": [
    "from jkg_evaluators import dragonfind_10_to_500\n",
    "dragonfind_10_to_500.evaluate(my_solution1)"
   ]
  },
  {
   "cell_type": "code",
   "execution_count": 31,
   "metadata": {},
   "outputs": [
    {
     "name": "stdout",
     "output_type": "stream",
     "text": [
      "[14, 13, 12, 11, 10, 9, 8, 7, 6, 5, 4, 3, 2, 1]\n"
     ]
    }
   ],
   "source": [
    "k = 0\n",
    "n = 100\n",
    "reszek = []\n",
    "l = 0\n",
    "    \n",
    "    \n",
    "for r in range(0,n):\n",
    "        \n",
    "    reszek.append(r)\n",
    "    k = k + r\n",
    "        \n",
    "    if k >= n:\n",
    "        break\n",
    "          \n",
    "    \n",
    "reszek.sort(reverse = True)\n",
    "reszek.pop()\n",
    "print(reszek)"
   ]
  },
  {
   "cell_type": "code",
   "execution_count": 1,
   "metadata": {},
   "outputs": [],
   "source": [
    "# Tojás dobálás (100 emelet, 2 tojás)\n",
    "\n",
    "def tojas(breaks):\n",
    "    k = 0\n",
    "    n = 100\n",
    "    reszek = []\n",
    "    l = 0\n",
    "    \n",
    "    for r in range(0,n):\n",
    "        \n",
    "        reszek.append(r)\n",
    "        k = k + r\n",
    "        \n",
    "        if k >= n:\n",
    "            break\n",
    "    \n",
    "    \n",
    "    reszek.sort(reverse = True)\n",
    "    reszek.pop()\n",
    "    #print(reszek) #Na itt nem ertem, hogy mi van. Ha kulon cellaba csinalom meg (fentebbi cella) eddig okes, de itt nagyon sokszor adja hozza a dolgokat :O\n",
    "                  #Probaltam nagyon sok mindent de ez nem javult meg:(()\n",
    "    \n",
    "    #14-től 1-ig megy a loop, ez felel az intervallumok hosszáért\n",
    "    for i in len(reszek)-1: #Mivel a fentebbi hiba van, ezert ez a for ciklus is tul sokszor fut le\n",
    "        \n",
    "        #A teljes emeletek szama, hogy ebből visszavonva mindig az adott intervallumon menjen végig a kód egyesével\n",
    "        l = l + i   #l = aktuális tesztelés\n",
    "        print(l)\n",
    "            #Ha torott, attól kezdve nézze meg az éppen aktuális intervallum hosszot\n",
    "        if breaks(l) == True:\n",
    "                \n",
    "            for torott in range(l-i+1,l-1):\n",
    "                #l-1-ig, mivel az l már tesztelve van\n",
    "                if breaks(torott) == True:\n",
    "                    return (l - (l-torott))"
   ]
  },
  {
   "cell_type": "code",
   "execution_count": 2,
   "metadata": {},
   "outputs": [
    {
     "name": "stdout",
     "output_type": "stream",
     "text": [
      "- success rate: 0/101 (0.0%)\n",
      "- error count: 101\n",
      "\n",
      "\n",
      " ERROR at: \n",
      " {'egg_count': 2, 'floor_count': 100, 'max_floor': 0} \n",
      " - TypeError ('int' object is not iterable)\n",
      "\n",
      "\n",
      " ERROR at: \n",
      " {'egg_count': 2, 'floor_count': 100, 'max_floor': 1} \n",
      " - TypeError ('int' object is not iterable)\n",
      "\n",
      "\n",
      " ERROR at: \n",
      " {'egg_count': 2, 'floor_count': 100, 'max_floor': 2} \n",
      " - TypeError ('int' object is not iterable)\n",
      "\n",
      "\n",
      " ERROR at: \n",
      " {'egg_count': 2, 'floor_count': 100, 'max_floor': 3} \n",
      " - TypeError ('int' object is not iterable)\n",
      "\n",
      "\n",
      " ERROR at: \n",
      " {'egg_count': 2, 'floor_count': 100, 'max_floor': 4} \n",
      " - TypeError ('int' object is not iterable)\n",
      "\n",
      "\n",
      " ERROR at: \n",
      " {'egg_count': 2, 'floor_count': 100, 'max_floor': 5} \n",
      " - TypeError ('int' object is not iterable)\n",
      "\n",
      "\n",
      " ERROR at: \n",
      " {'egg_count': 2, 'floor_count': 100, 'max_floor': 6} \n",
      " - TypeError ('int' object is not iterable)\n",
      "\n",
      "\n",
      " ERROR at: \n",
      " {'egg_count': 2, 'floor_count': 100, 'max_floor': 7} \n",
      " - TypeError ('int' object is not iterable)\n",
      "\n",
      "\n",
      " ERROR at: \n",
      " {'egg_count': 2, 'floor_count': 100, 'max_floor': 8} \n",
      " - TypeError ('int' object is not iterable)\n",
      "\n",
      "\n",
      " ERROR at: \n",
      " {'egg_count': 2, 'floor_count': 100, 'max_floor': 9} \n",
      " - TypeError ('int' object is not iterable)\n"
     ]
    }
   ],
   "source": [
    "from jkg_evaluators import eggdrop_100floor_2egg\n",
    "eggdrop_100floor_2egg.evaluate(tojas)"
   ]
  },
  {
   "cell_type": "markdown",
   "metadata": {},
   "source": [
    "Ilyenkor írj, ha valamit nem sikerül megfejteni a tesztelő környezettel kapcsolatban. Mármint a leadás óta erre már volt példa szóval ennek örülök, de az nem annyira jó, hogy ez csak a házi jaívtás közben derül ki számomra. Ha írtál róla és nem vettem észre akkor elnézést. A megoldás gondolatmenete egyébként teljesen jó. Ebből a tojásos feladatból egy működőt a kurzushétvége végéig adj le ha kérhetem. Ahogy lejött szerintem már az eltelt időnek köszönhetően ki tudod javítani te is, de ha nem megy akkor írj rám és átbeszéljük."
   ]
  }
 ],
 "metadata": {
  "kernelspec": {
   "display_name": "Python 3",
   "language": "python",
   "name": "python3"
  },
  "language_info": {
   "codemirror_mode": {
    "name": "ipython",
    "version": 3
   },
   "file_extension": ".py",
   "mimetype": "text/x-python",
   "name": "python",
   "nbconvert_exporter": "python",
   "pygments_lexer": "ipython3",
<<<<<<< HEAD
   "version": "3.7.3"
=======
   "version": "3.8.2"
>>>>>>> upstream/master
  }
 },
 "nbformat": 4,
 "nbformat_minor": 2
}
