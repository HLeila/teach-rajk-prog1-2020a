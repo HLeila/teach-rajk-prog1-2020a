{
 "cells": [
  {
   "cell_type": "code",
   "execution_count": 3,
   "metadata": {},
   "outputs": [],
   "source": [
    "import requests\n",
    "from bs4 import BeautifulSoup\n",
    "import pandas as pd"
   ]
  },
  {
   "cell_type": "code",
   "execution_count": 4,
   "metadata": {},
   "outputs": [],
   "source": [
    "roms = pd.concat([pd.DataFrame(\n",
    "    [{'arab':a.text.split()[0],'roman':a.text.split()[1]} for a in \\\n",
    " BeautifulSoup(requests.get('https://smorgasborg.artlung.com/roman-numerals/page/%d' % p) \\\n",
    "              .content,'html5lib').find('pre').find_all('a')]) for p in range(1,11)])\\\n",
    "    .loc[lambda df: df['arab'] != '0',:]"
   ]
  },
  {
   "cell_type": "code",
   "execution_count": 5,
   "metadata": {},
   "outputs": [
    {
     "data": {
      "text/html": [
       "<div>\n",
       "<style scoped>\n",
       "    .dataframe tbody tr th:only-of-type {\n",
       "        vertical-align: middle;\n",
       "    }\n",
       "\n",
       "    .dataframe tbody tr th {\n",
       "        vertical-align: top;\n",
       "    }\n",
       "\n",
       "    .dataframe thead th {\n",
       "        text-align: right;\n",
       "    }\n",
       "</style>\n",
       "<table border=\"1\" class=\"dataframe\">\n",
       "  <thead>\n",
       "    <tr style=\"text-align: right;\">\n",
       "      <th></th>\n",
       "      <th>arab</th>\n",
       "      <th>roman</th>\n",
       "    </tr>\n",
       "  </thead>\n",
       "  <tbody>\n",
       "    <tr>\n",
       "      <td>1</td>\n",
       "      <td>1</td>\n",
       "      <td>I</td>\n",
       "    </tr>\n",
       "    <tr>\n",
       "      <td>2</td>\n",
       "      <td>2</td>\n",
       "      <td>II</td>\n",
       "    </tr>\n",
       "    <tr>\n",
       "      <td>3</td>\n",
       "      <td>3</td>\n",
       "      <td>III</td>\n",
       "    </tr>\n",
       "    <tr>\n",
       "      <td>4</td>\n",
       "      <td>4</td>\n",
       "      <td>IV</td>\n",
       "    </tr>\n",
       "    <tr>\n",
       "      <td>5</td>\n",
       "      <td>5</td>\n",
       "      <td>V</td>\n",
       "    </tr>\n",
       "    <tr>\n",
       "      <td>...</td>\n",
       "      <td>...</td>\n",
       "      <td>...</td>\n",
       "    </tr>\n",
       "    <tr>\n",
       "      <td>996</td>\n",
       "      <td>9996</td>\n",
       "      <td>MMMMMMMMMCMXCVI</td>\n",
       "    </tr>\n",
       "    <tr>\n",
       "      <td>997</td>\n",
       "      <td>9997</td>\n",
       "      <td>MMMMMMMMMCMXCVII</td>\n",
       "    </tr>\n",
       "    <tr>\n",
       "      <td>998</td>\n",
       "      <td>9998</td>\n",
       "      <td>MMMMMMMMMCMXCVIII</td>\n",
       "    </tr>\n",
       "    <tr>\n",
       "      <td>999</td>\n",
       "      <td>9999</td>\n",
       "      <td>MMMMMMMMMCMXCIX</td>\n",
       "    </tr>\n",
       "    <tr>\n",
       "      <td>1000</td>\n",
       "      <td>10000</td>\n",
       "      <td>MMMMMMMMMM</td>\n",
       "    </tr>\n",
       "  </tbody>\n",
       "</table>\n",
       "<p>10009 rows × 2 columns</p>\n",
       "</div>"
      ],
      "text/plain": [
       "       arab              roman\n",
       "1         1                  I\n",
       "2         2                 II\n",
       "3         3                III\n",
       "4         4                 IV\n",
       "5         5                  V\n",
       "...     ...                ...\n",
       "996    9996    MMMMMMMMMCMXCVI\n",
       "997    9997   MMMMMMMMMCMXCVII\n",
       "998    9998  MMMMMMMMMCMXCVIII\n",
       "999    9999    MMMMMMMMMCMXCIX\n",
       "1000  10000         MMMMMMMMMM\n",
       "\n",
       "[10009 rows x 2 columns]"
      ]
     },
     "execution_count": 5,
     "metadata": {},
     "output_type": "execute_result"
    }
   ],
   "source": [
    "roms"
   ]
  },
  {
   "cell_type": "code",
   "execution_count": 10,
   "metadata": {},
   "outputs": [],
   "source": [
    "def rom2ar_test(fun): # ez azokat az eseteket adja vissza, ahol az átváltás helytelen\n",
    "    calc = roms['roman'].apply(fun)\n",
    "    tru = roms['arab'].apply(int)\n",
    "    return roms[calc != tru]"
   ]
  },
  {
   "cell_type": "code",
   "execution_count": 16,
   "metadata": {},
   "outputs": [],
   "source": [
    "def rom2ar(rom_string):\n",
    "    \n",
    "    romai_arab = {'I':1, 'V':5, 'X':10, 'L':50, 'C':100, 'D':500, 'M':1000}\n",
    "    result = 0\n",
    "    i = 0\n",
    "    \n",
    "    for c in rom_string:\n",
    "        \n",
    "        if (i+1) == len(rom_string) or romai_arab[c] >= romai_arab[rom_string[i+1]]:\n",
    "            result += romai_arab[c]\n",
    "            \n",
    "        else:\n",
    "            result -= romai_arab[c]\n",
    "            \n",
    "        i += 1\n",
    "            \n",
    "    return result"
   ]
  },
  {
   "cell_type": "code",
   "execution_count": 17,
   "metadata": {},
   "outputs": [
    {
     "data": {
      "text/html": [
       "<div>\n",
       "<style scoped>\n",
       "    .dataframe tbody tr th:only-of-type {\n",
       "        vertical-align: middle;\n",
       "    }\n",
       "\n",
       "    .dataframe tbody tr th {\n",
       "        vertical-align: top;\n",
       "    }\n",
       "\n",
       "    .dataframe thead th {\n",
       "        text-align: right;\n",
       "    }\n",
       "</style>\n",
       "<table border=\"1\" class=\"dataframe\">\n",
       "  <thead>\n",
       "    <tr style=\"text-align: right;\">\n",
       "      <th></th>\n",
       "      <th>arab</th>\n",
       "      <th>roman</th>\n",
       "    </tr>\n",
       "  </thead>\n",
       "  <tbody>\n",
       "  </tbody>\n",
       "</table>\n",
       "</div>"
      ],
      "text/plain": [
       "Empty DataFrame\n",
       "Columns: [arab, roman]\n",
       "Index: []"
      ]
     },
     "execution_count": 17,
     "metadata": {},
     "output_type": "execute_result"
    }
   ],
   "source": [
    "rom2ar_test(rom2ar) #ha jól csináltátok, egy üres dataframet kaptok \"arab\" és \"roman\" oszlopokkal"
   ]
  }
 ],
 "metadata": {
  "kernelspec": {
   "display_name": "Python 3",
   "language": "python",
   "name": "python3"
  },
  "language_info": {
   "codemirror_mode": {
    "name": "ipython",
    "version": 3
   },
   "file_extension": ".py",
   "mimetype": "text/x-python",
   "name": "python",
   "nbconvert_exporter": "python",
   "pygments_lexer": "ipython3",
   "version": "3.7.4"
  }
 },
 "nbformat": 4,
 "nbformat_minor": 4
}
