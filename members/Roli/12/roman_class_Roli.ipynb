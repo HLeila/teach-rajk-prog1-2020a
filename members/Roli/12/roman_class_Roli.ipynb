{
 "cells": [
  {
   "cell_type": "code",
   "execution_count": 33,
   "metadata": {},
   "outputs": [],
   "source": [
    "class Roman:\n",
    "    \n",
    "    def __init__(self):\n",
    "        \n",
    "        def arab(self):\n",
    "    \n",
    "            if isinstance(self,str):\n",
    "\n",
    "                romai_arab = {'I':1, 'V':5, 'X':10, 'L':50, 'C':100, 'D':500, 'M':1000}\n",
    "                rom_string = self\n",
    "                result = 0\n",
    "                i = 0\n",
    "\n",
    "                for c in rom_string:\n",
    "\n",
    "                    if (i+1) == len(rom_string) or romai_arab[c] >= romai_arab[rom_string[i+1]]:\n",
    "                        result += romai_arab[c]\n",
    "\n",
    "                    else:\n",
    "                        result -= romai_arab[c]\n",
    "\n",
    "                    i += 1\n",
    "\n",
    "                self.arab = result"
   ]
  }
 ],
 "metadata": {
  "kernelspec": {
   "display_name": "Python 3",
   "language": "python",
   "name": "python3"
  },
  "language_info": {
   "codemirror_mode": {
    "name": "ipython",
    "version": 3
   },
   "file_extension": ".py",
   "mimetype": "text/x-python",
   "name": "python",
   "nbconvert_exporter": "python",
   "pygments_lexer": "ipython3",
   "version": "3.7.4"
  }
 },
 "nbformat": 4,
 "nbformat_minor": 4
}
