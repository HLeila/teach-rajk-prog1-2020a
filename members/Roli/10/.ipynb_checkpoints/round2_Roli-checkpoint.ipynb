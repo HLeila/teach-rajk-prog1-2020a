{
 "cells": [
  {
   "cell_type": "code",
   "execution_count": 9,
   "metadata": {},
   "outputs": [],
   "source": [
    "import sys\n",
    "sys.path.insert(0, '..')\n",
    "from __import_file__ import AB\n",
    "from __import_file__ import Roli\n",
    "from __import_file__ import Dani\n",
    "from __import_file__ import Meszi\n",
    "from __import_file__ import Marci\n",
    "from __import_file__ import Bori\n",
    "from __import_file__ import Leila\n",
    "from __import_file__ import Sara\n",
    "from __import_file__ import Mark\n",
    "from __import_file__ import Lili"
   ]
  },
  {
   "cell_type": "markdown",
   "metadata": {},
   "source": [
    "## AB"
   ]
  },
  {
   "cell_type": "code",
   "execution_count": 13,
   "metadata": {},
   "outputs": [],
   "source": [
    "def AB_solution(list_of_numbers):\n",
    "    vissz_ertek = 0\n",
    "    list = ()\n",
    "    list = list_of_numbers\n",
    "    list.sort(reverse = True)\n",
    "    \n",
    "    \n",
    "    elso = list[0]\n",
    "    masodik = list[1]\n",
    "    \n",
    "    utolso = list[-1]\n",
    "    utolso_elotti = list[-2]\n",
    "    \n",
    "    elsok_szorzat = elso * masodik\n",
    "    utolsok_szorzat = utolso * utolso_elotti\n",
    "    \n",
    "    if elsok_szorzat > utolsok_szorzat:\n",
    "        vissz_ertek = elsok_szorzat\n",
    "    else:\n",
    "        vissz_ertek = utolsok_szorzat\n",
    "        \n",
    "    return vissz_ertek"
   ]
  },
  {
   "cell_type": "code",
   "execution_count": 14,
   "metadata": {},
   "outputs": [
    {
     "name": "stdout",
     "output_type": "stream",
     "text": [
      "- success rate: 497/497 (100.0%)\n",
      "- error count: 0\n",
      "- best performance: 1\n",
      "- worst performance: 1\n",
      "- mean performance: 1.0\n"
     ]
    }
   ],
   "source": [
    "AB.evaluate(AB_solution)"
   ]
  },
  {
   "cell_type": "markdown",
   "metadata": {},
   "source": [
    "## Roli"
   ]
  },
  {
   "cell_type": "code",
   "execution_count": 21,
   "metadata": {},
   "outputs": [],
   "source": [
    "def Roli_solution(list_of_strings,letter):\n",
    "    # modify this function\n",
    "    count = 0\n",
    "    letter = str(letter)\n",
    "    \n",
    "    for string in list_of_strings:\n",
    "       \n",
    "        aktualis_string = string\n",
    "    \n",
    "        for betu in aktualis_string:\n",
    "            if (betu == letter.lower()) or (betu == letter.upper()):\n",
    "                count = count + 1\n",
    "                break\n",
    "    \n",
    "    return count"
   ]
  },
  {
   "cell_type": "code",
   "execution_count": 22,
   "metadata": {},
   "outputs": [
    {
     "name": "stdout",
     "output_type": "stream",
     "text": [
      "- success rate: 495/495 (100.0%)\n",
      "- error count: 0\n",
      "- best performance: 1\n",
      "- worst performance: 1\n",
      "- mean performance: 1.0\n"
     ]
    }
   ],
   "source": [
    "Roli.evaluate(Roli_solution)"
   ]
  },
  {
   "cell_type": "markdown",
   "metadata": {},
   "source": [
    "## Dani"
   ]
  },
  {
   "cell_type": "code",
   "execution_count": 16,
   "metadata": {},
   "outputs": [],
   "source": [
    "def Dani_solution(list_of_words):\n",
    "    list = ()\n",
    "    list = list_of_words\n",
    "    #letter = str(letter)\n",
    "    \n",
    "    count = 0\n",
    "    a = []\n",
    "   \n",
    "    for word in list_of_words:\n",
    "        for betu in word:\n",
    "            \n",
    "            if betu == 'a' or betu == 'A':\n",
    "                count +=1\n",
    "                \n",
    "        a.append(count)\n",
    "        count = 0\n",
    "        \n",
    "    legnagyobb = max(a)\n",
    "    \n",
    "    if legnagyobb == 0:\n",
    "        return -1\n",
    "    else:\n",
    "        return a.index(legnagyobb)"
   ]
  },
  {
   "cell_type": "code",
   "execution_count": 17,
   "metadata": {},
   "outputs": [
    {
     "name": "stdout",
     "output_type": "stream",
     "text": [
      "- success rate: 495/495 (100.0%)\n",
      "- error count: 0\n",
      "- best performance: 1\n",
      "- worst performance: 1\n",
      "- mean performance: 1.0\n"
     ]
    }
   ],
   "source": [
    "Dani.evaluate(Dani_solution)"
   ]
  },
  {
   "cell_type": "markdown",
   "metadata": {},
   "source": [
    "## Mészi"
   ]
  },
  {
   "cell_type": "code",
   "execution_count": 62,
   "metadata": {},
   "outputs": [],
   "source": [
    "def Meszi_solution(list_of_numbers,number):\n",
    "    mv = float(\"-inf\")\n",
    "    lista = []\n",
    "    \n",
    "    for szam in list_of_numbers:\n",
    "        if ((szam / number) % 2) == 0:\n",
    "            lista.append(szam)\n",
    "            \n",
    "    for szam in lista:\n",
    "        if szam > mv:\n",
    "            mv = szam\n",
    "    \n",
    "    if mv in lista:\n",
    "        return mv\n",
    "    else:\n",
    "        return 0"
   ]
  },
  {
   "cell_type": "code",
   "execution_count": 63,
   "metadata": {},
   "outputs": [
    {
     "name": "stdout",
     "output_type": "stream",
     "text": [
      "- success rate: 497/497 (100.0%)\n",
      "- error count: 0\n",
      "- best performance: 1\n",
      "- worst performance: 1\n",
      "- mean performance: 1.0\n"
     ]
    }
   ],
   "source": [
    "Meszi.evaluate(Meszi_solution)"
   ]
  },
  {
   "cell_type": "markdown",
   "metadata": {},
   "source": [
    "## Marci"
   ]
  },
  {
   "cell_type": "code",
   "execution_count": 83,
   "metadata": {},
   "outputs": [],
   "source": [
    "def Marci_solution(list_of_numbers,number):\n",
    "    lista = list_of_numbers.copy()\n",
    "    vissz = 0\n",
    "    \n",
    "    for i in reversed(list_of_numbers):\n",
    "        if abs(((i-number) % 3)) == 0 and i-number != 0:\n",
    "            vissz = i\n",
    "            break\n",
    "        else:\n",
    "            vissz = 0\n",
    "            \n",
    "    return vissz "
   ]
  },
  {
   "cell_type": "code",
   "execution_count": 84,
   "metadata": {},
   "outputs": [
    {
     "name": "stdout",
     "output_type": "stream",
     "text": [
      "- success rate: 496/497 (100.0%)\n",
      "- error count: 0\n",
      "- best performance: 1\n",
      "- worst performance: 0\n",
      "- mean performance: 0.9979879275653923\n",
      "\n",
      "\n",
      " BAD SOLUTION at: \n",
      " {'number': 4, 'list_of_numbers': [981, -941, -755, 765, 478, -523, 882, -514, -465, 749, -210, -45, 875, 28, -670, 676, 761, -93, 929, 274, 747, 417, 750, 285, 18, -518, 192, -141, 911, -431, -703, -174, -662, -112, 155, 203, -711, 307, 355, -69, 397, 241, 862, -399, 111, 873, -822, 184, -985, 162, -805, -965, -400, -375, 269, -158, -528, 247, 473, 874, 633, 463, -478, -971, 339, 486, -501, 929, -557, -127, 779, 636, -83, 107, 420, -649, -491, -149, -144, -116, -674, -488, -14, -396, 476, -631, -377, 33, -556, 44, -426, -844, -854, -847, 858, 337, -235, -531, -429, 733, 791, -897, -559, -988, 671, -358, 681, -753, 823, -498, 205, -915, -269, -676, -784, -641, 431, -86, -229, -185, 355, 946, -489, 670, -991, -978, -39, -847, -127, 921, 62, -263, -926, 209, 950, -236, 339, -784, 942, -320, -585, 51, -697, 261, 146, -990, 174, -968, 889, 977, 667, -658, -780, 203, 14, 405, -775, 874, 201, 6, 615, 116, 667, 132, -448, 330, 975, -506, 924, 640, 773, 507, -72, -24, -395, 355, 520, 763, 242, 389, -734, 503, -191, -294, 90, -486, -743, -887, 533, 350, -630, -20, -430, 500, 221, -491, 54, 952, -473, -430, 802, 411, 477, -618, -532, 189, -522, 352, -785, 786, 545, 555, 437, 348, -793, -469, 280, -599, -963, 150, 799, 390, -514, -686, 628, 41, 781, 837, -170, 403, 374, 737, 732, -9, 829, 589, -732, 414, 279, -446, 528, 136, 475, -920, 438, 86, 432, 175, -577, 78, -306, -941, 509, 68, -108, -15, 472, -660, -781, 456, 560, -840, 653, 756, 450, 730, -391, 290, 650, -28, 941, 266, 880, 423, 524, 880, 618, 383, -229, -168, 686, -699, -1, -954, 39, 773, 574, 980, -34, -396, -150, 553, -682, 222, -760, 850, -920, -897, 384, 741, -95, 96, -613, 324, -254, -729, 230, 959, -261, -2, -316, -921, 807, 498, -349, 1, 581, 475, -372, 394, -348, 422, -515, -687, -157, 850, -441, 322, -206, 111, -600, 824, 127, -197, 656, -445, -297, 846, -828, -981, 332, 633, -192, -61, -13, 918, 476, 951, 209, -495, -323, -438, 588, -61, 214, 393, 579, -274, 154, -600, -22, 247, -755, 418, 141, 340, -436, -397, 783, 137, 439, -434, 848, 444, -747, 76, 711, 791, 376, 755, -378, 671, 774, 621, -913, -758, 217, -385, 495, -540, 378, 984, -710, -240, -77, 396, -122, 462, -944, 777, 881, -673, 337, -451, -445, -13, -19, -484, -425, 660, 404, 387, -376, 32, 565, -802, 556, -635, 643, 741, 522, 267, -980, -123, 964, -456, 659, 926, -558, -106, -319, 437, -584, -302, 999, 169, -748, -312, 200, 971, -154, -861, -562, 557, -674, -224, 704, 897, -146, -252, -421, 233, -670, 487, -699, 945, -234, -692, 686, 628, -831, -973, -270, -449, 425, -134, -768, 393, 760, 136, -102, 248, 702, -563, -465, -452, -86, 778, 577, -204, -618, 4]}\n"
     ]
    }
   ],
   "source": [
    "Marci.evaluate(Marci_solution)"
   ]
  },
  {
   "cell_type": "markdown",
   "metadata": {},
   "source": [
    "## Bori"
   ]
  },
  {
   "cell_type": "code",
   "execution_count": null,
   "metadata": {},
   "outputs": [],
   "source": [
    "def Bori_solution():\n",
    "    # modify this function\n",
    "    # return value and parameters and all\n",
    "    return 0"
   ]
  },
  {
   "cell_type": "code",
   "execution_count": null,
   "metadata": {},
   "outputs": [],
   "source": [
    "Bori.evaluate(Bori_solution)"
   ]
  },
  {
   "cell_type": "markdown",
   "metadata": {},
   "source": [
    "## Leila"
   ]
  },
  {
   "cell_type": "code",
   "execution_count": 58,
   "metadata": {},
   "outputs": [],
   "source": [
    "def Leila_solution(list_of_integers):\n",
    "    lista = []\n",
    "    \n",
    "    for elso in list_of_integers:\n",
    "    \n",
    "        for masodik in list_of_integers:\n",
    "    \n",
    "            if elso == masodik / 2:\n",
    "                lista.append(elso)\n",
    "                \n",
    "    if len(lista) != 0:\n",
    "        return(min(lista))\n",
    "    else:\n",
    "        return 0"
   ]
  },
  {
   "cell_type": "code",
   "execution_count": 59,
   "metadata": {},
   "outputs": [
    {
     "name": "stdout",
     "output_type": "stream",
     "text": [
      "- success rate: 497/497 (100.0%)\n",
      "- error count: 0\n",
      "- best performance: 1\n",
      "- worst performance: 1\n",
      "- mean performance: 1.0\n"
     ]
    }
   ],
   "source": [
    "Leila.evaluate(Leila_solution)"
   ]
  },
  {
   "cell_type": "markdown",
   "metadata": {},
   "source": [
    "## Sára"
   ]
  },
  {
   "cell_type": "code",
   "execution_count": 24,
   "metadata": {},
   "outputs": [],
   "source": [
    "def Sara_solution(list_of_numbers):\n",
    "    a = 0\n",
    "    lista = list(dict.fromkeys(list_of_numbers))\n",
    "    \n",
    "    for szam in lista:\n",
    "        if szam > 0:\n",
    "            if szam % 2 == 1:\n",
    "                a = a + szam\n",
    "    return a"
   ]
  },
  {
   "cell_type": "code",
   "execution_count": 26,
   "metadata": {},
   "outputs": [
    {
     "name": "stdout",
     "output_type": "stream",
     "text": [
      "- success rate: 497/497 (100.0%)\n",
      "- error count: 0\n",
      "- best performance: 1\n",
      "- worst performance: 1\n",
      "- mean performance: 1.0\n"
     ]
    }
   ],
   "source": [
    "Sara.evaluate(Sara_solution)"
   ]
  },
  {
   "cell_type": "markdown",
   "metadata": {},
   "source": [
    "## Márk"
   ]
  },
  {
   "cell_type": "code",
   "execution_count": 85,
   "metadata": {},
   "outputs": [],
   "source": [
    "def Mark_solution(list_of_numbers):\n",
    "    \n",
    "    \n",
    "\n",
    "\n",
    "    return 0\n",
    "\n",
    "\n",
    "#na hát ezzel befürödtem:("
   ]
  },
  {
   "cell_type": "code",
   "execution_count": null,
   "metadata": {},
   "outputs": [],
   "source": [
    "Mark.evaluate(Mark_solution)"
   ]
  },
  {
   "cell_type": "markdown",
   "metadata": {},
   "source": [
    "## Lili"
   ]
  },
  {
   "cell_type": "code",
   "execution_count": 56,
   "metadata": {},
   "outputs": [],
   "source": [
    "def Lili_solution(list_of_strings,letter):\n",
    "    \n",
    "    a = list_of_strings.copy()\n",
    "    letter_2 = letter.lower()\n",
    "    \n",
    "    for i in range(0,len(list_of_strings)):\n",
    "        a[i] = list_of_strings[i].lower()\n",
    "    \n",
    "    c = 0\n",
    "    d = 0\n",
    "    \n",
    "    for szo in a:\n",
    "        e = 0\n",
    "        for betu in szo:\n",
    "            if betu == letter_2:\n",
    "                e += 1\n",
    "                \n",
    "        if c < e:\n",
    "            c = e\n",
    "            f = list_of_strings[d]           \n",
    "        d += 1\n",
    "        \n",
    "    if c == 0:\n",
    "        f = \"\"\n",
    "\n",
    "    return f"
   ]
  },
  {
   "cell_type": "code",
   "execution_count": 57,
   "metadata": {},
   "outputs": [
    {
     "name": "stdout",
     "output_type": "stream",
     "text": [
      "- success rate: 495/495 (100.0%)\n",
      "- error count: 0\n",
      "- best performance: 1\n",
      "- worst performance: 1\n",
      "- mean performance: 1.0\n"
     ]
    }
   ],
   "source": [
    "Lili.evaluate(Lili_solution)"
   ]
  }
 ],
 "metadata": {
  "kernelspec": {
   "display_name": "Python 3",
   "language": "python",
   "name": "python3"
  },
  "language_info": {
   "codemirror_mode": {
    "name": "ipython",
    "version": 3
   },
   "file_extension": ".py",
   "mimetype": "text/x-python",
   "name": "python",
   "nbconvert_exporter": "python",
   "pygments_lexer": "ipython3",
   "version": "3.7.4"
  }
 },
 "nbformat": 4,
 "nbformat_minor": 2
}
