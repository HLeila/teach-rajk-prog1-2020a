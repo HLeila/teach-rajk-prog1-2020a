{
 "cells": [
  {
   "cell_type": "code",
   "execution_count": 3,
   "metadata": {},
   "outputs": [],
   "source": [
    "cow_alive_list_test_1 = [False, False, True, True, True]"
   ]
  },
  {
   "cell_type": "code",
   "execution_count": 4,
   "metadata": {},
   "outputs": [],
   "source": [
    "def my_solution1(cow_is_alive, cow_alive_list_test_1):\n",
    "\n",
    "    place = 0\n",
    "    for i in range(0, cow_alive_list_1 - 1):\n",
    "\n",
    "        place = place + 1\n",
    "        if cow_is_alive == True:\n",
    "            return place\n",
    "\n",
    "    return place + 1"
   ]
  },
  {
   "cell_type": "code",
   "execution_count": 5,
   "metadata": {},
   "outputs": [
    {
     "ename": "TypeError",
     "evalue": "my_solution1() missing 1 required positional argument: 'cow_alive_list_test_1'",
     "output_type": "error",
     "traceback": [
      "\u001b[0;31m---------------------------------------------------------------------------\u001b[0m",
      "\u001b[0;31mTypeError\u001b[0m                                 Traceback (most recent call last)",
      "\u001b[0;32m<ipython-input-5-10c5dcf19ec2>\u001b[0m in \u001b[0;36m<module>\u001b[0;34m\u001b[0m\n\u001b[0;32m----> 1\u001b[0;31m \u001b[0mmy_solution1\u001b[0m\u001b[0;34m(\u001b[0m\u001b[0mcow_alive_list_test_1\u001b[0m\u001b[0;34m)\u001b[0m\u001b[0;34m\u001b[0m\u001b[0;34m\u001b[0m\u001b[0m\n\u001b[0m",
      "\u001b[0;31mTypeError\u001b[0m: my_solution1() missing 1 required positional argument: 'cow_alive_list_test_1'"
     ]
    }
   ],
   "source": [
    "my_solution1(cow_alive_list_test_1)"
   ]
  },
  {
   "cell_type": "markdown",
   "metadata": {},
   "source": [
    "Ennek a függvénynek két paramétere van:\n",
    "- A `cow_is_alive` egy `boolean` a 7. sor alapján , de ennek nincs sok értelme a feladat szempontjából. Helyette a tehenek állapotának listáján kéne végigiterálni.\n",
    "- A `cow_alive_list_test_1`, amire a függvényen belül nem is hivatkozol. Helyette `cow_alive_list_1`-et írsz, amit integerként kezelsz: a `range` függvénynek két integer paramétert kell megadni. Ha a `cow_alive_list_1` egy lista, akkor nem fog működni a `range`, mert annak a lista hosszát kéne megadni paraméterként. Ebből viszont nem kell kivonni egyet, mert a `range(a, b)` egy olyan listát generál, aminek első eleme `a`, utolsó eleme viszont `b - 1`.\n",
    "\n",
    "\n",
    "- A `place` változó fölösleges, ha a `for` ciklust úgy használod, hogy az indexeken, és nem a lista elemein iterálsz végig, mert így közvetlenül tudsz az indexre hivatkozni. (Az eredeti függvényben a `place` a futóindexet helyettesítette úgy, hogy minden iterációban hozzáadtunk egyet.)\n",
    "\n",
    "Így lenne helyes:"
   ]
  },
  {
   "cell_type": "code",
   "execution_count": 15,
   "metadata": {},
   "outputs": [],
   "source": [
    "def my_solution1_jav(cow_alive_list):\n",
    "\n",
    "    for i in range(len(cow_alive_list)):\n",
    "\n",
    "        if cow_alive_list[i]:\n",
    "            return i\n",
    "\n",
    "    return i + 1"
   ]
  },
  {
   "cell_type": "code",
   "execution_count": 16,
   "metadata": {},
   "outputs": [
    {
     "data": {
      "text/plain": [
       "2"
      ]
     },
     "execution_count": 16,
     "metadata": {},
     "output_type": "execute_result"
    }
   ],
   "source": [
    "my_solution1_jav(cow_alive_list_test_1)"
   ]
  },
  {
   "cell_type": "markdown",
   "metadata": {},
   "source": [
    "----------------------"
   ]
  },
  {
   "cell_type": "code",
   "execution_count": 4,
   "metadata": {},
   "outputs": [],
   "source": [
    "def my_solution2(cow_alive_list):\n",
    "    \n",
    "    fat_alive_cow_index = 0\n",
    "    thin_alive_cow_index = len(cow_alive_list) - 1\n",
    "    \n",
    "    while (fat_alive_cow_index + 1) < thin_alive_cow_index:\n",
    "        middle_cow = int((fat_alive_cow_index + thin_alive_cow_index) / 2)\n",
    "        \n",
    "        if cow_alive_list[middle_cow] == True:\n",
    "            thin_alive_cow_index = middle_cow\n",
    "            \n",
    "        else:\n",
    "            fat_alive_cow_index = middle_cow\n",
    "            \n",
    "    return middle_cow + 1"
   ]
  },
  {
   "cell_type": "markdown",
   "metadata": {},
   "source": [
    "Ezzel nem csináltál semmit, egy az egyben a kurzuson is látott rossz megoldás.\n",
    "\n",
    "Ha addig nézel valamit, hogy kifolyik a szemed, és still nem vágod, akkor légyszíves kérj segítséget a kurzustartóktól, ahelyett, hogy egy félig sem kész házit adsz le.\n",
    "\n",
    "**Vasárnapig pótold a hatékony algoritmus javítását, és implementáld `jkg`-vel.**"
   ]
  }
 ],
 "metadata": {
  "kernelspec": {
   "display_name": "Python 3",
   "language": "python",
   "name": "python3"
  },
  "language_info": {
   "codemirror_mode": {
    "name": "ipython",
    "version": 3
   },
   "file_extension": ".py",
   "mimetype": "text/x-python",
   "name": "python",
   "nbconvert_exporter": "python",
   "pygments_lexer": "ipython3",
   "version": "3.7.3"
  }
 },
 "nbformat": 4,
 "nbformat_minor": 2
}
