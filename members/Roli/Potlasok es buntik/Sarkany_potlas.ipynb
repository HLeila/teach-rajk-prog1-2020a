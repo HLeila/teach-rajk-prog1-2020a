{
 "cells": [
  {
   "cell_type": "code",
   "execution_count": 1,
   "metadata": {},
   "outputs": [
    {
     "name": "stdout",
     "output_type": "stream",
     "text": [
      "Requirement already satisfied: jkg_evaluators in c:\\users\\rausz\\anaconda3\\lib\\site-packages (0.0.2)\n"
     ]
    }
   ],
   "source": [
    "!pip install jkg_evaluators\n",
    "cow_alive_list_test_1 = [False, False, True, True, True]"
   ]
  },
  {
   "cell_type": "code",
   "execution_count": 2,
   "metadata": {},
   "outputs": [],
   "source": [
    "def my_solution1(is_dead,number_of_cows):\n",
    "\n",
    "    kover_elo = 0\n",
    "    sovany_elo = (number_of_cows - 1)\n",
    "    \n",
    "    while (kover_elo) < sovany_elo:\n",
    "        kozep = int((kover_elo + sovany_elo) / 2)\n",
    "        \n",
    "        if is_dead(kozep) != is_dead(kozep + 1):\n",
    "            return kozep + 1\n",
    "        \n",
    "        elif is_dead(kozep) == True:\n",
    "            kover_elo = kozep\n",
    "            \n",
    "        elif is_dead(kozep) == False:\n",
    "            sovany_elo = kozep"
   ]
  },
  {
   "cell_type": "code",
   "execution_count": 3,
   "metadata": {},
   "outputs": [
    {
     "name": "stdout",
     "output_type": "stream",
     "text": [
      "- success rate: 124714/124714 (100.0%)\n",
      "- error count: 0\n",
      "- best performance: 2\n",
      "- worst performance: 34\n",
      "- mean performance: 24.023189056561414\n"
     ]
    }
   ],
   "source": [
    "from jkg_evaluators import dragonfind_10_to_500\n",
    "dragonfind_10_to_500.evaluate(my_solution1)"
   ]
  }
 ],
 "metadata": {
  "kernelspec": {
   "display_name": "Python 3",
   "language": "python",
   "name": "python3"
  },
  "language_info": {
   "codemirror_mode": {
    "name": "ipython",
    "version": 3
   },
   "file_extension": ".py",
   "mimetype": "text/x-python",
   "name": "python",
   "nbconvert_exporter": "python",
   "pygments_lexer": "ipython3",
   "version": "3.7.4"
  }
 },
 "nbformat": 4,
 "nbformat_minor": 2
}
