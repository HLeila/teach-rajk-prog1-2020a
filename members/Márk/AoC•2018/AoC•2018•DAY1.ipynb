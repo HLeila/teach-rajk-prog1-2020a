{
 "cells": [
  {
   "cell_type": "markdown",
   "metadata": {},
   "source": [
    "### --PART ONE--"
   ]
  },
  {
   "cell_type": "code",
   "execution_count": 8,
   "metadata": {},
   "outputs": [
    {
     "data": {
      "text/plain": [
       "''"
      ]
     },
     "execution_count": 8,
     "metadata": {},
     "output_type": "execute_result"
    }
   ],
   "source": [
    "with open('input•2018•DAY1.txt') as fp:\n",
    "    file_contents = fp.read()\n",
    "t2 = file_contents.split('\\n')  \n",
    "#print(t2)\n",
    "t2.pop()"
   ]
  },
  {
   "cell_type": "code",
   "execution_count": 9,
   "metadata": {},
   "outputs": [
    {
     "name": "stdout",
     "output_type": "stream",
     "text": [
      "556\n"
     ]
    }
   ],
   "source": [
    "#t2 string elemek bezavarása l[]-be integer-ként\n",
    "l=[]\n",
    "for i in range(len(t2)):\n",
    "    l.append(int(t2[i]))\n",
    "\n",
    "#j végigiterálása l[]-en, minden elem hozzáadása a-hoz\n",
    "a=0\n",
    "for j in range(len(l)):\n",
    "    a+=l[j]\n",
    "print(a)"
   ]
  },
  {
   "cell_type": "markdown",
   "metadata": {},
   "source": [
    "### --PART TWO--"
   ]
  },
  {
   "cell_type": "code",
   "execution_count": 6,
   "metadata": {},
   "outputs": [
    {
     "name": "stdout",
     "output_type": "stream",
     "text": [
      "448\n"
     ]
    }
   ],
   "source": [
    "b=0\n",
    "c=0\n",
    "li=[]\n",
    "\n",
    "while True:\n",
    "    b+=int(l[c])\n",
    "    if b not in li:\n",
    "        li.append(b)\n",
    "        c+=1\n",
    "        if c==len(l):\n",
    "            c=0\n",
    "    else:\n",
    "        print(b)\n",
    "        break"
   ]
  },
  {
   "cell_type": "code",
   "execution_count": null,
   "metadata": {},
   "outputs": [],
   "source": []
  }
 ],
 "metadata": {
  "kernelspec": {
   "display_name": "Python 3",
   "language": "python",
   "name": "python3"
  },
  "language_info": {
   "codemirror_mode": {
    "name": "ipython",
    "version": 3
   },
   "file_extension": ".py",
   "mimetype": "text/x-python",
   "name": "python",
   "nbconvert_exporter": "python",
   "pygments_lexer": "ipython3",
   "version": "3.7.4"
  }
 },
 "nbformat": 4,
 "nbformat_minor": 2
}
