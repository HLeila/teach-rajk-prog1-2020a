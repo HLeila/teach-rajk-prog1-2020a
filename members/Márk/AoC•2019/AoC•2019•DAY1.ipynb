{
 "cells": [
  {
   "cell_type": "markdown",
   "metadata": {},
   "source": [
    "### --PART ONE--"
   ]
  },
  {
   "cell_type": "code",
   "execution_count": 1,
   "metadata": {},
   "outputs": [
    {
     "data": {
      "text/plain": [
       "''"
      ]
     },
     "execution_count": 1,
     "metadata": {},
     "output_type": "execute_result"
    }
   ],
   "source": [
    "with open('input•2019•DAY1.txt') as fp:\n",
    "    file_contents = fp.read()\n",
    "t1 = file_contents.split('\\n')  \n",
    "#print(t1)\n",
    "t1.pop()"
   ]
  },
  {
   "cell_type": "code",
   "execution_count": 2,
   "metadata": {},
   "outputs": [],
   "source": [
    "t2=[]\n",
    "for i in range(len(t1)):\n",
    "    a=int(t1[i])\n",
    "    t2.append(a)"
   ]
  },
  {
   "cell_type": "code",
   "execution_count": 3,
   "metadata": {},
   "outputs": [],
   "source": [
    "t3=[]\n",
    "for k in range(len(t2)):\n",
    "    b=int(t2[k])//3-2\n",
    "    t3.append(b)"
   ]
  },
  {
   "cell_type": "code",
   "execution_count": 4,
   "metadata": {},
   "outputs": [
    {
     "name": "stdout",
     "output_type": "stream",
     "text": [
      "3560353\n"
     ]
    }
   ],
   "source": [
    "c=0\n",
    "for j in range(len(t3)):\n",
    "    c+=int(t3[j])\n",
    "print(c)"
   ]
  },
  {
   "cell_type": "markdown",
   "metadata": {},
   "source": [
    "### --PART TWO--"
   ]
  },
  {
   "cell_type": "code",
   "execution_count": 5,
   "metadata": {},
   "outputs": [
    {
     "data": {
      "text/plain": [
       "0"
      ]
     },
     "execution_count": 5,
     "metadata": {},
     "output_type": "execute_result"
    }
   ],
   "source": [
    "b=[]\n",
    "def func(a=0):\n",
    "    if a>=6:\n",
    "        a = a//3-2\n",
    "        func(a)\n",
    "        b.append(a)\n",
    "    \n",
    "#func(int(t2))\n",
    "#print(b)\n",
    "sum(b)"
   ]
  },
  {
   "cell_type": "code",
   "execution_count": 6,
   "metadata": {},
   "outputs": [
    {
     "data": {
      "text/plain": [
       "5337642"
      ]
     },
     "execution_count": 6,
     "metadata": {},
     "output_type": "execute_result"
    }
   ],
   "source": [
    "for m in range(len(t2)):\n",
    "    func(t2[m])\n",
    "v=0\n",
    "for n in range(len(b)):\n",
    "    v+=b[n]\n",
    "v"
   ]
  },
  {
   "cell_type": "code",
   "execution_count": null,
   "metadata": {},
   "outputs": [],
   "source": []
  }
 ],
 "metadata": {
  "kernelspec": {
   "display_name": "Python 3",
   "language": "python",
   "name": "python3"
  },
  "language_info": {
   "codemirror_mode": {
    "name": "ipython",
    "version": 3
   },
   "file_extension": ".py",
   "mimetype": "text/x-python",
   "name": "python",
   "nbconvert_exporter": "python",
   "pygments_lexer": "ipython3",
   "version": "3.7.4"
  }
 },
 "nbformat": 4,
 "nbformat_minor": 2
}
