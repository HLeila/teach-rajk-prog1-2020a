{
 "cells": [
  {
   "cell_type": "markdown",
   "metadata": {},
   "source": [
    "# 100 emelet, 2 tojás\n",
    "# jkg_evaluators approved"
   ]
  },
  {
   "cell_type": "code",
   "execution_count": 7,
   "metadata": {},
   "outputs": [],
   "source": [
    "from jkg_evaluators import eggdrop_100floor_2egg"
   ]
  },
  {
   "cell_type": "code",
   "execution_count": 10,
   "metadata": {},
   "outputs": [],
   "source": [
    "def megoldás(breaks):\n",
    "    minimum=0\n",
    "    maximum=100\n",
    "    tojások_száma=2\n",
    "    a=0\n",
    "    n=0\n",
    "    c=0\n",
    "    lépésközök=[]\n",
    "    \n",
    "    while a<maximum-minimum:\n",
    "        n+=1\n",
    "        lépésközök.append(n)\n",
    "        a+=n\n",
    "    lépésközök.reverse()\n",
    "    \n",
    "    while True:\n",
    "        minimum+=lépésközök[c]\n",
    "        c+=1\n",
    "        if breaks(minimum):\n",
    "            maximum=minimum\n",
    "            minimum-=lépésközök[c-1]\n",
    "            while minimum<maximum:\n",
    "                minimum+=1\n",
    "                if breaks(minimum):\n",
    "                    return minimum-1\n",
    "                elif minimum+1==maximum:\n",
    "                    return minimum"
   ]
  },
  {
   "cell_type": "code",
   "execution_count": 11,
   "metadata": {},
   "outputs": [
    {
     "name": "stdout",
     "output_type": "stream",
     "text": [
      "- success rate: 101/101 (100.0%)\n",
      "- error count: 0\n",
      "- best performance: 2\n",
      "- worst performance: 14\n",
      "- mean performance: 10.396039603960396\n"
     ]
    }
   ],
   "source": [
    "eggdrop_100floor_2egg.evaluate(megoldás)"
   ]
  },
  {
   "cell_type": "code",
   "execution_count": 12,
   "metadata": {},
   "outputs": [
    {
     "data": {
      "image/png": "[encoded data removed]",
      "text/plain": [
       "<Figure size 792x504 with 1 Axes>"
      ]
     },
     "metadata": {
      "needs_background": "light"
     },
     "output_type": "display_data"
    }
   ],
   "source": [
    "eggdrop_100floor_2egg.visualize(megoldás)"
   ]
  },
  {
   "cell_type": "markdown",
   "metadata": {},
   "source": [
    "A megoldás gondolatmenete tökéletes, viszont a tesztelő azt adja, hogy 15 dobás a legrosszabb teszteseted és nem 14 erre figyelj. Ugye ennek az az oka, hogy ha pont a lépésköz az első töréspont pl 14 akkor eltörik itt egyszer és újra ledobod itt és csak ezután adod vissza a jó megoldást így ez 14 + 1 dobás. A többi fájlból nem tudom, hogy melyik az amit megnézzek és mi az ami cska gyakorlás, ha valamelyik külön érdekel akkor írj és átnézem őket részletesebben. Egyébként ügyes megoldás és örülök, hogy az általánosításon is sokat törted az agyad. :) "
   ]
  }
 ],
 "metadata": {
  "kernelspec": {
   "display_name": "Python 3",
   "language": "python",
   "name": "python3"
  },
  "language_info": {
   "codemirror_mode": {
    "name": "ipython",
    "version": 3
   },
   "file_extension": ".py",
   "mimetype": "text/x-python",
   "name": "python",
   "nbconvert_exporter": "python",
   "pygments_lexer": "ipython3",
   "version": "3.7.4"
  }
 },
 "nbformat": 4,
 "nbformat_minor": 2
}
