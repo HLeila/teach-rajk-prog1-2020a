{
 "cells": [
  {
   "cell_type": "markdown",
   "metadata": {},
   "source": [
    "# Hol törik a tojás, ha 2 tojásom van?\n",
    "# for loop-os megoldás\n",
    "# --------------------------------------"
   ]
  },
  {
   "cell_type": "code",
   "execution_count": 3,
   "metadata": {},
   "outputs": [
    {
     "name": "stdout",
     "output_type": "stream",
     "text": [
      "Legfeljebb 14 lépésben megmondom hol törik a tojás\n",
      "Ezekkel a lépésközökkel haladva: [14, 13, 12, 11, 10, 9, 8, 7, 6, 5, 4, 3, 2, 1]\n",
      "Ha jól határoztam meg a lépésközöket, igaz ez az állítás: 105 >= 100\n"
     ]
    }
   ],
   "source": [
    "emelet=100\n",
    "itt_törik_a_tojás=10\n",
    "tojások_száma=2\n",
    "hiba_lehetőségek_száma=tojások_száma-1\n",
    "a=0\n",
    "n=0\n",
    "lépésközök=[]\n",
    "\n",
    "while a<=emelet:\n",
    "    n+=1\n",
    "    lépésközök.append(n)\n",
    "    a+=n\n",
    "\n",
    "lépésközök.reverse()\n",
    "print(\"Legfeljebb\",n,\"lépésben megmondom hol törik a tojás\")\n",
    "print(\"Ezekkel a lépésközökkel haladva:\",lépésközök)\n",
    "print(\"Ha jól határoztam meg a lépésközöket, igaz ez az állítás:\",a,\">=\",emelet)"
   ]
  },
  {
   "cell_type": "code",
   "execution_count": 4,
   "metadata": {},
   "outputs": [
    {
     "name": "stdout",
     "output_type": "stream",
     "text": [
      "Kész vagyok, 10 lépésben megtaláltam, hogy a 10 . emeleten törik a tojás\n",
      "És ha minden igaz, 10 <= 14 ,így betartottam ígéretem\n"
     ]
    }
   ],
   "source": [
    "lépés=0\n",
    "lépteim_száma=0\n",
    "\n",
    "for j in range(len(lépésközök)):\n",
    "    if lépés+lépésközök[j]<itt_törik_a_tojás:\n",
    "        lépés+=lépésközök[j]\n",
    "        lépteim_száma=j+1\n",
    "    else:\n",
    "        while lépés<itt_törik_a_tojás:\n",
    "            lépés+=1\n",
    "            lépteim_száma+=1\n",
    "            if lépés==itt_törik_a_tojás:\n",
    "                print(\"Kész vagyok,\",lépteim_száma,\"lépésben megtaláltam, hogy a\",lépés,\". emeleten törik a tojás\")\n",
    "                print(\"És ha minden igaz,\",lépteim_száma,\"<=\",n,\",így betartottam ígéretem\")"
   ]
  },
  {
   "cell_type": "code",
   "execution_count": null,
   "metadata": {},
   "outputs": [],
   "source": []
  }
 ],
 "metadata": {
  "kernelspec": {
   "display_name": "Python 3",
   "language": "python",
   "name": "python3"
  },
  "language_info": {
   "codemirror_mode": {
    "name": "ipython",
    "version": 3
   },
   "file_extension": ".py",
   "mimetype": "text/x-python",
   "name": "python",
   "nbconvert_exporter": "python",
   "pygments_lexer": "ipython3",
   "version": "3.8.2"
  }
 },
 "nbformat": 4,
 "nbformat_minor": 2
}
