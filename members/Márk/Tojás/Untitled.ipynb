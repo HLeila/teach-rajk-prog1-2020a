{
 "cells": [
  {
   "cell_type": "markdown",
   "metadata": {},
   "source": [
    "# n darab tojás\n",
    "# koncepció van már, megoldás várat magára még (Tdk..)"
   ]
  },
  {
   "cell_type": "code",
   "execution_count": 175,
   "metadata": {},
   "outputs": [
    {
     "name": "stdout",
     "output_type": "stream",
     "text": [
      "[1, 5, 15, 35, 70, 126]\n"
     ]
    }
   ],
   "source": [
    "minimum=0\n",
    "maximum=100\n",
    "itt_törik_a_tojás=73\n",
    "tojások_száma=4\n",
    "hibalehetőségek_száma=tojások_száma-1\n",
    "a=0\n",
    "n=0\n",
    "lépésközök=[]\n",
    "lépésközök2=[]\n",
    "b=0\n",
    "m=0\n",
    "p=0\n",
    "próbálkozásaim_száma=0\n",
    "\n",
    "\n",
    "while a<maximum:\n",
    "    n+=1\n",
    "    lépésközök.append(n)\n",
    "    a+=n\n",
    "lépésközök3=[]\n",
    "lépésközök3.append(lépésközök)\n",
    "lépésközök3\n",
    "\n",
    "\n",
    "while True:\n",
    "    b+=lépésközök3[p][m]\n",
    "    lépésközök2.append(b)\n",
    "    if b<maximum:\n",
    "        m+=1\n",
    "    else:\n",
    "        hibalehetőségek_száma-=1\n",
    "        if hibalehetőségek_száma>0:\n",
    "            b=0\n",
    "            lépésközök3.append(lépésközök2)\n",
    "            p+=1\n",
    "            m=0\n",
    "            lépésközök2=[]\n",
    "        else:\n",
    "            break\n",
    "print(lépésközök2)"
   ]
  },
  {
   "cell_type": "code",
   "execution_count": 176,
   "metadata": {},
   "outputs": [
    {
     "data": {
      "text/plain": [
       "[56, 35, 20, 10, 4, 1]"
      ]
     },
     "execution_count": 176,
     "metadata": {},
     "output_type": "execute_result"
    }
   ],
   "source": [
    "lépésközök2.reverse()\n",
    "for i in range(len(lépésközök2)):\n",
    "    pass\n",
    "lépésközök2.insert(i+1,0)\n",
    "\n",
    "e=0\n",
    "q=0\n",
    "főlépték=[]\n",
    "while True:\n",
    "    q=lépésközök2[e]-lépésközök2[e+1]\n",
    "    főlépték.append(q)\n",
    "    e+=1\n",
    "    if e>=i+1:\n",
    "        break\n",
    "főlépték"
   ]
  },
  {
   "cell_type": "code",
   "execution_count": null,
   "metadata": {},
   "outputs": [],
   "source": []
  }
 ],
 "metadata": {
  "kernelspec": {
   "display_name": "Python 3",
   "language": "python",
   "name": "python3"
  },
  "language_info": {
   "codemirror_mode": {
    "name": "ipython",
    "version": 3
   },
   "file_extension": ".py",
   "mimetype": "text/x-python",
   "name": "python",
   "nbconvert_exporter": "python",
   "pygments_lexer": "ipython3",
   "version": "3.7.4"
  }
 },
 "nbformat": 4,
 "nbformat_minor": 2
}
