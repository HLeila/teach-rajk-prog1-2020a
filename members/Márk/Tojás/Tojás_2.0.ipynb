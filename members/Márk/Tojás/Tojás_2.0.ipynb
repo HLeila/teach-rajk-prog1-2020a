{
 "cells": [
  {
   "cell_type": "markdown",
   "metadata": {},
   "source": [
    "# Hol törik a tojás, ha n tojásom van?\n",
    "# while loop-os megoldás\n",
    "# pld: [11 lépésben 3 tojás]\n",
    "# --------------------------------------"
   ]
  },
  {
   "cell_type": "code",
   "execution_count": 10,
   "metadata": {},
   "outputs": [
    {
     "name": "stdout",
     "output_type": "stream",
     "text": [
      "Eredeti vizsgálódási tartomány: 0 - 100\n",
      "3 tojásom van\n",
      "intervallum felezések száma: 1\n"
     ]
    }
   ],
   "source": [
    "minimum=0\n",
    "maximum=100\n",
    "emelet=maximum-minimum\n",
    "print(\"Eredeti vizsgálódási tartomány:\",minimum,\"-\",maximum)\n",
    "itt_törik_a_tojás=73\n",
    "tojások_száma=3\n",
    "print(tojások_száma,\"tojásom van\")\n",
    "intervallumfelezések_száma=tojások_száma-2\n",
    "print(\"intervallum felezések száma:\",intervallumfelezések_száma)\n",
    "a=0\n",
    "n=0\n",
    "c=0\n",
    "lépésközök=[]\n",
    "próbálkozásaim_száma=0"
   ]
  },
  {
   "cell_type": "code",
   "execution_count": 11,
   "metadata": {},
   "outputs": [
    {
     "name": "stdout",
     "output_type": "stream",
     "text": [
      "min 50\n",
      "max 100\n",
      "vizsgálódási tartomány: 50 - 100\n",
      "ellőttem 1 próbálkozást erre\n",
      "a vizsgálódási tartomány hossza: 50\n"
     ]
    }
   ],
   "source": [
    "while True:\n",
    "    if intervallumfelezések_száma>0:\n",
    "        if minimum+(maximum-minimum)//2>itt_törik_a_tojás:\n",
    "            maximum=minimum+(maximum-minimum)//2\n",
    "            intervallumfelezések_száma-=1\n",
    "            próbálkozásaim_száma+=1\n",
    "            print(\"min\",minimum)\n",
    "            print(\"max\",maximum)\n",
    "        else:\n",
    "            minimum=minimum+(maximum-minimum)//2\n",
    "            intervallumfelezések_száma-=1\n",
    "            próbálkozásaim_száma+=1\n",
    "            print(\"min\",minimum)\n",
    "            print(\"max\",maximum)\n",
    "    else:\n",
    "        break\n",
    "print(\"vizsgálódási tartomány:\",minimum,\"-\",maximum)\n",
    "print(\"ellőttem\",próbálkozásaim_száma,\"próbálkozást erre\")\n",
    "print(\"a vizsgálódási tartomány hossza:\",maximum-minimum)\n",
    "while minimum>itt_törik_a_tojás or maximum<itt_törik_a_tojás:\n",
    "    print(\"Ne legyél barom\")\n",
    "    break"
   ]
  },
  {
   "cell_type": "code",
   "execution_count": 12,
   "metadata": {},
   "outputs": [
    {
     "name": "stdout",
     "output_type": "stream",
     "text": [
      "szum lépésközök: 55\n",
      "a szűkített vizsgálódási tartományt ezekkel a lépésközökkel fogom bejárni: [10, 9, 8, 7, 6, 5, 4, 3, 2, 1]\n",
      "ha minden igaz, 55 >= 50\n",
      "szóval, legfeljebb 11 lépésben megmondom, hogy hol törik a tojás\n"
     ]
    }
   ],
   "source": [
    "while a<maximum-minimum:\n",
    "    n+=1\n",
    "    lépésközök.append(n)\n",
    "    a+=n\n",
    "print(\"szum lépésközök:\",a)\n",
    "lépésközök.reverse()\n",
    "print(\"a szűkített vizsgálódási tartományt ezekkel a lépésközökkel fogom bejárni:\",lépésközök)\n",
    "print(\"ha minden igaz,\",a,\">=\",maximum-minimum)\n",
    "huha=próbálkozásaim_száma+len(lépésközök)\n",
    "print(\"szóval, legfeljebb\",huha,\"lépésben megmondom, hogy hol törik a tojás\")"
   ]
  },
  {
   "cell_type": "code",
   "execution_count": 13,
   "metadata": {},
   "outputs": [
    {
     "name": "stdout",
     "output_type": "stream",
     "text": [
      "És kész is vagyok, 8 lépésben megtaláltam, hogy a 73 . emeleten törik a tojás\n",
      "ha nem tévedek, akkor: 11 >= 8\n"
     ]
    }
   ],
   "source": [
    "while True:\n",
    "    if minimum+lépésközök[c] <= itt_törik_a_tojás:\n",
    "        minimum+=lépésközök[c]\n",
    "        c+=1\n",
    "        próbálkozásaim_száma+=1\n",
    "        if minimum==itt_törik_a_tojás:\n",
    "            print(\"És kész is vagyok,\",próbálkozásaim_száma,\"lépésben megtaláltam, hogy a\",minimum,\". emeleten törik a tojás\")\n",
    "            print(\"ha nem tévedek, akkor:\",huha,\">=\",próbálkozásaim_száma)\n",
    "            break\n",
    "    else:\n",
    "        próbálkozásaim_száma+=1\n",
    "        while minimum < itt_törik_a_tojás:\n",
    "            minimum+=1\n",
    "            próbálkozásaim_száma+=1\n",
    "            if minimum==itt_törik_a_tojás:\n",
    "                print(\"És kész is vagyok,\",próbálkozásaim_száma,\"lépésben megtaláltam, hogy a\",minimum,\". emeleten törik a tojás\")\n",
    "                print(\"ha nem tévedek, akkor:\",huha,\">=\",próbálkozásaim_száma)\n",
    "        break"
   ]
  },
  {
   "cell_type": "code",
   "execution_count": null,
   "metadata": {},
   "outputs": [],
   "source": []
  }
 ],
 "metadata": {
  "kernelspec": {
   "display_name": "Python 3",
   "language": "python",
   "name": "python3"
  },
  "language_info": {
   "codemirror_mode": {
    "name": "ipython",
    "version": 3
   },
   "file_extension": ".py",
   "mimetype": "text/x-python",
   "name": "python",
   "nbconvert_exporter": "python",
   "pygments_lexer": "ipython3",
   "version": "3.8.2"
  }
 },
 "nbformat": 4,
 "nbformat_minor": 2
}
