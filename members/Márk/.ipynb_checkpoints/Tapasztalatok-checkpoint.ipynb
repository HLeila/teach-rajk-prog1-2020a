{
 "cells": [
  {
   "cell_type": "markdown",
   "metadata": {},
   "source": [
    "# Prog Projekt Tapasztalatok"
   ]
  },
  {
   "cell_type": "markdown",
   "metadata": {},
   "source": [
    "### Nagy Peti"
   ]
  },
  {
   "cell_type": "markdown",
   "metadata": {},
   "source": [
    "A syntax nehézséget becsültem alá. Azt hogy mennyi hibát fog dobni\n",
    "\n",
    "És ami ennek kapcsán hasznos volt az a türelem, kitartás, sok Google keresés és a debugging logikajanak elsajatitasa"
   ]
  },
  {
   "cell_type": "markdown",
   "metadata": {},
   "source": [
    "### Lentner"
   ]
  },
  {
   "cell_type": "markdown",
   "metadata": {},
   "source": [
    "Az én projektem egy webscraping project volt, ami lényegében annyit takart, hogy leszedte a lényegesebb cikkeket az Origó, HVG,444 és Index honlapjáról majd ezeknek a tartalmában lehetettt szavakra keresni és ha volt találat akkor visszakaptad a cikk címét meg a rá mutató linket.\n",
    "\n",
    "Nehézség amit alábecsültem az egyértelműen a html szerkezet volt, ugye ez közel sem standard a honlapoknál,mindenhol van kicsi eltérés és mivel előtte nem igazán hallottam róla, csak 1 picit az Endrétől ezért nagyon sok aha élménnyel gazdagodtam a projekt során. De mire az első 3 oldalt megcsináltam a negyedik már könnyen ment.\n",
    "\n",
    "Tudás egyértelműen az, hogy megtanultam , hogy mit milyen típusú objektumként kezel a python. Enélkül gyakorlatilag meghaltam volna teljesen. Ami még hatalmas tanulság volt, hogy minden fenn van az interneten amit te csinálni akarsz, szerintem az első 2 óra keresgélés minden egyéb kódolás nélkül éveket spórolt. Ami hiba volt, hogy akkor még jóval kevésbé gyakran néztem meg mit csinálnak addog függvények és csak másoltam a megírt kódokat, holott ha mindenre rákeresel a dokumentációban akkor gyakran tök sok fölösleges munkától mented meg magad, illetve megérted mi a faszért nem fut le. \n"
   ]
  },
  {
   "cell_type": "code",
   "execution_count": null,
   "metadata": {},
   "outputs": [],
   "source": []
  }
 ],
 "metadata": {
  "kernelspec": {
   "display_name": "Python 3",
   "language": "python",
   "name": "python3"
  },
  "language_info": {
   "codemirror_mode": {
    "name": "ipython",
    "version": 3
   },
   "file_extension": ".py",
   "mimetype": "text/x-python",
   "name": "python",
   "nbconvert_exporter": "python",
   "pygments_lexer": "ipython3",
   "version": "3.7.4"
  }
 },
 "nbformat": 4,
 "nbformat_minor": 2
}
