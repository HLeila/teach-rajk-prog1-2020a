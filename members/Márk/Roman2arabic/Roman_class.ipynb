{
 "cells": [
  {
   "cell_type": "code",
   "execution_count": 5,
   "metadata": {},
   "outputs": [],
   "source": [
    "class Roman_to_Arab:\n",
    "    def rom2ar(self,rom_string):\n",
    "        romarab = {'I': 1, 'V': 5, 'X': 10, 'L': 50, 'C': 100, 'D': 500, 'M': 1000}\n",
    "        szám_lista = [romarab[k] for k in rom_string]\n",
    "        szám_lista.append(0)\n",
    "        arab_szám = 0\n",
    "        for i in range(0, len(szám_lista) - 1):\n",
    "            if szám_lista[i] < szám_lista[i+1]:\n",
    "                arab_szám -= szám_lista[i]\n",
    "            else:\n",
    "                arab_szám += szám_lista[i]\n",
    "        return arab_szám"
   ]
  },
  {
   "cell_type": "code",
   "execution_count": 6,
   "metadata": {},
   "outputs": [
    {
     "data": {
      "text/plain": [
       "888"
      ]
     },
     "execution_count": 6,
     "metadata": {},
     "output_type": "execute_result"
    }
   ],
   "source": [
    "Roman_to_Arab().rom2ar('DCCCLXXXVIII')"
   ]
  },
  {
   "cell_type": "code",
   "execution_count": null,
   "metadata": {},
   "outputs": [],
   "source": []
  }
 ],
 "metadata": {
  "kernelspec": {
   "display_name": "Python 3",
   "language": "python",
   "name": "python3"
  },
  "language_info": {
   "codemirror_mode": {
    "name": "ipython",
    "version": 3
   },
   "file_extension": ".py",
   "mimetype": "text/x-python",
   "name": "python",
   "nbconvert_exporter": "python",
   "pygments_lexer": "ipython3",
   "version": "3.7.5"
  }
 },
 "nbformat": 4,
 "nbformat_minor": 4
}
