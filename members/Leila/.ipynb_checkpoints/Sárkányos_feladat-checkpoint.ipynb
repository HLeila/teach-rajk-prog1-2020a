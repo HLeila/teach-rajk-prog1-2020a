{
 "cells": [
  {
   "cell_type": "markdown",
   "metadata": {},
   "source": [
    "# Eredeti"
   ]
  },
  {
   "cell_type": "markdown",
   "metadata": {},
   "source": [
    "```\n",
    "def my_solution2(cow_alive_list):\n",
    "    fat_alive_cow_index = 0\n",
    "    thin_alive_cow_index = len(cow_alive_list) - 1\n",
    "    \n",
    "    while (fat_alive_cow_index + 1) < thin_alive_cow_index:\n",
    "        middle_cow = int((fat_alive_cow_index + \n",
    "                          thin_alive_cow_index) // 2)\n",
    "        if cow_alive_list[middle_cow]:\n",
    "            thin_alive_cow_index = middle_cow\n",
    "        else:\n",
    "            fat_alive_cow_index = middle_cow\n",
    "    \n",
    "    return middle_cow + 1\n",
    "```"
   ]
  },
  {
   "cell_type": "markdown",
   "metadata": {},
   "source": [
    "# Javított"
   ]
  },
  {
   "cell_type": "code",
   "execution_count": 1,
   "metadata": {},
   "outputs": [],
   "source": [
    "cow_alive_list_test_1 = [False, False, False, True, True, True]"
   ]
  },
  {
   "cell_type": "code",
   "execution_count": 2,
   "metadata": {},
   "outputs": [],
   "source": [
    "cow_alive_list_test_2 = [False, False, False, False, True, True, True]"
   ]
  },
  {
   "cell_type": "code",
   "execution_count": 3,
   "metadata": {},
   "outputs": [],
   "source": [
    "def my_solution2(cow_alive_list):\n",
    "\n",
    "    fat_alive_cow_index = 0\n",
    "    thin_alive_cow_index = len(cow_alive_list) - 1\n",
    "\n",
    "    while (fat_alive_cow_index + 1) < thin_alive_cow_index:\n",
    "        middle_cow = int((fat_alive_cow_index + thin_alive_cow_index) // 2)\n",
    "        if cow_alive_list[middle_cow]:\n",
    "            thin_alive_cow_index = middle_cow\n",
    "        else:\n",
    "            fat_alive_cow_index = middle_cow\n",
    "\n",
    "    if cow_alive_list[middle_cow] == True:\n",
    "        return middle_cow\n",
    "    else:\n",
    "        return middle_cow + 1"
   ]
  },
  {
   "cell_type": "code",
   "execution_count": 4,
   "metadata": {},
   "outputs": [
    {
     "data": {
      "text/plain": [
       "3"
      ]
     },
     "execution_count": 4,
     "metadata": {},
     "output_type": "execute_result"
    }
   ],
   "source": [
    "my_solution2(cow_alive_list_test_1)"
   ]
  },
  {
   "cell_type": "code",
   "execution_count": 5,
   "metadata": {},
   "outputs": [
    {
     "data": {
      "text/plain": [
       "4"
      ]
     },
     "execution_count": 5,
     "metadata": {},
     "output_type": "execute_result"
    }
   ],
   "source": [
    "my_solution2(cow_alive_list_test_2)"
   ]
  },
  {
   "cell_type": "markdown",
   "metadata": {},
   "source": [
    "# JKG"
   ]
  },
  {
   "cell_type": "code",
   "execution_count": 1,
   "metadata": {},
   "outputs": [],
   "source": [
    "from jkg_evaluators import dragonfind_10_to_500"
   ]
  },
  {
   "cell_type": "code",
   "execution_count": 35,
   "metadata": {},
   "outputs": [],
   "source": [
    "def my_solution3(is_dead, number_of_cows):\n",
    "\n",
    "    fat_alive_cow_index = 0\n",
    "    thin_alive_cow_index = number_of_cows\n",
    "\n",
    "    while (fat_alive_cow_index + 1) < thin_alive_cow_index:\n",
    "        middle_cow = int((fat_alive_cow_index + thin_alive_cow_index) // 2)\n",
    "        if not is_dead(middle_cow):\n",
    "            thin_alive_cow_index = middle_cow\n",
    "        else:\n",
    "            fat_alive_cow_index = middle_cow\n",
    "\n",
    "    if not is_dead(middle_cow) == True:\n",
    "        return middle_cow\n",
    "    else:\n",
    "        return middle_cow + 1"
   ]
  },
  {
   "cell_type": "code",
   "execution_count": 36,
   "metadata": {},
   "outputs": [
    {
     "name": "stdout",
     "output_type": "stream",
     "text": [
      "- success rate: 124714/124714 (100.0%)\n",
      "- error count: 0\n",
      "- best performance: 4\n",
      "- worst performance: 10\n",
      "- mean performance: 9.30581169716311\n"
     ]
    }
   ],
   "source": [
    "dragonfind_10_to_500.evaluate(my_solution3)"
   ]
  }
 ],
 "metadata": {
  "kernelspec": {
   "display_name": "Python 3",
   "language": "python",
   "name": "python3"
  },
  "language_info": {
   "codemirror_mode": {
    "name": "ipython",
    "version": 3
   },
   "file_extension": ".py",
   "mimetype": "text/x-python",
   "name": "python",
   "nbconvert_exporter": "python",
   "pygments_lexer": "ipython3",
   "version": "3.7.3"
  }
 },
 "nbformat": 4,
 "nbformat_minor": 2
}
