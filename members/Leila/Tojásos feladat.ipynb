{
 "cells": [
  {
   "cell_type": "markdown",
   "metadata": {},
   "source": [
    "# JKG"
   ]
  },
  {
   "cell_type": "code",
   "execution_count": 1,
   "metadata": {},
   "outputs": [],
   "source": [
    "from jkg_evaluators import eggdrop_100floor_2egg"
   ]
  },
  {
   "cell_type": "code",
   "execution_count": 2,
   "metadata": {},
   "outputs": [],
   "source": [
    "def my_solution1(breaks):         \n",
    "\n",
    "    if breaks (50) :\n",
    "        for emelet in range (1, 51) :\n",
    "            if breaks (emelet) :\n",
    "                return emelet-1\n",
    "         \n",
    "    else :\n",
    "        also_korlat = 0\n",
    "        \n",
    "        while breaks ( (100 + also_korlat) // 2 ) == False :\n",
    "            also_korlat = ( (100 + also_korlat) // 2 ) \n",
    "            if also_korlat == 99 :\n",
    "                break\n",
    "            \n",
    "        \n",
    "        for emelet in range ( also_korlat,102 ) :\n",
    "            if breaks (emelet) :\n",
    "                return emelet-1"
   ]
  },
  {
   "cell_type": "code",
   "execution_count": 3,
   "metadata": {},
   "outputs": [
    {
     "name": "stdout",
     "output_type": "stream",
     "text": [
      "- success rate: 101/101 (100.0%)\n",
      "- error count: 0\n",
      "- best performance: 2\n",
      "- worst performance: 51\n",
      "- mean performance: 20.019801980198018\n"
     ]
    }
   ],
   "source": [
    "eggdrop_100floor_2egg.evaluate(my_solution1)"
   ]
  },
  {
   "cell_type": "markdown",
   "metadata": {},
   "source": [
    "# Általánosítás"
   ]
  },
  {
   "cell_type": "code",
   "execution_count": 4,
   "metadata": {},
   "outputs": [],
   "source": [
    "elso_tores_emelet = 72\n",
    "\n",
    "def breaks (i):\n",
    "    if elso_tores_emelet <= i : \n",
    "        return True\n",
    "    else :\n",
    "        return False \n",
    "\n",
    "\n",
    "def my_solution2 (emeletek_szama,tojasok_szama) :\n",
    "    \n",
    "    felso_korlat = emeletek_szama\n",
    "    also_korlat = 0\n",
    "    osszetort = 0\n",
    "    lepes = 0\n",
    "\n",
    "    while also_korlat+1 < felso_korlat :\n",
    "        \n",
    "        lepes += 1\n",
    "        \n",
    "        if breaks ((also_korlat+felso_korlat) // 2) :\n",
    "            felso_korlat = (also_korlat+felso_korlat) // 2\n",
    "            osszetort += 1\n",
    "            if osszetort == tojasok_szama -1 :\n",
    "                break\n",
    "        \n",
    "        else :\n",
    "            also_korlat = (also_korlat+felso_korlat) // 2\n",
    "            \n",
    "    \n",
    "    for emelet in range (also_korlat+1, felso_korlat + 2) :\n",
    "        lepes += 1\n",
    "        if breaks (emelet):\n",
    "            return emelet-1, lepes"
   ]
  },
  {
   "cell_type": "code",
   "execution_count": 5,
   "metadata": {},
   "outputs": [
    {
     "data": {
      "text/plain": [
       "(71, 9)"
      ]
     },
     "execution_count": 5,
     "metadata": {},
     "output_type": "execute_result"
    }
   ],
   "source": [
    "my_solution2 (200,5)"
   ]
  },
  {
   "cell_type": "markdown",
   "metadata": {},
   "source": [
    "Jó megoldás, illetve az is jó, hogy a változóid leírják, hogy mit rejtenek és örülök, hogy írtál egy általános megoldást. :)"
   ]
  }
 ],
 "metadata": {
  "kernelspec": {
   "display_name": "Python 3",
   "language": "python",
   "name": "python3"
  },
  "language_info": {
   "codemirror_mode": {
    "name": "ipython",
    "version": 3
   },
   "file_extension": ".py",
   "mimetype": "text/x-python",
   "name": "python",
   "nbconvert_exporter": "python",
   "pygments_lexer": "ipython3",
   "version": "3.8.2"
  }
 },
 "nbformat": 4,
 "nbformat_minor": 2
}
