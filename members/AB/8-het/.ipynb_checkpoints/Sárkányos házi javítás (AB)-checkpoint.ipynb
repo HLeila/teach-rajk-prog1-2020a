{
 "cells": [
  {
   "cell_type": "markdown",
   "metadata": {},
   "source": [
    "### sima"
   ]
  },
  {
   "cell_type": "code",
   "execution_count": 3,
   "metadata": {},
   "outputs": [],
   "source": [
    "cow_alive_list = [False, False, False, False, True, True]"
   ]
  },
  {
   "cell_type": "code",
   "execution_count": null,
   "metadata": {},
   "outputs": [],
   "source": [
    "def my_solution1():\n",
    "    place = 0\n",
    "    for cow_is_alive in cow_alive_list:\n",
    "        place = place + 1\n",
    "        if cow_is_alive:\n",
    "            return place\n",
    "    \n",
    "    return place + 1"
   ]
  },
  {
   "cell_type": "code",
   "execution_count": 6,
   "metadata": {
    "scrolled": true
   },
   "outputs": [
    {
     "data": {
      "text/plain": [
       "5"
      ]
     },
     "execution_count": 6,
     "metadata": {},
     "output_type": "execute_result"
    }
   ],
   "source": [
    "my_solution1()"
   ]
  },
  {
   "cell_type": "markdown",
   "metadata": {},
   "source": [
    "Ezzel nem csináltál semmit, egy az egyben a kurzuson is látott rossz megoldás.\n",
    "\n",
    "Egy általános dolog, hogy érdemes paraméteresen megírni a függvényt, és nem globális változókra hivatkozva.\n",
    "\n",
    "A másik, hogy ez a függvény mindig egyel nagyobb számot ad a megoldásnál. Ez azért van, mert a 4. sorban már hozzáadsz egyet a place változóhoz, és utána ellenőrzöd, hogy még életben van-e a tehén (az eggyel kisebb indexnél). Úgy lenne helyes, ha előbb végeznéd el az ellenőrzést, és utána növelnéd a place változót.\n",
    "\n",
    "Tehát így lenne helyes:"
   ]
  },
  {
   "cell_type": "code",
   "execution_count": 5,
   "metadata": {},
   "outputs": [],
   "source": [
    "def my_solution1_jav(cow_alive_list):\n",
    "    place = 0\n",
    "    for cow_is_alive in cow_alive_list:\n",
    "        if cow_is_alive:\n",
    "            return place\n",
    "        place = place + 1"
   ]
  },
  {
   "cell_type": "code",
   "execution_count": 6,
   "metadata": {},
   "outputs": [
    {
     "data": {
      "text/plain": [
       "4"
      ]
     },
     "execution_count": 6,
     "metadata": {},
     "output_type": "execute_result"
    }
   ],
   "source": [
    "my_solution1_jav(cow_alive_list)"
   ]
  },
  {
   "cell_type": "markdown",
   "metadata": {},
   "source": [
    "-----------------"
   ]
  },
  {
   "cell_type": "markdown",
   "metadata": {},
   "source": [
    "### jkg"
   ]
  },
  {
   "cell_type": "code",
   "execution_count": 1,
   "metadata": {},
   "outputs": [],
   "source": [
    "from jkg_evaluators import dragonfind_10_to_500"
   ]
  },
  {
   "cell_type": "code",
   "execution_count": 2,
   "metadata": {},
   "outputs": [],
   "source": [
    "def my_solution2(is_dead, number_of_cows):\n",
    "\n",
    "    fat_alive_cow_index = 0\n",
    "    thin_alive_cow_index = number_of_cows - 1\n",
    "\n",
    "    for cow_alive_list in range(1, number_of_cows):\n",
    "\n",
    "        if fat_alive_cow_index + 1 < thin_alive_cow_index:\n",
    "            middle_cow = int((fat_alive_cow_index + thin_alive_cow_index) // 2)\n",
    "            if is_dead == True:\n",
    "                thin_alive_cow_index = middle_cow\n",
    "            else:\n",
    "                fat_alive_cow_index = middle_cow\n",
    "\n",
    "        if is_dead == True:\n",
    "            return middle_cow\n",
    "        else:\n",
    "            return middle_cow + 1"
   ]
  },
  {
   "cell_type": "code",
   "execution_count": 9,
   "metadata": {
    "scrolled": true
   },
   "outputs": [
    {
     "name": "stdout",
     "output_type": "stream",
     "text": [
      "- success rate: 491/124714 (0.0%)\n",
      "- error count: 0\n",
      "- best performance: 0\n",
      "- worst performance: 0\n",
      "- mean performance: 0.0\n",
      "\n",
      "\n",
      " BAD SOLUTION at: \n",
      " {'number_of_cows': 10, 'dragon_coming_to': 1}\n",
      "\n",
      "\n",
      " BAD SOLUTION at: \n",
      " {'number_of_cows': 10, 'dragon_coming_to': 2}\n",
      "\n",
      "\n",
      " BAD SOLUTION at: \n",
      " {'number_of_cows': 10, 'dragon_coming_to': 3}\n",
      "\n",
      "\n",
      " BAD SOLUTION at: \n",
      " {'number_of_cows': 10, 'dragon_coming_to': 4}\n",
      "\n",
      "\n",
      " BAD SOLUTION at: \n",
      " {'number_of_cows': 10, 'dragon_coming_to': 6}\n",
      "\n",
      "\n",
      " BAD SOLUTION at: \n",
      " {'number_of_cows': 10, 'dragon_coming_to': 7}\n",
      "\n",
      "\n",
      " BAD SOLUTION at: \n",
      " {'number_of_cows': 10, 'dragon_coming_to': 8}\n",
      "\n",
      "\n",
      " BAD SOLUTION at: \n",
      " {'number_of_cows': 10, 'dragon_coming_to': 9}\n",
      "\n",
      "\n",
      " BAD SOLUTION at: \n",
      " {'number_of_cows': 11, 'dragon_coming_to': 1}\n",
      "\n",
      "\n",
      " BAD SOLUTION at: \n",
      " {'number_of_cows': 11, 'dragon_coming_to': 2}\n"
     ]
    }
   ],
   "source": [
    "dragonfind_10_to_500.evaluate(my_solution2)"
   ]
  },
  {
   "cell_type": "markdown",
   "metadata": {},
   "source": [
    "#### 0\n",
    "\n",
    "**Ennek a függvénynek a sikerrátája 0%, így nem illik leadni. Kértük, hogy legyen a siker 100%-os még akkor is, ha nem találjátok meg a leghatékonyabb algoritmust. Nem baszogatásnól írom, de pont abból lehet a legjobban tanulni, ha próbálsz rájönni, hogy miért nem működik a saját kódod, vagy segítséget kérsz hozzá.**\n",
    "\n",
    "#### 1\n",
    "A `dragonfind_10_to_500.evaluate` függvény első paramétere, **az `is_dead` maga is egy függvény**, ami bármely tehén indexére megmondja, hogy az adott tehén halott-e. **Ez benne van a [dokumentációban](https://jkg-evaluators.readthedocs.io/en/latest/notebooks/001-dragonfind.html) is, belinkeltük, figyelmesen el kell olvasni.**\n",
    "\n",
    "Az `is_dead` függvényt meg kell hívni a megfelelő index-szel. Az `is_dead == True` feltétel nem fog működni, mert ez azt vizsgálja, hogy maga a függvény (és nem egy konkrét visszatérési értéke) egyenlő-e a `True` logikai értékkel (ami nyilván nem igaz). Ráadásul fordított a logika, mert az eredi megoldásban az volt a feltétel, hogy az adott tehén él, az `is_dead` pedig ennek a **logikai ellentétét** adja vissza, vagyis, hogy az adott tehén halott-e. Tehát az ellenőrizendő feltétel az `is_dead(middle_cow) == False` vagy kicsit szebben `if not is_dead(middle_cow)`.\n",
    "\n",
    "#### 2\n",
    "\n",
    "A `for` ciklus nem szerencsés itt, mert nem a listán kell végigmenni, hanem addig kell ugrálni a középső tehenekhez, amíg meg nem találod a megoldást. A `while` ciklus pont azt tudja: ismételj valamit, ameddig teljesül egy adott feltétel. De meg lehet oldani for ciklussal is ebben az esetben, **de csak azért, mert legfeljebb annyi iteráció kell, amennyi a lista elemszáma** (ez következik abból, hogy $O(n)$ komplexitásnál hatékonyabb algoritmust írunk). Nem elegáns, de működőképes, csak akkor jól kell megírni a feltételeket.\n",
    "\n",
    "A te függvényed sosem fog továbbjutni az első iterációnál. Ez azért van, mert a 15. sorban hamis lesz a feltétel (ahogy már fent leírtam, az `is_dead` függvény nem egyenlő a `True` logikai értékkel), ezért belemegy a 18. sorba, ahol a `return middle_cow + 1` szerint visszaadja a középső tehén indexe + 1-et. A 15. sorba tehát csak akkor szabadna a függvénynek belemenni, ha már sarokba szorítottuk a sárkányt, vagyis csak egy tehén van a `fat_alive_cow_index` és a `thin_alive_cow_index` között.\n",
    "\n",
    "Így lenne helyes:"
   ]
  },
  {
   "cell_type": "code",
   "execution_count": 4,
   "metadata": {},
   "outputs": [],
   "source": [
    "def my_solution2_jav(is_dead, number_of_cows):\n",
    "\n",
    "    fat_alive_cow_index = 0\n",
    "    thin_alive_cow_index = number_of_cows - 1\n",
    "\n",
    "    for cow in range(number_of_cows):\n",
    "\n",
    "        if fat_alive_cow_index + 1 < thin_alive_cow_index:\n",
    "            middle_cow = (fat_alive_cow_index + thin_alive_cow_index) // 2\n",
    "\n",
    "            if not is_dead(middle_cow):\n",
    "                thin_alive_cow_index = middle_cow\n",
    "            else:\n",
    "                fat_alive_cow_index = middle_cow\n",
    "\n",
    "        else:\n",
    "\n",
    "            if not is_dead(middle_cow):\n",
    "                return middle_cow\n",
    "            else:\n",
    "                return middle_cow + 1"
   ]
  },
  {
   "cell_type": "code",
   "execution_count": 5,
   "metadata": {},
   "outputs": [
    {
     "name": "stdout",
     "output_type": "stream",
     "text": [
      "- success rate: 124714/124714 (100.0%)\n",
      "- error count: 0\n",
      "- best performance: 4\n",
      "- worst performance: 10\n",
      "- mean performance: 9.301874689289093\n"
     ]
    }
   ],
   "source": [
    "dragonfind_10_to_500.evaluate(my_solution2_jav)"
   ]
  }
 ],
 "metadata": {
  "kernelspec": {
   "display_name": "Python 3",
   "language": "python",
   "name": "python3"
  },
  "language_info": {
   "codemirror_mode": {
    "name": "ipython",
    "version": 3
   },
   "file_extension": ".py",
   "mimetype": "text/x-python",
   "name": "python",
   "nbconvert_exporter": "python",
   "pygments_lexer": "ipython3",
   "version": "3.7.3"
  }
 },
 "nbformat": 4,
 "nbformat_minor": 2
}
