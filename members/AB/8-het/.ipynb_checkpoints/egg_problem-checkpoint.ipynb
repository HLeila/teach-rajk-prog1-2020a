{
 "cells": [
  {
   "cell_type": "code",
   "execution_count": 1,
   "metadata": {},
   "outputs": [],
   "source": [
    "from jkg_evaluators import eggdrop_100floor_2egg"
   ]
  },
  {
   "cell_type": "code",
   "execution_count": 2,
   "metadata": {},
   "outputs": [],
   "source": [
    "def my_solution1(breaks): \n",
    "    for i in range(1,100):\n",
    "        if breaks(i):\n",
    "            return i-1\n",
    "        \n",
    "        \n"
   ]
  },
  {
   "cell_type": "code",
   "execution_count": 3,
   "metadata": {},
   "outputs": [
    {
     "name": "stdout",
     "output_type": "stream",
     "text": [
      "- success rate: 99/101 (98.0%)\n",
      "- error count: 0\n",
      "- best performance: 1\n",
      "- worst performance: 99\n",
      "- mean performance: 50.97029702970297\n",
      "\n",
      "\n",
      " BAD SOLUTION at: \n",
      " {'egg_count': 2, 'floor_count': 100, 'max_floor': 99}\n",
      "\n",
      "\n",
      " BAD SOLUTION at: \n",
      " {'egg_count': 2, 'floor_count': 100, 'max_floor': 100}\n"
     ]
    }
   ],
   "source": [
    "eggdrop_100floor_2egg.evaluate(my_solution1)"
   ]
  },
  {
   "cell_type": "markdown",
   "metadata": {},
   "source": [
    "Ez itt a gyakorlatilag az alap példa átmásolva a leírásból. :( \n",
    "Örülnék, ha a kurzushétvégéig megírnál egy ennél jobb worst performancet nyújtó függvényt."
   ]
  },
  {
   "cell_type": "code",
   "execution_count": null,
   "metadata": {},
   "outputs": [],
   "source": []
  }
 ],
 "metadata": {
  "kernelspec": {
   "display_name": "Python 3",
   "language": "python",
   "name": "python3"
  },
  "language_info": {
   "codemirror_mode": {
    "name": "ipython",
    "version": 3
   },
   "file_extension": ".py",
   "mimetype": "text/x-python",
   "name": "python",
   "nbconvert_exporter": "python",
   "pygments_lexer": "ipython3",
   "version": "3.8.2"
  }
 },
 "nbformat": 4,
 "nbformat_minor": 4
}
