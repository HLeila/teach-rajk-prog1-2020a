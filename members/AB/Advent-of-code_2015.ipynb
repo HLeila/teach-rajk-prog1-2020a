{
 "cells": [
  {
   "cell_type": "code",
   "execution_count": 1,
   "metadata": {},
   "outputs": [
    {
     "name": "stdout",
     "output_type": "stream",
     "text": [
      "Erre a szintre menjen a Mikulás = 280\n"
     ]
    }
   ],
   "source": [
    "##Advent-of-code - 1.star\n",
    "\n",
    "with open ('2015_day1_input.txt') as fp:\n",
    "    string_input = fp.read()\n",
    "    \n",
    "def f():\n",
    "\n",
    "    felmegy = 0\n",
    "    for i in string_input:\n",
    "        if i == '(':\n",
    "            felmegy = felmegy+1\n",
    "\n",
    "    lemegy = 0\n",
    "    for z in string_input:\n",
    "        if z == ')':\n",
    "            lemegy = lemegy+1\n",
    "\n",
    "    szint = felmegy - lemegy\n",
    "    print(\"Erre a szintre menjen a Mikulás =\", szint)\n",
    "\n",
    "f()\n"
   ]
  }
 ],
 "metadata": {
  "kernelspec": {
   "display_name": "Python 3",
   "language": "python",
   "name": "python3"
  },
  "language_info": {
   "codemirror_mode": {
    "name": "ipython",
    "version": 3
   },
   "file_extension": ".py",
   "mimetype": "text/x-python",
   "name": "python",
   "nbconvert_exporter": "python",
   "pygments_lexer": "ipython3",
   "version": "3.7.5"
  }
 },
 "nbformat": 4,
 "nbformat_minor": 4
}
