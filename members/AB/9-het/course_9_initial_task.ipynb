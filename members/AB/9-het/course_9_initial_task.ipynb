{
 "cells": [
  {
   "cell_type": "markdown",
   "metadata": {},
   "source": [
    "#### find the two numbers in a list that produce the highest number as their multiple\n",
    "\n",
    "the numbers have to be two different numbers in the list, but if the same number occurs in the list twice, it can be used twice. return the result of the multiplications.\n",
    "\n",
    "> ```[1, 2, 3] -> 6```"
   ]
  },
  {
   "cell_type": "code",
   "execution_count": 21,
   "metadata": {},
   "outputs": [],
   "source": [
    "from jkg_evaluators import largest_multiple"
   ]
  },
  {
   "cell_type": "code",
   "execution_count": 25,
   "metadata": {},
   "outputs": [],
   "source": [
    "def find_largest_multiple(list_of_numbers):\n",
    "  \n",
    "    lm = list_of_numbers\n",
    "    lm.sort(reverse=True)\n",
    "    maximum = lm[0]\n",
    "    second_maximum = lm[1]\n",
    "    largest_positive = maximum*second_maximum\n",
    "    negative_max = lm[-1]\n",
    "    negative_second_max= lm[-2]\n",
    "    largest_negative = negative_max*negative_second_max\n",
    "    \n",
    "    if largest_positive > largest_negative:\n",
    "        return largest_positive\n",
    "    else:\n",
    "        return largest_negative\n",
    "    \n",
    "    return largest"
   ]
  },
  {
   "cell_type": "code",
   "execution_count": 26,
   "metadata": {},
   "outputs": [
    {
     "name": "stdout",
     "output_type": "stream",
     "text": [
      "- success rate: 497/497 (100.0%)\n",
      "- error count: 0\n",
      "- best performance: 1\n",
      "- worst performance: 1\n",
      "- mean performance: 1.0\n"
     ]
    }
   ],
   "source": [
    "largest_multiple.evaluate(find_largest_multiple)"
   ]
  },
  {
   "cell_type": "code",
   "execution_count": null,
   "metadata": {},
   "outputs": [],
   "source": []
  },
  {
   "cell_type": "code",
   "execution_count": null,
   "metadata": {},
   "outputs": [],
   "source": []
  }
 ],
 "metadata": {
  "kernelspec": {
   "display_name": "Python 3",
   "language": "python",
   "name": "python3"
  },
  "language_info": {
   "codemirror_mode": {
    "name": "ipython",
    "version": 3
   },
   "file_extension": ".py",
   "mimetype": "text/x-python",
   "name": "python",
   "nbconvert_exporter": "python",
   "pygments_lexer": "ipython3",
   "version": "3.7.5"
  }
 },
 "nbformat": 4,
 "nbformat_minor": 2
}
