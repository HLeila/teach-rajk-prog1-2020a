{
 "cells": [
  {
   "cell_type": "code",
   "execution_count": 21,
   "metadata": {},
   "outputs": [
    {
     "name": "stdout",
     "output_type": "stream",
     "text": [
      "Not weird\n"
     ]
    }
   ],
   "source": [
    "###Intro/If-else\n",
    "\n",
    "def f(n):\n",
    "    if n%2 != 0:\n",
    "        print (\"Weird\")\n",
    "    elif n%2 == 0 & 2<n<5:\n",
    "        print (\"Not Weird\")\n",
    "    elif n%2 == 0 & 6<=n<=20:\n",
    "        print (\"Weird\")\n",
    "    elif n%2 == 0 & 20<n:\n",
    "        print (\"Not Weird\")\n",
    "\n",
    "f(4)"
   ]
  },
  {
   "cell_type": "code",
   "execution_count": 28,
   "metadata": {},
   "outputs": [
    {
     "name": "stdout",
     "output_type": "stream",
     "text": [
      "5\n",
      "-1\n",
      "6\n"
     ]
    }
   ],
   "source": [
    "###Intro/Arithmetic operators\n",
    "\n",
    "def f(a,b):\n",
    "\n",
    "    v = a+b\n",
    "    print (v)\n",
    "    z = a-b\n",
    "    print (z)\n",
    "    w = a*b\n",
    "    print(w)\n",
    "\n",
    "f(2,3)"
   ]
  },
  {
   "cell_type": "code",
   "execution_count": 31,
   "metadata": {},
   "outputs": [
    {
     "name": "stdout",
     "output_type": "stream",
     "text": [
      "1\n",
      "1.5\n"
     ]
    }
   ],
   "source": [
    "###Intro/Divison\n",
    "\n",
    "def f(a,b):\n",
    "\n",
    "    v = a//b\n",
    "    print (v)\n",
    "    z = a/b\n",
    "    print(z)\n",
    "\n",
    "f(3,2)"
   ]
  },
  {
   "cell_type": "code",
   "execution_count": 39,
   "metadata": {},
   "outputs": [
    {
     "name": "stdout",
     "output_type": "stream",
     "text": [
      "0\n",
      "1\n",
      "4\n",
      "9\n",
      "16\n"
     ]
    }
   ],
   "source": [
    "##Intro/Loops\n",
    "\n",
    "def f(n):\n",
    "    \n",
    "    i=0\n",
    "    while i<n:\n",
    "        print (i**2)\n",
    "        i += 1\n",
    "    \n",
    "f(5)"
   ]
  },
  {
   "cell_type": "code",
   "execution_count": 41,
   "metadata": {},
   "outputs": [
    {
     "data": {
      "text/plain": [
       "True"
      ]
     },
     "execution_count": 41,
     "metadata": {},
     "output_type": "execute_result"
    }
   ],
   "source": [
    "##Intro/Function\n",
    "\n",
    "def leap(year):\n",
    "    leap = False\n",
    "         \n",
    "    if year % 400 == 0:\n",
    "        return True\n",
    "    if year % 100 == 0:\n",
    "        return False\n",
    "    if year % 4 == 0:\n",
    "        return True\n",
    "    else:\n",
    "        return False\n",
    "    \n",
    "    return leap\n",
    "          \n",
    "leap(2000)"
   ]
  },
  {
   "cell_type": "code",
   "execution_count": 72,
   "metadata": {},
   "outputs": [
    {
     "name": "stdout",
     "output_type": "stream",
     "text": [
      "123456789"
     ]
    }
   ],
   "source": [
    "##Intro/Print function\n",
    "\n",
    "def f(n):\n",
    "\n",
    "     for i in range(1,n+1):\n",
    "        print (i, end=\"\")\n",
    "f(9)"
   ]
  },
  {
   "cell_type": "code",
   "execution_count": 55,
   "metadata": {},
   "outputs": [
    {
     "name": "stdout",
     "output_type": "stream",
     "text": [
      "['adj', 'egy', 'pacsit']\n",
      "adj-egy-pacsit\n"
     ]
    }
   ],
   "source": [
    "##String Split and Join\n",
    "\n",
    "def split_and_join():\n",
    "\n",
    "    a = \"adj egy pacsit\"\n",
    "\n",
    "    a = a.split(\" \")\n",
    "    print(a)\n",
    "    a = \"-\".join(a)\n",
    "    print(a)\n",
    "\n",
    "split_and_join()"
   ]
  },
  {
   "cell_type": "code",
   "execution_count": null,
   "metadata": {},
   "outputs": [],
   "source": [
    "###Nested Lists\n",
    "\n",
    "def f()\n",
    "\n",
    "for i in range name\n",
    "    if i\n",
    "\n",
    "f()"
   ]
  },
  {
   "cell_type": "code",
   "execution_count": 9,
   "metadata": {},
   "outputs": [
    {
     "name": "stdout",
     "output_type": "stream",
     "text": [
      "1 1\n"
     ]
    }
   ],
   "source": [
    "##Algorithm/Compare the Triplets\n",
    "\n",
    "def compareTriplets():\n",
    "\n",
    "    a = [3,2,1]\n",
    "    b= [1,2,3]\n",
    "    A = 0\n",
    "    B = 0\n",
    "\n",
    "    #clarity\n",
    "    if a[0] > b[0]:\n",
    "        A = 1\n",
    "    elif a[0] < b[0]:\n",
    "        B = 1\n",
    "    #originality\n",
    "    if a[1] > b[1]:\n",
    "        A = 1\n",
    "    elif a[1] < b[1]:\n",
    "        B = 1\n",
    "    #difficulty\n",
    "    if a[2] > b[2]:\n",
    "        A = 1\n",
    "    elif a[2] < b[2]:\n",
    "        B = 1 \n",
    "    \n",
    "    print(A,B)\n",
    "    \n",
    "compareTriplets()"
   ]
  },
  {
   "cell_type": "code",
   "execution_count": 71,
   "metadata": {},
   "outputs": [
    {
     "ename": "IndentationError",
     "evalue": "unexpected indent (<ipython-input-71-c3346d51ed95>, line 10)",
     "output_type": "error",
     "traceback": [
      "\u001b[0;36m  File \u001b[0;32m\"<ipython-input-71-c3346d51ed95>\"\u001b[0;36m, line \u001b[0;32m10\u001b[0m\n\u001b[0;31m    if time[1] == \"1\":\u001b[0m\n\u001b[0m    ^\u001b[0m\n\u001b[0;31mIndentationError\u001b[0m\u001b[0;31m:\u001b[0m unexpected indent\n"
     ]
    }
   ],
   "source": [
    "###Algorithm/Timecon\n",
    "\n",
    "def timecon(s):\n",
    "    \n",
    "    time = s\n",
    "\n",
    "    if time[-2:] == \"PM\":\n",
    "        if time[0] == \"0\":\n",
    "            time[0] == \"1\"\n",
    "                if time[1] == \"1\":\n",
    "                    time[1] == \"3\"\n",
    "                elif time[1] ==\"2\":\n",
    "                    time[1] == \"4\"\n",
    "                elif time[1] == \"3\":\n",
    "                    time[1] == \"5\"\n",
    "                elif time[1] ==\"4\":\n",
    "                    time[1] == \"6\"\n",
    "                elif time[1] == \"5\":\n",
    "                    time[1] == \"7\"\n",
    "                elif time[1] == \"6\":\n",
    "                    time[1] == \"8\"\n",
    "                elif time[1] == \"7\":\n",
    "                    time[1] == \"9\"\n",
    "                elif time[1] == \"8\":\n",
    "                    time[1] == \"0\"\n",
    "                elif time[1] == \"9\":\n",
    "                    time[0] == \"2\"\n",
    "                    time[1] == \"1\"\n",
    "                elif time[1] == \"0\":\n",
    "                    time[0] == \"2\"\n",
    "                    time[1] == \"2\"\n",
    "            if time[0] == \"1\" & time[1] ==\"1\"\n",
    "                time[0] == \"2\"\n",
    "                time[1] == \"3\"\n",
    "            if time[1] == \"1\" & time[1] ==\"2\"\n",
    "                time[0] == \"0\"\n",
    "                time[1] == \"0\"\n",
    "        time.replace(\"PM\", \" \")\n",
    "    elif time[0:1] == \"12\":\n",
    "        time = s\n",
    "        time.replace(\"AM\", \" \")\n",
    "    elif time[-2:] == \"AM\":\n",
    "        time.replace(\"AM\", \" \")\n",
    "    \n",
    "    \n",
    "    print(time)\n",
    "\n",
    "timecon(\"07:05:04PM\")"
   ]
  },
  {
   "cell_type": "code",
   "execution_count": null,
   "metadata": {},
   "outputs": [],
   "source": []
  }
 ],
 "metadata": {
  "kernelspec": {
   "display_name": "Python 3",
   "language": "python",
   "name": "python3"
  },
  "language_info": {
   "codemirror_mode": {
    "name": "ipython",
    "version": 3
   },
   "file_extension": ".py",
   "mimetype": "text/x-python",
   "name": "python",
   "nbconvert_exporter": "python",
   "pygments_lexer": "ipython3",
   "version": "3.7.5"
  }
 },
 "nbformat": 4,
 "nbformat_minor": 4
}
