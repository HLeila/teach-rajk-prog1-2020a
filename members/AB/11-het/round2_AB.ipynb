{
 "cells": [
  {
   "cell_type": "code",
   "execution_count": 96,
   "metadata": {},
   "outputs": [],
   "source": [
    "import sys\n",
    "sys.path.insert(0, '..')\n",
    "from __import_file__ import AB\n",
    "from __import_file__ import Roli\n",
    "from __import_file__ import Dani\n",
    "from __import_file__ import Meszi\n",
    "from __import_file__ import Marci\n",
    "from __import_file__ import Bori\n",
    "from __import_file__ import Leila\n",
    "from __import_file__ import Sara\n",
    "from __import_file__ import Mark\n",
    "from __import_file__ import Lili"
   ]
  },
  {
   "cell_type": "markdown",
   "metadata": {},
   "source": [
    "## AB"
   ]
  },
  {
   "cell_type": "code",
   "execution_count": 30,
   "metadata": {},
   "outputs": [],
   "source": [
    "def AB_solution(list_of_numbers):\n",
    "    \n",
    "    lm = list_of_numbers\n",
    "    lm.sort(reverse=True)\n",
    "    maximum = lm[0]\n",
    "    second_maximum = lm[1]\n",
    "    largest_positive = maximum*second_maximum\n",
    "    negative_max = lm[-1]\n",
    "    negative_second_max= lm[-2]\n",
    "    largest_negative = negative_max*negative_second_max\n",
    "    \n",
    "    if largest_positive > largest_negative:\n",
    "        return largest_positive\n",
    "    else:\n",
    "        return largest_negative\n",
    "    \n",
    "    return largest"
   ]
  },
  {
   "cell_type": "code",
   "execution_count": 31,
   "metadata": {},
   "outputs": [
    {
     "name": "stdout",
     "output_type": "stream",
     "text": [
      "- success rate: 497/497 (100.0%)\n",
      "- error count: 0\n",
      "- best performance: 1\n",
      "- worst performance: 1\n",
      "- mean performance: 1.0\n"
     ]
    }
   ],
   "source": [
    "AB.evaluate(AB_solution)"
   ]
  },
  {
   "cell_type": "markdown",
   "metadata": {},
   "source": [
    "## Roli"
   ]
  },
  {
   "cell_type": "code",
   "execution_count": 9,
   "metadata": {},
   "outputs": [],
   "source": [
    "def Roli_solution(list_of_strings, letter):\n",
    "    \n",
    "    roli = 0\n",
    "    for i in list_of_strings:\n",
    "        for e in i:\n",
    "            if e == letter.lower() or e == letter.upper():\n",
    "                roli = roli+1\n",
    "                break\n",
    "    return roli"
   ]
  },
  {
   "cell_type": "code",
   "execution_count": 10,
   "metadata": {},
   "outputs": [
    {
     "name": "stdout",
     "output_type": "stream",
     "text": [
      "- success rate: 495/495 (100.0%)\n",
      "- error count: 0\n",
      "- best performance: 1\n",
      "- worst performance: 1\n",
      "- mean performance: 1.0\n"
     ]
    }
   ],
   "source": [
    "Roli.evaluate(Roli_solution)"
   ]
  },
  {
   "cell_type": "markdown",
   "metadata": {},
   "source": [
    "## Dani"
   ]
  },
  {
   "cell_type": "code",
   "execution_count": 31,
   "metadata": {},
   "outputs": [],
   "source": [
    "def Dani_solution(list_of_words):\n",
    "    \n",
    "    count = 0\n",
    "    a = []\n",
    "    for i in list_of_words:\n",
    "        for e in i:\n",
    "            if e == 'a' or e == 'A':\n",
    "                count = count+1\n",
    "        a.append(count)\n",
    "        count = 0\n",
    "    legnagyobb = max(a)\n",
    "    if legnagyobb == 0:\n",
    "        return -1\n",
    "    elif legnagyobb != 0:\n",
    "        return a.index(legnagyobb)\n"
   ]
  },
  {
   "cell_type": "code",
   "execution_count": 32,
   "metadata": {},
   "outputs": [
    {
     "name": "stdout",
     "output_type": "stream",
     "text": [
      "- success rate: 495/495 (100.0%)\n",
      "- error count: 0\n",
      "- best performance: 1\n",
      "- worst performance: 1\n",
      "- mean performance: 1.0\n"
     ]
    }
   ],
   "source": [
    "Dani.evaluate(Dani_solution)"
   ]
  },
  {
   "cell_type": "markdown",
   "metadata": {},
   "source": [
    "## Mészi"
   ]
  },
  {
   "cell_type": "code",
   "execution_count": 87,
   "metadata": {},
   "outputs": [],
   "source": [
    "def Meszi_solution(list_of_numbers, number):\n",
    "    \n",
    "    a = float('-inf')\n",
    "    b = []\n",
    "    for i in list_of_numbers:\n",
    "        if (i/number)%2 == 0 :\n",
    "            b.append(i)\n",
    "    for e in b:\n",
    "        if e > a:\n",
    "            a = e\n",
    "    if b !=[]:\n",
    "        return a\n",
    "    else:\n",
    "        return 0"
   ]
  },
  {
   "cell_type": "code",
   "execution_count": 88,
   "metadata": {},
   "outputs": [
    {
     "name": "stdout",
     "output_type": "stream",
     "text": [
      "- success rate: 497/497 (100.0%)\n",
      "- error count: 0\n",
      "- best performance: 1\n",
      "- worst performance: 1\n",
      "- mean performance: 1.0\n"
     ]
    }
   ],
   "source": [
    "Meszi.evaluate(Meszi_solution)"
   ]
  },
  {
   "cell_type": "markdown",
   "metadata": {},
   "source": [
    "## Marci"
   ]
  },
  {
   "cell_type": "code",
   "execution_count": 47,
   "metadata": {},
   "outputs": [],
   "source": [
    "def Marci_solution(list_of_numbers,number):\n",
    "    \n",
    "    for i in reversed(list_of_numbers):\n",
    "        if (i - number)% 3 == 0:\n",
    "            return i\n",
    "    else:\n",
    "        return 0\n",
    "    "
   ]
  },
  {
   "cell_type": "code",
   "execution_count": 48,
   "metadata": {},
   "outputs": [
    {
     "name": "stdout",
     "output_type": "stream",
     "text": [
      "- success rate: 497/497 (100.0%)\n",
      "- error count: 0\n",
      "- best performance: 1\n",
      "- worst performance: 1\n",
      "- mean performance: 1.0\n"
     ]
    }
   ],
   "source": [
    "Marci.evaluate(Marci_solution)"
   ]
  },
  {
   "cell_type": "markdown",
   "metadata": {},
   "source": [
    "## Leila"
   ]
  },
  {
   "cell_type": "code",
   "execution_count": 55,
   "metadata": {},
   "outputs": [],
   "source": [
    "def Leila_solution(list_of_numbers):\n",
    "    \n",
    "    a = []\n",
    "    for i in list_of_numbers:\n",
    "        for e in list_of_numbers:\n",
    "            if i == e/2:\n",
    "                a.append(i)     \n",
    "    \n",
    "    if len(a) != 0:\n",
    "        return min(a)\n",
    "    else:\n",
    "        return 0"
   ]
  },
  {
   "cell_type": "code",
   "execution_count": 56,
   "metadata": {},
   "outputs": [
    {
     "name": "stdout",
     "output_type": "stream",
     "text": [
      "- success rate: 497/497 (100.0%)\n",
      "- error count: 0\n",
      "- best performance: 1\n",
      "- worst performance: 1\n",
      "- mean performance: 1.0\n"
     ]
    }
   ],
   "source": [
    "Leila.evaluate(Leila_solution)"
   ]
  },
  {
   "cell_type": "markdown",
   "metadata": {},
   "source": [
    "## Sára"
   ]
  },
  {
   "cell_type": "code",
   "execution_count": 73,
   "metadata": {},
   "outputs": [],
   "source": [
    "def Sara_solution(list_of_numbers):\n",
    "\n",
    "    a = 0\n",
    "    mentes =[]\n",
    "    for i in list_of_numbers:\n",
    "        if i not in mentes:\n",
    "            mentes.append(i)\n",
    "            \n",
    "    for e in mentes:\n",
    "        if e > 0:\n",
    "            if e%2 == 1:\n",
    "                a=a+e\n",
    "           \n",
    "    return a"
   ]
  },
  {
   "cell_type": "code",
   "execution_count": 74,
   "metadata": {},
   "outputs": [
    {
     "name": "stdout",
     "output_type": "stream",
     "text": [
      "- success rate: 497/497 (100.0%)\n",
      "- error count: 0\n",
      "- best performance: 1\n",
      "- worst performance: 1\n",
      "- mean performance: 1.0\n"
     ]
    }
   ],
   "source": [
    "Sara.evaluate(Sara_solution)"
   ]
  },
  {
   "cell_type": "markdown",
   "metadata": {},
   "source": [
    "## Márk"
   ]
  },
  {
   "cell_type": "code",
   "execution_count": null,
   "metadata": {},
   "outputs": [],
   "source": [
    "def Mark_solution(list_of_numbers):\n",
    "    \n",
    "    pozitiv = []\n",
    "    negativ = []\n",
    "    for i in list_of_numbers:\n",
    "        if list_of_numbers > 0\n",
    "            pozitiv.append(i)\n",
    "        else:\n",
    "            negativ.append(abs(i))\n",
    "    c = []\n",
    "    for g in pozitiv:\n",
    "        d = str(pozitiv[i])\n",
    "        c = list(d)\n",
    "    d = []\n",
    "    for z in negativ:\n",
    "        b = str(negativ[z])\n",
    "        d = list(b)\n",
    "    e = []\n",
    "    for y in c:\n",
    "        \n",
    "        \n",
    "    return 0"
   ]
  },
  {
   "cell_type": "code",
   "execution_count": null,
   "metadata": {},
   "outputs": [],
   "source": [
    "Mark.evaluate(Mark_solution)"
   ]
  },
  {
   "cell_type": "markdown",
   "metadata": {},
   "source": [
    "## Lili"
   ]
  },
  {
   "cell_type": "code",
   "execution_count": 101,
   "metadata": {},
   "outputs": [],
   "source": [
    "def Lili_solution(list_of_strings, letter):\n",
    "    \n",
    "    a = list_of_strings.copy()\n",
    "    b = letter.lower()\n",
    "    for i in range(0,len(a)):\n",
    "        a[i]=a[i].lower()\n",
    "    c = 0\n",
    "    d = 0\n",
    "    for z in a:\n",
    "        e = 0\n",
    "        for y in z:\n",
    "            if y == b:\n",
    "                e = e+1\n",
    "        if c < e:\n",
    "            c = e\n",
    "            f = list_of_strings[d]\n",
    "        d = d+1\n",
    "    if c == 0:\n",
    "        f = ''         \n",
    "    \n",
    "    return f"
   ]
  },
  {
   "cell_type": "code",
   "execution_count": 102,
   "metadata": {},
   "outputs": [
    {
     "name": "stdout",
     "output_type": "stream",
     "text": [
      "- success rate: 495/495 (100.0%)\n",
      "- error count: 0\n",
      "- best performance: 1\n",
      "- worst performance: 1\n",
      "- mean performance: 1.0\n"
     ]
    }
   ],
   "source": [
    "Lili.evaluate(Lili_solution)"
   ]
  },
  {
   "cell_type": "code",
   "execution_count": null,
   "metadata": {},
   "outputs": [],
   "source": []
  }
 ],
 "metadata": {
  "kernelspec": {
   "display_name": "Python 3",
   "language": "python",
   "name": "python3"
  },
  "language_info": {
   "codemirror_mode": {
    "name": "ipython",
    "version": 3
   },
   "file_extension": ".py",
   "mimetype": "text/x-python",
   "name": "python",
   "nbconvert_exporter": "python",
   "pygments_lexer": "ipython3",
   "version": "3.7.5"
  }
 },
 "nbformat": 4,
 "nbformat_minor": 2
}
