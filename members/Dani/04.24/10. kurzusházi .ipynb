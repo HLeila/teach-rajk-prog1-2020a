{
 "cells": [
  {
   "cell_type": "markdown",
   "metadata": {},
   "source": [
    "### 1. Bálint feladata"
   ]
  },
  {
   "cell_type": "code",
   "execution_count": 7,
   "metadata": {
    "scrolled": false
   },
   "outputs": [
    {
     "name": "stdout",
     "output_type": "stream",
     "text": [
      "- success rate: 497/497 (100.0%)\n",
      "- error count: 0\n",
      "- best performance: 1\n",
      "- worst performance: 1\n",
      "- mean performance: 1.0\n"
     ]
    }
   ],
   "source": [
    "def f(n):\n",
    "    n.sort()\n",
    "    legkisebb_elem = n[0]\n",
    "    masodik_legkisebb_elem = n[1]\n",
    "    kis_elemek_szorzata = legkisebb_elem * masodik_legkisebb_elem\n",
    "    legnagyobb_elem = n[len(n)-1]\n",
    "    masodik_legnagyobb_elem = n[len(n)-2]\n",
    "    nagy_elemek_szorzata = legnagyobb_elem * masodik_legnagyobb_elem\n",
    "    if kis_elemek_szorzata > nagy_elemek_szorzata:\n",
    "        return kis_elemek_szorzata\n",
    "    else:\n",
    "        return nagy_elemek_szorzata\n",
    "    \n",
    "from jkg_evaluators import largest_multiple\n",
    "largest_multiple.evaluate(f)"
   ]
  },
  {
   "cell_type": "markdown",
   "metadata": {},
   "source": [
    "### 2. Bori feladata - hiányzik"
   ]
  },
  {
   "cell_type": "markdown",
   "metadata": {},
   "source": [
    "### 3. Én feladatom"
   ]
  },
  {
   "cell_type": "code",
   "execution_count": 1,
   "metadata": {},
   "outputs": [
    {
     "name": "stdout",
     "output_type": "stream",
     "text": [
      "- success rate: 495/495 (100.0%)\n",
      "- error count: 0\n",
      "- best performance: 1\n",
      "- worst performance: 1\n",
      "- mean performance: 1.0\n"
     ]
    }
   ],
   "source": [
    "from jkg_evaluators import string_with_most_a_letters\n",
    "def most_a_letters_solution(list_of_words):\n",
    "    count = 0\n",
    "    a = []\n",
    "    for word in list_of_words:\n",
    "        for letter in word:\n",
    "            if letter == \"a\" or letter == \"A\":\n",
    "                count += 1\n",
    "        a.append(count)\n",
    "        count=0\n",
    "    legnagyobb = max(a)\n",
    "    if legnagyobb == 0:\n",
    "        return -1\n",
    "    else:\n",
    "        return a.index(legnagyobb)\n",
    "\n",
    "string_with_most_a_letters.evaluate(most_a_letters_solution)"
   ]
  },
  {
   "cell_type": "markdown",
   "metadata": {},
   "source": [
    "### 4. Leila feladata"
   ]
  },
  {
   "cell_type": "code",
   "execution_count": 11,
   "metadata": {},
   "outputs": [
    {
     "name": "stdout",
     "output_type": "stream",
     "text": [
      "- success rate: 497/497 (100.0%)\n",
      "- error count: 0\n",
      "- best performance: 1\n",
      "- worst performance: 1\n",
      "- mean performance: 1.0\n"
     ]
    }
   ],
   "source": [
    "def Leila_fugv(lista):\n",
    "    ures_lista = []\n",
    "    for elem in lista:\n",
    "        for kovetkezo_elem in lista:\n",
    "            if elem == kovetkezo_elem/2:\n",
    "                ures_lista.append(elem)\n",
    "    if len(ures_lista) == 0:\n",
    "        return 0\n",
    "    else: \n",
    "        return min(ures_lista)\n",
    "\n",
    "from jkg_evaluators import smallest_where_double_also\n",
    "smallest_where_double_also.evaluate(Leila_fugv)"
   ]
  },
  {
   "cell_type": "markdown",
   "metadata": {},
   "source": [
    "### 5. Lili feladata"
   ]
  },
  {
   "cell_type": "code",
   "execution_count": 17,
   "metadata": {},
   "outputs": [
    {
     "name": "stdout",
     "output_type": "stream",
     "text": [
      "- success rate: 495/495 (100.0%)\n",
      "- error count: 0\n",
      "- best performance: 1\n",
      "- worst performance: 1\n",
      "- mean performance: 1.0\n"
     ]
    }
   ],
   "source": [
    "def csodás(lista,betu):\n",
    "    a =lista\n",
    "    b = betu.lower()\n",
    "    a = map(str.lower,lista)\n",
    "    c = 0\n",
    "    d = 0\n",
    "    for szavak in a:\n",
    "        e = 0\n",
    "        for betuk in szavak:\n",
    "            if betuk == b:\n",
    "                e += 1\n",
    "        if c < e:\n",
    "            c = e\n",
    "            f = lista[d]\n",
    "        d += 1\n",
    "    if c == 0:\n",
    "        f = \"\"\n",
    "    return f\n",
    "\n",
    "from jkg_evaluators import word_with_most_of_letters\n",
    "word_with_most_of_letters.evaluate(csodás)"
   ]
  },
  {
   "cell_type": "markdown",
   "metadata": {},
   "source": [
    "### 6. Marci feladata"
   ]
  },
  {
   "cell_type": "code",
   "execution_count": 53,
   "metadata": {},
   "outputs": [
    {
     "name": "stdout",
     "output_type": "stream",
     "text": [
      "- success rate: 497/497 (100.0%)\n",
      "- error count: 0\n",
      "- best performance: 1\n",
      "- worst performance: 1\n",
      "- mean performance: 1.0\n"
     ]
    }
   ],
   "source": [
    "def Marci_fugv(list_of_numbers,number):\n",
    "    lista = list_of_numbers\n",
    "    lista.reverse()\n",
    "    for elem in range(len(lista)):\n",
    "        if (lista[elem] - number)%3 == 0:\n",
    "            return lista[elem]\n",
    "    return 0\n",
    " \n",
    "from jkg_evaluators import last_with_three_multiple_difference\n",
    "last_with_three_multiple_difference.evaluate(Marci_fugv)"
   ]
  },
  {
   "cell_type": "markdown",
   "metadata": {},
   "source": [
    "### 7. Márk feladata"
   ]
  },
  {
   "cell_type": "code",
   "execution_count": 94,
   "metadata": {},
   "outputs": [
    {
     "name": "stdout",
     "output_type": "stream",
     "text": [
      "- success rate: 497/497 (100.0%)\n",
      "- error count: 0\n",
      "- best performance: 1\n",
      "- worst performance: 1\n",
      "- mean performance: 1.0\n"
     ]
    }
   ],
   "source": [
    "példa_lista = [-20, -40, 0, 1, 2, 3, 40]\n",
    "\n",
    "def Mark_fugv(lista):     #1. eddig jó\n",
    "    \n",
    "    ures_lista_1 = []\n",
    "    ures_lista_2 = []     #2. eddig jó\n",
    "    \n",
    "    for elem in lista:\n",
    "        if elem > 0:\n",
    "            ures_lista_1.append(elem)\n",
    "        else:\n",
    "            ures_lista_2.append(abs(elem))     #3. eddig jó\n",
    "            \n",
    "    ures_lista_3 = []\n",
    "    for elem in ures_lista_1:\n",
    "        uj_valtozo = str(elem)\n",
    "        uj_valtozo = list(uj_valtozo)\n",
    "        ures_lista_3.append(uj_valtozo)     #4. eddig jó     \n",
    "        \n",
    "    ures_lista_4 = []   \n",
    "    for elem in ures_lista_2:\n",
    "        uj_valtozo = str(elem)\n",
    "        uj_valtozo = list(uj_valtozo)\n",
    "        ures_lista_4.append(uj_valtozo)     #5. eddig jó  \n",
    "        \n",
    "    ures_lista_5 = []\n",
    "    for elem in ures_lista_3:\n",
    "        if len(elem) == 1:\n",
    "            ures_lista_5.append(elem)\n",
    "        elif len(elem) == 2:\n",
    "            if elem[0] <= elem [1]:\n",
    "                uj_elem = \"\".join(elem)\n",
    "                lokalis_lista=[]\n",
    "                lokalis_lista.append(uj_elem)\n",
    "                ures_lista_5.append(lokalis_lista)\n",
    "        elif len(elem) == 3:\n",
    "            if elem[0] > elem [1]:\n",
    "                None\n",
    "            elif elem[1] > elem [2]:\n",
    "                None\n",
    "            else:\n",
    "                uj_elem = \"\".join(elem)\n",
    "                lokalis_lista=[]\n",
    "                lokalis_lista.append(uj_elem)\n",
    "                ures_lista_5.append(lokalis_lista)     #6. eddig jó           \n",
    "    \n",
    "    ures_lista_6 = []\n",
    "    for elem in ures_lista_4:\n",
    "        if len(elem) == 1:\n",
    "            ures_lista_6.append(elem)\n",
    "        elif len(elem) == 2:\n",
    "            if elem[0] <= elem [1]:\n",
    "                uj_elem = \"\".join(elem)\n",
    "                lokalis_lista=[]\n",
    "                lokalis_lista.append(uj_elem)\n",
    "                ures_lista_6.append(lokalis_lista)\n",
    "        elif len(elem) == 3:\n",
    "            if elem[0] > elem [1]:\n",
    "                None\n",
    "            elif elem[1] > elem [2]:\n",
    "                None\n",
    "            else:\n",
    "                uj_elem = \"\".join(elem)\n",
    "                lokalis_lista=[]\n",
    "                lokalis_lista.append(uj_elem)\n",
    "                ures_lista_6.append(lokalis_lista)    #7. eddig jó           \n",
    " \n",
    "    ures_lista_7 = []\n",
    "    for elem in ures_lista_5:\n",
    "        uj_elem = elem[0]\n",
    "        uj_elem = int(uj_elem)\n",
    "        ures_lista_7.append(uj_elem)\n",
    "    ures_lista_7.sort()\n",
    "    ures_lista_7.reverse()     #8. eddig jó \n",
    "        \n",
    "    ures_lista_8 = []\n",
    "    for elem in ures_lista_6:\n",
    "        uj_elem = elem[0]\n",
    "        uj_elem = int(uj_elem)\n",
    "        ures_lista_8.append(uj_elem)\n",
    "    ures_lista_8.sort()\n",
    "    ures_lista_8.reverse()     \n",
    "    ures_lista_9 = []\n",
    "    for elem in ures_lista_8:\n",
    "        uj_elem = (-1) * elem\n",
    "        ures_lista_9.append(uj_elem)    #9. eddig jó\n",
    "\n",
    "    ures_lista_10 = []\n",
    "    ures_lista_10 = ures_lista_7 + ures_lista_9\n",
    "    ures_lista_10.sort()\n",
    "    ures_lista_10.reverse()        #10. eddig jó\n",
    "    \n",
    "    if ures_lista_10 == []:\n",
    "        ures_lista_10.append(0)     #11. eddig jó\n",
    "        \n",
    "    return ures_lista_10[0]\n",
    "\n",
    "from jkg_evaluators import largest_ascending_num\n",
    "largest_ascending_num.evaluate(Mark_fugv)"
   ]
  },
  {
   "cell_type": "markdown",
   "metadata": {},
   "source": [
    "### 8. Mészi feladata"
   ]
  },
  {
   "cell_type": "code",
   "execution_count": 106,
   "metadata": {
    "scrolled": true
   },
   "outputs": [
    {
     "name": "stdout",
     "output_type": "stream",
     "text": [
      "- success rate: 497/497 (100.0%)\n",
      "- error count: 0\n",
      "- best performance: 1\n",
      "- worst performance: 1\n",
      "- mean performance: 1.0\n"
     ]
    }
   ],
   "source": [
    "def Meszi_fugv(lista,szam):\n",
    "    minusz_vegtelen = float(\"-inf\")\n",
    "    uj_lista = []\n",
    "    for elem in lista:\n",
    "        if (elem/szam)%2 == 0:\n",
    "            uj_lista.append(elem)\n",
    "    for elem in uj_lista:\n",
    "        if elem > minusz_vegtelen:\n",
    "            minusz_vegtelen = elem\n",
    "    if minusz_vegtelen == float(\"-inf\"):\n",
    "        return 0\n",
    "    else:\n",
    "        return minusz_vegtelen\n",
    "\n",
    "from jkg_evaluators import largest_even_divided\n",
    "largest_even_divided.evaluate(Meszi_fugv)"
   ]
  },
  {
   "cell_type": "markdown",
   "metadata": {},
   "source": [
    "### 9. Roli feladata"
   ]
  },
  {
   "cell_type": "code",
   "execution_count": 8,
   "metadata": {},
   "outputs": [
    {
     "name": "stdout",
     "output_type": "stream",
     "text": [
      "- success rate: 495/495 (100.0%)\n",
      "- error count: 0\n",
      "- best performance: 1\n",
      "- worst performance: 1\n",
      "- mean performance: 1.0\n"
     ]
    }
   ],
   "source": [
    "def Roli_fugv(lista,string):\n",
    "    nulla = 0\n",
    "    for szo in lista:\n",
    "        for betu in szo:\n",
    "            if betu == string.lower() or betu == string.upper():\n",
    "                nulla += 1\n",
    "                break\n",
    "    return nulla\n",
    "\n",
    "from jkg_evaluators import letter_occurrences\n",
    "letter_occurrences.evaluate(Roli_fugv)"
   ]
  },
  {
   "cell_type": "markdown",
   "metadata": {},
   "source": [
    "### 10. Sára feladata"
   ]
  },
  {
   "cell_type": "code",
   "execution_count": 11,
   "metadata": {},
   "outputs": [
    {
     "name": "stdout",
     "output_type": "stream",
     "text": [
      "- success rate: 497/497 (100.0%)\n",
      "- error count: 0\n",
      "- best performance: 1\n",
      "- worst performance: 1\n",
      "- mean performance: 1.0\n"
     ]
    }
   ],
   "source": [
    "def Sara_fugv(lista):\n",
    "    nulla = 0\n",
    "    lista = list(dict.fromkeys(lista))\n",
    "    for elem in lista:\n",
    "        if elem > 0:\n",
    "            if elem%2 == 1:\n",
    "                nulla += elem\n",
    "    return nulla\n",
    "\n",
    "from jkg_evaluators import sum_odd_positives\n",
    "sum_odd_positives.evaluate(Sara_fugv)"
   ]
  }
 ],
 "metadata": {
  "kernelspec": {
   "display_name": "Python 3",
   "language": "python",
   "name": "python3"
  },
  "language_info": {
   "codemirror_mode": {
    "name": "ipython",
    "version": 3
   },
   "file_extension": ".py",
   "mimetype": "text/x-python",
   "name": "python",
   "nbconvert_exporter": "python",
   "pygments_lexer": "ipython3",
   "version": "3.7.5"
  }
 },
 "nbformat": 4,
 "nbformat_minor": 4
}
