{
 "cells": [
  {
   "cell_type": "code",
   "execution_count": 1,
   "metadata": {},
   "outputs": [
    {
     "name": "stdout",
     "output_type": "stream",
     "text": [
      "- success rate: 495/495 (100.0%)\n",
      "- error count: 0\n",
      "- best performance: 1\n",
      "- worst performance: 1\n",
      "- mean performance: 1.0\n"
     ]
    }
   ],
   "source": [
    "from jkg_evaluators import string_with_most_a_letters\n",
    "def most_a_letters_solution(list_of_words):\n",
    "    count = 0\n",
    "    a = []\n",
    "    for word in list_of_words:\n",
    "        for letter in word:\n",
    "            if letter == \"a\" or letter == \"A\":\n",
    "                count += 1\n",
    "        a.append(count)\n",
    "        count=0\n",
    "    legnagyobb = max(a)\n",
    "    if legnagyobb == 0:\n",
    "        return -1\n",
    "    else:\n",
    "        return a.index(legnagyobb)\n",
    "\n",
    "string_with_most_a_letters.evaluate(most_a_letters_solution)"
   ]
  }
 ],
 "metadata": {
  "kernelspec": {
   "display_name": "Python 3",
   "language": "python",
   "name": "python3"
  },
  "language_info": {
   "codemirror_mode": {
    "name": "ipython",
    "version": 3
   },
   "file_extension": ".py",
   "mimetype": "text/x-python",
   "name": "python",
   "nbconvert_exporter": "python",
   "pygments_lexer": "ipython3",
   "version": "3.7.5"
  }
 },
 "nbformat": 4,
 "nbformat_minor": 4
}
