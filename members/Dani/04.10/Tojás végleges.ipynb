{
 "cells": [
  {
   "cell_type": "code",
   "execution_count": 7,
   "metadata": {},
   "outputs": [
    {
     "name": "stdout",
     "output_type": "stream",
     "text": [
      "- success rate: 101/101 (100.0%)\n",
      "- error count: 0\n",
      "- best performance: 2\n",
      "- worst performance: 14\n",
      "- mean performance: 10.396039603960396\n"
     ]
    }
   ],
   "source": [
    "from jkg_evaluators import eggdrop_100floor_2egg\n",
    "def Dani_tokeletes_megoldas(breaks):\n",
    "    elso_dobas_az_elso_tojassal=14\n",
    "    dobas_az_elso_tojassal=elso_dobas_az_elso_tojassal\n",
    "    also_szint = 1\n",
    "    felso_szint=100\n",
    "    while dobas_az_elso_tojassal< felso_szint+3:\n",
    "        if breaks(dobas_az_elso_tojassal):\n",
    "            for i in range(also_szint,dobas_az_elso_tojassal):\n",
    "                if breaks(i):\n",
    "                    return i - 1\n",
    "                elif i==dobas_az_elso_tojassal-1:\n",
    "                    return dobas_az_elso_tojassal-1\n",
    "        else:\n",
    "            also_szint +=  elso_dobas_az_elso_tojassal\n",
    "            elso_dobas_az_elso_tojassal -=1\n",
    "            dobas_az_elso_tojassal += elso_dobas_az_elso_tojassal\n",
    "\n",
    "eggdrop_100floor_2egg.evaluate(Dani_tokeletes_megoldas)"
   ]
  },
  {
   "cell_type": "markdown",
   "metadata": {},
   "source": [
    "Tökéletes megoldás! :)\n",
    "Jó, hogy olyan változónevekkel dolgozol amik leírják, hogy mi a változó. Mondjuk azért az az-okat nyugodtan elhagyhatok."
   ]
  }
 ],
 "metadata": {
  "kernelspec": {
   "display_name": "Python 3",
   "language": "python",
   "name": "python3"
  },
  "language_info": {
   "codemirror_mode": {
    "name": "ipython",
    "version": 3
   },
   "file_extension": ".py",
   "mimetype": "text/x-python",
   "name": "python",
   "nbconvert_exporter": "python",
   "pygments_lexer": "ipython3",
   "version": "3.8.2"
  }
 },
 "nbformat": 4,
 "nbformat_minor": 4
}
