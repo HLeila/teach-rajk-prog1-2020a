{
 "cells": [
  {
   "cell_type": "markdown",
   "metadata": {},
   "source": [
    "### sima"
   ]
  },
  {
   "cell_type": "code",
   "execution_count": 5,
   "metadata": {},
   "outputs": [],
   "source": [
    "cow_alive_list_test_1 = [False, False, True, True, True]"
   ]
  },
  {
   "cell_type": "code",
   "execution_count": 6,
   "metadata": {},
   "outputs": [],
   "source": [
    "def my_solution1(cow_alive_list):\n",
    "    place = 0\n",
    "    last_cow = len(cow_alive_list) - 1\n",
    "    if cow_alive_list[last_cow] == False:\n",
    "        return place + len(cow_alive_list) - 1\n",
    "    else:\n",
    "        for cow_is_alive in cow_alive_list:\n",
    "            place = place + 1\n",
    "            if cow_is_alive:\n",
    "                return place - 1\n",
    "    return place"
   ]
  },
  {
   "cell_type": "code",
   "execution_count": 7,
   "metadata": {},
   "outputs": [
    {
     "data": {
      "text/plain": [
       "2"
      ]
     },
     "execution_count": 7,
     "metadata": {},
     "output_type": "execute_result"
    }
   ],
   "source": [
    "my_solution1(cow_alive_list_test_1)"
   ]
  },
  {
   "cell_type": "markdown",
   "metadata": {},
   "source": [
    "Alapvetően helyes megoldást ad, kis szépséghibái vannak.\n",
    "- 5. sor: a `len(cow_alive_list) - 1` értéket már eltároltad a `last_cow` változóban, szóval ezt nem érdemes mégegyszer kiszámolni, ráadásul, mivel a `place` értéke itt még biztosan 0, azt szintén nincs értelme hozzáadni\n",
    "- 8. sortól kezdődő ciklusmag: ha a `place`-hez nem az if elágazás előtt adsz hozzá egyet, akkor utána nem kell belőle kivonni egyet (ezek tényleg nagyon apró és jelentéktelen, de mégis fölösleges számolások)\n",
    "- az utolsó `return`felesleges, mert ide sosem jut el a függvény, hiszen ha az utolsó tehén is halott, az már az 5. sorban kiderül, különben pedig a 10. sor kiadja a megoldást valamelyik iterációban"
   ]
  },
  {
   "cell_type": "markdown",
   "metadata": {},
   "source": [
    "-----------------------"
   ]
  },
  {
   "cell_type": "code",
   "execution_count": 8,
   "metadata": {},
   "outputs": [],
   "source": [
    "def my_solution2(cow_alive_list):\n",
    "    fat_alive_cow_index = 0\n",
    "    thin_alive_cow_index = len(cow_alive_list) - 1\n",
    "    if cow_alive_list[fat_alive_cow_index] == True:\n",
    "        return fat_alive_cow_index\n",
    "    else:\n",
    "        while (fat_alive_cow_index + 1) < thin_alive_cow_index:\n",
    "            middle_cow = int((fat_alive_cow_index + thin_alive_cow_index) / 2)\n",
    "            if (\n",
    "                cow_alive_list_test_1[middle_cow]\n",
    "                != cow_alive_list_test_1[middle_cow + 1]\n",
    "            ):\n",
    "                return middle_cow + 1\n",
    "            elif cow_alive_list[thin_alive_cow_index] == False:\n",
    "                return thin_alive_cow_index + 1\n",
    "            elif cow_alive_list[middle_cow]:\n",
    "                thin_alive_cow_index = middle_cow\n",
    "            else:\n",
    "                fat_alive_cow_index = middle_cow\n",
    "\n",
    "        return middle_cow"
   ]
  },
  {
   "cell_type": "code",
   "execution_count": 9,
   "metadata": {},
   "outputs": [
    {
     "data": {
      "text/plain": [
       "2"
      ]
     },
     "execution_count": 9,
     "metadata": {},
     "output_type": "execute_result"
    }
   ],
   "source": [
    "my_solution2(cow_alive_list_test_1)"
   ]
  },
  {
   "cell_type": "markdown",
   "metadata": {},
   "source": [
    "Egy picit talán túlkomplikált, de jó megoldás."
   ]
  },
  {
   "cell_type": "markdown",
   "metadata": {},
   "source": [
    "-----------------------"
   ]
  },
  {
   "cell_type": "markdown",
   "metadata": {},
   "source": [
    "### jkg"
   ]
  },
  {
   "cell_type": "code",
   "execution_count": 1,
   "metadata": {},
   "outputs": [],
   "source": [
    "from jkg_evaluators import dragonfind_10_to_500"
   ]
  },
  {
   "cell_type": "code",
   "execution_count": 2,
   "metadata": {},
   "outputs": [],
   "source": [
    "def my_solution_Dani(is_dead, number_of_cows):\n",
    "    fat_alive_cow_index = 0\n",
    "    thin_alive_cow_index = number_of_cows - 1\n",
    "    while (fat_alive_cow_index) < thin_alive_cow_index:\n",
    "        middle_cow = int((fat_alive_cow_index + thin_alive_cow_index) / 2)\n",
    "        if is_dead(middle_cow) != is_dead(middle_cow + 1):\n",
    "            return middle_cow + 1\n",
    "        elif is_dead(middle_cow) == True:\n",
    "            fat_alive_cow_index = middle_cow\n",
    "        elif is_dead(middle_cow) == False:\n",
    "            thin_alive_cow_index = middle_cow"
   ]
  },
  {
   "cell_type": "code",
   "execution_count": 3,
   "metadata": {
    "scrolled": true
   },
   "outputs": [
    {
     "name": "stdout",
     "output_type": "stream",
     "text": [
      "- success rate: 124714/124714 (100.0%)\n",
      "- error count: 0\n",
      "- best performance: 2\n",
      "- worst performance: 34\n",
      "- mean performance: 24.023189056561414\n"
     ]
    }
   ],
   "source": [
    "dragonfind_10_to_500.evaluate(my_solution_Dani)"
   ]
  },
  {
   "cell_type": "markdown",
   "metadata": {},
   "source": [
    "Ez is jó, és király, hogy helyesen használod a `my_solution` függvény paramétereit!"
   ]
  }
 ],
 "metadata": {
  "kernelspec": {
   "display_name": "Python 3",
   "language": "python",
   "name": "python3"
  },
  "language_info": {
   "codemirror_mode": {
    "name": "ipython",
    "version": 3
   },
   "file_extension": ".py",
   "mimetype": "text/x-python",
   "name": "python",
   "nbconvert_exporter": "python",
   "pygments_lexer": "ipython3",
   "version": "3.7.3"
  }
 },
 "nbformat": 4,
 "nbformat_minor": 2
}
