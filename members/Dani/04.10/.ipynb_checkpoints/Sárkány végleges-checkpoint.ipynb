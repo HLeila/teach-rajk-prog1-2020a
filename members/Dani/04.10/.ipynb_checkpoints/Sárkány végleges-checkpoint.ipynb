{
 "cells": [
  {
   "cell_type": "code",
   "execution_count": 1,
   "metadata": {},
   "outputs": [
    {
     "name": "stdout",
     "output_type": "stream",
     "text": [
      "- success rate: 124714/124714 (100.0%)\n",
      "- error count: 0\n",
      "- best performance: 2\n",
      "- worst performance: 34\n",
      "- mean performance: 24.023189056561414\n"
     ]
    }
   ],
   "source": [
    "from jkg_evaluators import dragonfind_10_to_500\n",
    "def my_solution_Dani(is_dead,\n",
    "                 number_of_cows):\n",
    "    fat_alive_cow_index = 0\n",
    "    thin_alive_cow_index = (number_of_cows - 1)\n",
    "    while (fat_alive_cow_index) < thin_alive_cow_index:\n",
    "        middle_cow = int((fat_alive_cow_index + thin_alive_cow_index) / 2)\n",
    "        if is_dead(middle_cow) != is_dead(middle_cow+1):\n",
    "            return middle_cow+1\n",
    "        elif is_dead(middle_cow)==True:\n",
    "            fat_alive_cow_index=middle_cow\n",
    "        elif is_dead(middle_cow)==False:\n",
    "            thin_alive_cow_index=middle_cow\n",
    "\n",
    "dragonfind_10_to_500.evaluate(my_solution_Dani)"
   ]
  }
 ],
 "metadata": {
  "kernelspec": {
   "display_name": "Python 3",
   "language": "python",
   "name": "python3"
  },
  "language_info": {
   "codemirror_mode": {
    "name": "ipython",
    "version": 3
   },
   "file_extension": ".py",
   "mimetype": "text/x-python",
   "name": "python",
   "nbconvert_exporter": "python",
   "pygments_lexer": "ipython3",
   "version": "3.7.3"
  }
 },
 "nbformat": 4,
 "nbformat_minor": 4
}
