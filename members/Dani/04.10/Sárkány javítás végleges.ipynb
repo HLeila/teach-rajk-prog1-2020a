{
 "cells": [
  {
   "cell_type": "code",
   "execution_count": 2,
   "metadata": {},
   "outputs": [
    {
     "data": {
      "text/plain": [
       "2"
      ]
     },
     "execution_count": 2,
     "metadata": {},
     "output_type": "execute_result"
    }
   ],
   "source": [
    "#javított my_solution2\n",
    "\n",
    "cow_alive_list_test_1 = [False, False, True, True, True]\n",
    "def my_solution2(cow_alive_list):\n",
    "    fat_alive_cow_index = 0\n",
    "    thin_alive_cow_index = len(cow_alive_list) - 1\n",
    "    if cow_alive_list[fat_alive_cow_index] == True:\n",
    "        return fat_alive_cow_index\n",
    "    else:\n",
    "        while (fat_alive_cow_index+1) < thin_alive_cow_index:\n",
    "            middle_cow = int((fat_alive_cow_index + \n",
    "                              thin_alive_cow_index) / 2)\n",
    "            if cow_alive_list_test_1[middle_cow] != cow_alive_list_test_1[middle_cow+1]:\n",
    "                return middle_cow +1\n",
    "            elif cow_alive_list[thin_alive_cow_index] == False:\n",
    "                return thin_alive_cow_index+1\n",
    "            elif cow_alive_list[middle_cow]:\n",
    "                thin_alive_cow_index = middle_cow\n",
    "            else:\n",
    "                fat_alive_cow_index = middle_cow\n",
    "    \n",
    "        return middle_cow\n",
    "my_solution2(cow_alive_list_test_1)\n",
    "\n",
    "#javított my_solution1\n",
    "\n",
    "def my_solution1(cow_alive_list):\n",
    "    place = 0\n",
    "    last_cow = len(cow_alive_list)-1\n",
    "    if cow_alive_list[last_cow]==False:\n",
    "        return place+len(cow_alive_list)-1\n",
    "    else:\n",
    "        for cow_is_alive in cow_alive_list:\n",
    "            place = place + 1\n",
    "            if cow_is_alive:\n",
    "                return place - 1\n",
    "    return place\n",
    "my_solution1(cow_alive_list_test_1)"
   ]
  }
 ],
 "metadata": {
  "kernelspec": {
   "display_name": "Python 3",
   "language": "python",
   "name": "python3"
  },
  "language_info": {
   "codemirror_mode": {
    "name": "ipython",
    "version": 3
   },
   "file_extension": ".py",
   "mimetype": "text/x-python",
   "name": "python",
   "nbconvert_exporter": "python",
   "pygments_lexer": "ipython3",
   "version": "3.7.3"
  }
 },
 "nbformat": 4,
 "nbformat_minor": 4
}
