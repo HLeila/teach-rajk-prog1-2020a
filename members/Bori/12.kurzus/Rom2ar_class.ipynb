{
 "cells": [
  {
   "cell_type": "code",
   "execution_count": 14,
   "metadata": {},
   "outputs": [],
   "source": [
    "class Roman:\n",
    "\n",
    "    def rom2ar(self,rom_string):\n",
    "        \n",
    "        format = 0\n",
    "        list1 = list()\n",
    "        for i in range(0, len(rom_string)):\n",
    "            if rom_string[i] == 'I':\n",
    "                list1.append(int(1))\n",
    "            elif rom_string[i] == 'V':\n",
    "                list1.append(int(5))\n",
    "            elif rom_string[i] == 'X':\n",
    "                list1.append(int(10))\n",
    "            elif rom_string[i] == 'L':\n",
    "                list1.append(int(50))\n",
    "            elif rom_string[i] == 'C':\n",
    "                list1.append(int(100))\n",
    "            elif rom_string[i] == 'D':\n",
    "                list1.append(int(500))\n",
    "            elif rom_string[i] == 'M':\n",
    "                list1.append(int(1000))\n",
    "\n",
    "        i = 0\n",
    "        while i < len(list1) - 1:\n",
    "            if list1[i] < list1[i+1]:\n",
    "                format = format + list1[i+1] - list1[i];\n",
    "                i = i + 2\n",
    "            else:\n",
    "                format = format + list1[i]\n",
    "                i = i + 1\n",
    "        if i == len(list1):\n",
    "            if list1[i-2] == list1[i-1]:\n",
    "                format = format + list1[i-1]\n",
    "        else:\n",
    "            format = format + list1[i]\n",
    "        return format"
   ]
  },
  {
   "cell_type": "code",
   "execution_count": 15,
   "metadata": {},
   "outputs": [
    {
     "data": {
      "text/plain": [
       "20"
      ]
     },
     "execution_count": 15,
     "metadata": {},
     "output_type": "execute_result"
    }
   ],
   "source": [
    "Roman().rom2ar('XX')"
   ]
  }
 ],
 "metadata": {
  "kernelspec": {
   "display_name": "Python 3",
   "language": "python",
   "name": "python3"
  },
  "language_info": {
   "codemirror_mode": {
    "name": "ipython",
    "version": 3
   },
   "file_extension": ".py",
   "mimetype": "text/x-python",
   "name": "python",
   "nbconvert_exporter": "python",
   "pygments_lexer": "ipython3",
   "version": "3.7.6"
  }
 },
 "nbformat": 4,
 "nbformat_minor": 4
}
