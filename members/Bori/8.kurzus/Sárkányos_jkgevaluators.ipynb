{
 "cells": [
  {
   "cell_type": "code",
   "execution_count": 1,
   "metadata": {},
   "outputs": [],
   "source": [
    "from jkg_evaluators import dragonfind_10_to_500"
   ]
  },
  {
   "cell_type": "code",
   "execution_count": 3,
   "metadata": {},
   "outputs": [],
   "source": [
    "cow_alive_list_test_1 = [False, False, True, True, True]"
   ]
  },
  {
   "cell_type": "code",
   "execution_count": 4,
   "metadata": {},
   "outputs": [],
   "source": [
    "def my_solution2(cow_alive_list):\n",
    "    fat_alive_cow_index = 0\n",
    "    thin_alive_cow_index = len(cow_alive_list) - 1\n",
    "    \n",
    "    while (fat_alive_cow_index + 1) < thin_alive_cow_index:\n",
    "        middle_cow = int((fat_alive_cow_index + \n",
    "                          thin_alive_cow_index) / 2)\n",
    "        if cow_alive_list[middle_cow]:\n",
    "            thin_alive_cow_index = middle_cow\n",
    "        else:\n",
    "            fat_alive_cow_index = middle_cow\n",
    "    \n",
    "    return middle_cow + 1"
   ]
  },
  {
   "cell_type": "code",
   "execution_count": 5,
   "metadata": {},
   "outputs": [
    {
     "name": "stdout",
     "output_type": "stream",
     "text": [
      "- success rate: 0/124714 (0.0%)\n",
      "- error count: 124714\n",
      "\n",
      "\n",
      " ERROR at: \n",
      " {'number_of_cows': 10, 'dragon_coming_to': 1} \n",
      " - TypeError (my_solution2() takes 1 positional argument but 2 were given)\n",
      "\n",
      "\n",
      " ERROR at: \n",
      " {'number_of_cows': 10, 'dragon_coming_to': 2} \n",
      " - TypeError (my_solution2() takes 1 positional argument but 2 were given)\n",
      "\n",
      "\n",
      " ERROR at: \n",
      " {'number_of_cows': 10, 'dragon_coming_to': 3} \n",
      " - TypeError (my_solution2() takes 1 positional argument but 2 were given)\n",
      "\n",
      "\n",
      " ERROR at: \n",
      " {'number_of_cows': 10, 'dragon_coming_to': 4} \n",
      " - TypeError (my_solution2() takes 1 positional argument but 2 were given)\n",
      "\n",
      "\n",
      " ERROR at: \n",
      " {'number_of_cows': 10, 'dragon_coming_to': 5} \n",
      " - TypeError (my_solution2() takes 1 positional argument but 2 were given)\n",
      "\n",
      "\n",
      " ERROR at: \n",
      " {'number_of_cows': 10, 'dragon_coming_to': 6} \n",
      " - TypeError (my_solution2() takes 1 positional argument but 2 were given)\n",
      "\n",
      "\n",
      " ERROR at: \n",
      " {'number_of_cows': 10, 'dragon_coming_to': 7} \n",
      " - TypeError (my_solution2() takes 1 positional argument but 2 were given)\n",
      "\n",
      "\n",
      " ERROR at: \n",
      " {'number_of_cows': 10, 'dragon_coming_to': 8} \n",
      " - TypeError (my_solution2() takes 1 positional argument but 2 were given)\n",
      "\n",
      "\n",
      " ERROR at: \n",
      " {'number_of_cows': 10, 'dragon_coming_to': 9} \n",
      " - TypeError (my_solution2() takes 1 positional argument but 2 were given)\n",
      "\n",
      "\n",
      " ERROR at: \n",
      " {'number_of_cows': 11, 'dragon_coming_to': 1} \n",
      " - TypeError (my_solution2() takes 1 positional argument but 2 were given)\n"
     ]
    }
   ],
   "source": [
    "dragonfind_10_to_500.evaluate(my_solution2)"
   ]
  },
  {
   "cell_type": "code",
   "execution_count": 28,
   "metadata": {},
   "outputs": [
    {
     "data": {
      "text/plain": [
       "2"
      ]
     },
     "execution_count": 28,
     "metadata": {},
     "output_type": "execute_result"
    }
   ],
   "source": [
    "my_solution2(cow_alive_list_test_1)"
   ]
  }
 ],
 "metadata": {
  "kernelspec": {
   "display_name": "Python 3",
   "language": "python",
   "name": "python3"
  },
  "language_info": {
   "codemirror_mode": {
    "name": "ipython",
    "version": 3
   },
   "file_extension": ".py",
   "mimetype": "text/x-python",
   "name": "python",
   "nbconvert_exporter": "python",
   "pygments_lexer": "ipython3",
   "version": "3.7.3"
  }
 },
 "nbformat": 4,
 "nbformat_minor": 2
}
