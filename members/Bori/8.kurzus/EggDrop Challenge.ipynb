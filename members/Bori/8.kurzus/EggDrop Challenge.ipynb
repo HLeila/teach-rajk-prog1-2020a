{
 "cells": [
  {
   "cell_type": "code",
   "execution_count": 4,
   "metadata": {},
   "outputs": [],
   "source": [
    "from jkg_evaluators import eggdrop_100floor_2egg"
   ]
  },
  {
   "cell_type": "code",
   "execution_count": 5,
   "metadata": {},
   "outputs": [
    {
     "name": "stdout",
     "output_type": "stream",
     "text": [
      "- success rate: 101/101 (100.0%)\n",
      "- error count: 0\n",
      "- best performance: 2\n",
      "- worst performance: 51\n",
      "- mean performance: 26.73267326732673\n"
     ]
    }
   ],
   "source": [
    "def my_solution1(breaks):\n",
    "    if breaks(50):\n",
    "        for i in range(1,50):\n",
    "            if breaks(i):\n",
    "                return i-1\n",
    "        return 49\n",
    "    else:\n",
    "        for i in range(51,101):\n",
    "            if breaks(i):\n",
    "                return i-1\n",
    "        return 100\n",
    "eggdrop_100floor_2egg.evaluate(my_solution1)"
   ]
  },
  {
   "cell_type": "code",
   "execution_count": 6,
   "metadata": {},
   "outputs": [
    {
     "name": "stdout",
     "output_type": "stream",
     "text": [
      "- success rate: 101/101 (100.0%)\n",
      "- error count: 0\n",
      "- best performance: 2\n",
      "- worst performance: 36\n",
      "- mean performance: 18.99009900990099\n"
     ]
    }
   ],
   "source": [
    "def my_solution1(breaks):\n",
    "    if breaks(33):\n",
    "        for i in range(1,33):\n",
    "            if breaks(i):\n",
    "                return i-1\n",
    "        return 32\n",
    "    if breaks(66):\n",
    "        for i in range(34,66):\n",
    "            if breaks(i):\n",
    "                return i-1\n",
    "        return 65\n",
    "    else:\n",
    "        for i in range(67,101):\n",
    "            if breaks(i):\n",
    "                return i-1\n",
    "        return 100\n",
    "eggdrop_100floor_2egg.evaluate(my_solution1)"
   ]
  },
  {
   "cell_type": "markdown",
   "metadata": {},
   "source": [
    "Jó megoldások, szépen struktúráltad a kódod! :) "
   ]
  }
 ],
 "metadata": {
  "kernelspec": {
   "display_name": "Python 3",
   "language": "python",
   "name": "python3"
  },
  "language_info": {
   "codemirror_mode": {
    "name": "ipython",
    "version": 3
   },
   "file_extension": ".py",
   "mimetype": "text/x-python",
   "name": "python",
   "nbconvert_exporter": "python",
   "pygments_lexer": "ipython3",
   "version": "3.8.2"
  }
 },
 "nbformat": 4,
 "nbformat_minor": 4
}
