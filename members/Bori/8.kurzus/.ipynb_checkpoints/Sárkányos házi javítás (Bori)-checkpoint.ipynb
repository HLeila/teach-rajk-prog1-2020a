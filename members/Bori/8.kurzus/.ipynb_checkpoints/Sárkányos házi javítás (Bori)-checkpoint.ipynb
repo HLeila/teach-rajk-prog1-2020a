{
 "cells": [
  {
   "cell_type": "markdown",
   "metadata": {},
   "source": [
    "### sima"
   ]
  },
  {
   "cell_type": "code",
   "execution_count": 6,
   "metadata": {},
   "outputs": [],
   "source": [
    "cow_alive_list_test_1 = [False, False, True, True, True]"
   ]
  },
  {
   "cell_type": "code",
   "execution_count": 9,
   "metadata": {},
   "outputs": [],
   "source": [
    "def my_solution1(cow_alive_list):\n",
    "    place = 0\n",
    "    for cow_is_alive in cow_alive_list:\n",
    "        if cow_is_alive:\n",
    "            return place\n",
    "        elif cow_is_alive == False:\n",
    "                place = place + 1\n",
    "    \n",
    "    return place"
   ]
  },
  {
   "cell_type": "code",
   "execution_count": 10,
   "metadata": {},
   "outputs": [
    {
     "data": {
      "text/plain": [
       "2"
      ]
     },
     "execution_count": 10,
     "metadata": {},
     "output_type": "execute_result"
    }
   ],
   "source": [
    "my_solution1(cow_alive_list_test_1)"
   ]
  },
  {
   "cell_type": "markdown",
   "metadata": {},
   "source": [
    "Ez alapvetően jó, egy apróság: az `elif` feltétel itt szükségtelen, elég egy `else`, mert logikai változó csak két értéket vehet fel (a `cow_is_alive` vagy `True` vagy `False`)."
   ]
  },
  {
   "cell_type": "markdown",
   "metadata": {},
   "source": [
    "-----------------"
   ]
  },
  {
   "cell_type": "markdown",
   "metadata": {},
   "source": [
    "### jkg"
   ]
  },
  {
   "cell_type": "code",
   "execution_count": 1,
   "metadata": {},
   "outputs": [],
   "source": [
    "from jkg_evaluators import dragonfind_10_to_500"
   ]
  },
  {
   "cell_type": "code",
   "execution_count": 3,
   "metadata": {},
   "outputs": [],
   "source": [
    "def my_solution2(cow_alive_list):\n",
    "    fat_alive_cow_index = 0\n",
    "    thin_alive_cow_index = len(cow_alive_list) - 1\n",
    "\n",
    "    while (fat_alive_cow_index + 1) < thin_alive_cow_index:\n",
    "        middle_cow = int((fat_alive_cow_index + thin_alive_cow_index) / 2)\n",
    "        if cow_alive_list[middle_cow]:\n",
    "            thin_alive_cow_index = middle_cow\n",
    "        else:\n",
    "            fat_alive_cow_index = middle_cow\n",
    "\n",
    "    return middle_cow + 1"
   ]
  },
  {
   "cell_type": "code",
   "execution_count": 5,
   "metadata": {},
   "outputs": [
    {
     "data": {
      "text/plain": [
       "2"
      ]
     },
     "execution_count": 5,
     "metadata": {},
     "output_type": "execute_result"
    }
   ],
   "source": [
    "my_solution2(cow_alive_list_test_1)"
   ]
  },
  {
   "cell_type": "code",
   "execution_count": 4,
   "metadata": {
    "scrolled": true
   },
   "outputs": [
    {
     "name": "stdout",
     "output_type": "stream",
     "text": [
      "- success rate: 0/124714 (0.0%)\n",
      "- error count: 124714\n",
      "\n",
      "\n",
      " ERROR at: \n",
      " {'number_of_cows': 10, 'dragon_coming_to': 1} \n",
      " - TypeError (my_solution2() takes 1 positional argument but 2 were given)\n",
      "\n",
      "\n",
      " ERROR at: \n",
      " {'number_of_cows': 10, 'dragon_coming_to': 2} \n",
      " - TypeError (my_solution2() takes 1 positional argument but 2 were given)\n",
      "\n",
      "\n",
      " ERROR at: \n",
      " {'number_of_cows': 10, 'dragon_coming_to': 3} \n",
      " - TypeError (my_solution2() takes 1 positional argument but 2 were given)\n",
      "\n",
      "\n",
      " ERROR at: \n",
      " {'number_of_cows': 10, 'dragon_coming_to': 4} \n",
      " - TypeError (my_solution2() takes 1 positional argument but 2 were given)\n",
      "\n",
      "\n",
      " ERROR at: \n",
      " {'number_of_cows': 10, 'dragon_coming_to': 5} \n",
      " - TypeError (my_solution2() takes 1 positional argument but 2 were given)\n",
      "\n",
      "\n",
      " ERROR at: \n",
      " {'number_of_cows': 10, 'dragon_coming_to': 6} \n",
      " - TypeError (my_solution2() takes 1 positional argument but 2 were given)\n",
      "\n",
      "\n",
      " ERROR at: \n",
      " {'number_of_cows': 10, 'dragon_coming_to': 7} \n",
      " - TypeError (my_solution2() takes 1 positional argument but 2 were given)\n",
      "\n",
      "\n",
      " ERROR at: \n",
      " {'number_of_cows': 10, 'dragon_coming_to': 8} \n",
      " - TypeError (my_solution2() takes 1 positional argument but 2 were given)\n",
      "\n",
      "\n",
      " ERROR at: \n",
      " {'number_of_cows': 10, 'dragon_coming_to': 9} \n",
      " - TypeError (my_solution2() takes 1 positional argument but 2 were given)\n",
      "\n",
      "\n",
      " ERROR at: \n",
      " {'number_of_cows': 11, 'dragon_coming_to': 1} \n",
      " - TypeError (my_solution2() takes 1 positional argument but 2 were given)\n"
     ]
    }
   ],
   "source": [
    "dragonfind_10_to_500.evaluate(my_solution2)"
   ]
  },
  {
   "cell_type": "markdown",
   "metadata": {},
   "source": [
    "#### 0\n",
    "\n",
    "**Ezzel nem csináltál semmit, egy az egyben a kurzuson is látott rossz megoldás. Ráadásul látszik, hogy a függvény sikerrátája 0%, így nem illik leadni. Kértük, hogy legyen a siker 100%-os még akkor is, ha nem találjátok meg a leghatékonyabb algoritmust.**\n",
    "\n",
    "#### 1\n",
    "A `dragonfind_10_to_500.evaluate` függvénynek két paramétere van:\n",
    "- `is_dead`: ez maga is egy függvény, ami bármely tehén indexére megmondja, hogy az adott tehén halott-e\n",
    "- `number_of_cows`: egy integer, a tehen számát jelöli\n",
    "\n",
    "**Ez benne van a [dokumentációban](https://jkg-evaluators.readthedocs.io/en/latest/notebooks/001-dragonfind.html) is, belinkeltük, figyelmesen el kell olvasni.**\n",
    "\n",
    "#### 2\n",
    "Mikor megtalálod a végső `middle_cow`-t, ellenőrizni kell, hogy ő még él-e. Ha igen, ő a megoldás, ha nem, akkor az eggyel soványabb tehén. Ezért a függvény végére kell mégegy elágazás."
   ]
  },
  {
   "cell_type": "code",
   "execution_count": 11,
   "metadata": {},
   "outputs": [],
   "source": [
    "def my_solution2_jav(is_dead, number_of_cows):\n",
    "\n",
    "    fat_alive_cow_index = 0\n",
    "    thin_alive_cow_index = number_of_cows - 1\n",
    "\n",
    "    while (fat_alive_cow_index + 1) < thin_alive_cow_index:\n",
    "        middle_cow = int((fat_alive_cow_index + thin_alive_cow_index) // 2)\n",
    "        if is_dead(middle_cow) == False:\n",
    "            thin_alive_cow_index = middle_cow\n",
    "        else:\n",
    "            fat_alive_cow_index = middle_cow\n",
    "\n",
    "    if is_dead(middle_cow) == False:\n",
    "        return middle_cow\n",
    "    else:\n",
    "        return middle_cow + 1"
   ]
  },
  {
   "cell_type": "code",
   "execution_count": 12,
   "metadata": {},
   "outputs": [
    {
     "name": "stdout",
     "output_type": "stream",
     "text": [
      "- success rate: 124714/124714 (100.0%)\n",
      "- error count: 0\n",
      "- best performance: 4\n",
      "- worst performance: 10\n",
      "- mean performance: 9.301874689289093\n"
     ]
    }
   ],
   "source": [
    "dragonfind_10_to_500.evaluate(my_solution2_jav)"
   ]
  }
 ],
 "metadata": {
  "kernelspec": {
   "display_name": "Python 3",
   "language": "python",
   "name": "python3"
  },
  "language_info": {
   "codemirror_mode": {
    "name": "ipython",
    "version": 3
   },
   "file_extension": ".py",
   "mimetype": "text/x-python",
   "name": "python",
   "nbconvert_exporter": "python",
   "pygments_lexer": "ipython3",
   "version": "3.7.3"
  }
 },
 "nbformat": 4,
 "nbformat_minor": 2
}
