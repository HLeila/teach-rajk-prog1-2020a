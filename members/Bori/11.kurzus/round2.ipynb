{
 "cells": [
  {
   "cell_type": "code",
   "execution_count": 1,
   "metadata": {},
   "outputs": [
    {
     "ename": "ModuleNotFoundError",
     "evalue": "No module named '__import_file__'",
     "output_type": "error",
     "traceback": [
      "\u001b[0;31m---------------------------------------------------------------------------\u001b[0m",
      "\u001b[0;31mModuleNotFoundError\u001b[0m                       Traceback (most recent call last)",
      "\u001b[0;32m<ipython-input-1-5d90e9046104>\u001b[0m in \u001b[0;36m<module>\u001b[0;34m\u001b[0m\n\u001b[1;32m      1\u001b[0m \u001b[0;32mimport\u001b[0m \u001b[0msys\u001b[0m\u001b[0;34m\u001b[0m\u001b[0;34m\u001b[0m\u001b[0m\n\u001b[1;32m      2\u001b[0m \u001b[0msys\u001b[0m\u001b[0;34m.\u001b[0m\u001b[0mpath\u001b[0m\u001b[0;34m.\u001b[0m\u001b[0minsert\u001b[0m\u001b[0;34m(\u001b[0m\u001b[0;36m0\u001b[0m\u001b[0;34m,\u001b[0m \u001b[0;34m'..'\u001b[0m\u001b[0;34m)\u001b[0m\u001b[0;34m\u001b[0m\u001b[0;34m\u001b[0m\u001b[0m\n\u001b[0;32m----> 3\u001b[0;31m \u001b[0;32mfrom\u001b[0m \u001b[0m__import_file__\u001b[0m \u001b[0;32mimport\u001b[0m \u001b[0mAB\u001b[0m\u001b[0;34m\u001b[0m\u001b[0;34m\u001b[0m\u001b[0m\n\u001b[0m\u001b[1;32m      4\u001b[0m \u001b[0;32mfrom\u001b[0m \u001b[0m__import_file__\u001b[0m \u001b[0;32mimport\u001b[0m \u001b[0mRoli\u001b[0m\u001b[0;34m\u001b[0m\u001b[0;34m\u001b[0m\u001b[0m\n\u001b[1;32m      5\u001b[0m \u001b[0;32mfrom\u001b[0m \u001b[0m__import_file__\u001b[0m \u001b[0;32mimport\u001b[0m \u001b[0mDani\u001b[0m\u001b[0;34m\u001b[0m\u001b[0;34m\u001b[0m\u001b[0m\n",
      "\u001b[0;31mModuleNotFoundError\u001b[0m: No module named '__import_file__'"
     ]
    }
   ],
   "source": [
    "import sys\n",
    "sys.path.insert(0, '..')\n",
    "from __import_file__ import AB\n",
    "from __import_file__ import Roli\n",
    "from __import_file__ import Dani\n",
    "from __import_file__ import Meszi\n",
    "from __import_file__ import Marci\n",
    "from __import_file__ import Bori\n",
    "from __import_file__ import Leila\n",
    "from __import_file__ import Sara\n",
    "from __import_file__ import Mark\n",
    "from __import_file__ import Lili"
   ]
  },
  {
   "cell_type": "markdown",
   "metadata": {},
   "source": [
    "## AB"
   ]
  },
  {
   "cell_type": "code",
   "execution_count": null,
   "metadata": {},
   "outputs": [],
   "source": [
    "def AB_solution(n):\n",
    "    lm = 0\n",
    "    n.sort(reverse=True)\n",
    "    var1=n[0]\n",
    "    var2=n[1]\n",
    "    mult_big=var1*var2\n",
    "    var3=n[-1]\n",
    "    var4=n[-2]\n",
    "    mult_small=var3*var4\n",
    "    if mult_big > mult_small:\n",
    "        return mult_big\n",
    "    return mult_small"
   ]
  },
  {
   "cell_type": "code",
   "execution_count": null,
   "metadata": {},
   "outputs": [],
   "source": [
    "AB.evaluate(AB_solution)"
   ]
  },
  {
   "cell_type": "markdown",
   "metadata": {},
   "source": [
    "## Roli"
   ]
  },
  {
   "cell_type": "code",
   "execution_count": null,
   "metadata": {},
   "outputs": [],
   "source": [
    "def Roli_solution(list_of_strings,string):\n",
    "    var1=0\n",
    "    for i in list_of_strings:\n",
    "        for s in i:\n",
    "            if s == string.lower() or s == string.upper():\n",
    "                var1 = var1 + 1\n",
    "                break\n",
    "    return var1"
   ]
  },
  {
   "cell_type": "code",
   "execution_count": null,
   "metadata": {},
   "outputs": [],
   "source": [
    "Roli.evaluate(Roli_solution)"
   ]
  },
  {
   "cell_type": "markdown",
   "metadata": {},
   "source": [
    "## Dani"
   ]
  },
  {
   "cell_type": "code",
   "execution_count": null,
   "metadata": {},
   "outputs": [],
   "source": [
    "def Dani_solution(list_of_words):\n",
    "    count = 0\n",
    "    a = []\n",
    "    for word in list_of_words:\n",
    "        for letter in word:\n",
    "            if letter == \"a\" or letter == \"A\":\n",
    "                count = count + 1\n",
    "        a.append(count)\n",
    "        count = 0\n",
    "    legnagyobb = max(a)\n",
    "    if legnagyobb == 0:\n",
    "        return -1\n",
    "    return a.index(legnagyobb)"
   ]
  },
  {
   "cell_type": "code",
   "execution_count": null,
   "metadata": {},
   "outputs": [],
   "source": [
    "Dani.evaluate(Dani_solution)"
   ]
  },
  {
   "cell_type": "markdown",
   "metadata": {},
   "source": [
    "## Mészi"
   ]
  },
  {
   "cell_type": "code",
   "execution_count": null,
   "metadata": {},
   "outputs": [],
   "source": [
    "def Meszi_solution(list_of_numbers, number):\n",
    "    var1 = float(\"-inf\")\n",
    "    list1 = []\n",
    "    for n in list_of_numbers:\n",
    "        if (n/number)%2 == 0:\n",
    "            list1.append(n)            \n",
    "    for n in list1:\n",
    "        if n > var1:\n",
    "            var1 = n\n",
    "    if len(list1) != 0:\n",
    "        return var1\n",
    "    return 0"
   ]
  },
  {
   "cell_type": "code",
   "execution_count": null,
   "metadata": {},
   "outputs": [],
   "source": [
    "Meszi.evaluate(Meszi_solution)"
   ]
  },
  {
   "cell_type": "markdown",
   "metadata": {},
   "source": [
    "## Marci"
   ]
  },
  {
   "cell_type": "code",
   "execution_count": null,
   "metadata": {},
   "outputs": [],
   "source": [
    "def Marci_solution(list_of_numbers,number):\n",
    "    list_of_numbers.reverse()\n",
    "    for n in list_of_numbers:\n",
    "        if (n-number)%3==0:\n",
    "            return n\n",
    "    return 0"
   ]
  },
  {
   "cell_type": "code",
   "execution_count": null,
   "metadata": {},
   "outputs": [],
   "source": [
    "Marci.evaluate(Marci_solution)"
   ]
  },
  {
   "cell_type": "markdown",
   "metadata": {},
   "source": [
    "## Bori"
   ]
  },
  {
   "cell_type": "code",
   "execution_count": null,
   "metadata": {},
   "outputs": [],
   "source": [
    "def Bori_solution(list_of_words):\n",
    "    a = [\"\"]\n",
    "    for word in list_of_words:\n",
    "        for letter in word.lower():\n",
    "            if word.lower().count(letter)>2:\n",
    "                a.append(word)\n",
    "    return (max(a, key=len))"
   ]
  },
  {
   "cell_type": "code",
   "execution_count": null,
   "metadata": {},
   "outputs": [],
   "source": [
    "Bori.evaluate(Bori_solution)"
   ]
  },
  {
   "cell_type": "markdown",
   "metadata": {},
   "source": [
    "## Leila"
   ]
  },
  {
   "cell_type": "code",
   "execution_count": null,
   "metadata": {},
   "outputs": [],
   "source": [
    "def Leila_solution(list_of_numbers):\n",
    "    list1=[]\n",
    "    for n1 in list_of_numbers:\n",
    "        for n2 in list_of_numbers:\n",
    "            if n1 == n2/2:\n",
    "                list1.append(n1)\n",
    "    if len(list1) != 0:\n",
    "        return min(list1)\n",
    "    return 0"
   ]
  },
  {
   "cell_type": "code",
   "execution_count": null,
   "metadata": {},
   "outputs": [],
   "source": [
    "Leila.evaluate(Leila_solution)"
   ]
  },
  {
   "cell_type": "markdown",
   "metadata": {},
   "source": [
    "## Sára"
   ]
  },
  {
   "cell_type": "code",
   "execution_count": null,
   "metadata": {},
   "outputs": [],
   "source": [
    "def Sara_solution(list_of_numbers):\n",
    "    num = 0\n",
    "    list1 = []\n",
    "    for n in list_of_numbers:\n",
    "        if n not in list1:\n",
    "            list1.append(n)\n",
    "    for n in list1:\n",
    "        if n > 0:\n",
    "            if n%2 == 1:\n",
    "                num = num + n\n",
    "    return num"
   ]
  },
  {
   "cell_type": "code",
   "execution_count": null,
   "metadata": {},
   "outputs": [],
   "source": [
    "Sara.evaluate(Sara_solution)"
   ]
  },
  {
   "cell_type": "markdown",
   "metadata": {},
   "source": [
    "## Márk"
   ]
  },
  {
   "cell_type": "code",
   "execution_count": null,
   "metadata": {},
   "outputs": [],
   "source": [
    "def Mark_solution(list_of_numbers):\n",
    "    list1 = []\n",
    "    list2 = []\n",
    "    for n in list_of_numbers:\n",
    "        if n > 0:\n",
    "            list1.append(n)\n",
    "        if n < 0:\n",
    "            list2.append(n*(-1))\n",
    "    list3 = []\n",
    "    for n in list1:\n",
    "        var1=str(n)\n",
    "        var2=list(var1)\n",
    "        list3.append(var2)\n",
    "    list4 = []\n",
    "    for n in list2:\n",
    "        var1=str(n)\n",
    "        var2=list(var1)\n",
    "        list4.append(var2)\n",
    "    list5 = []\n",
    "    for n in list3:\n",
    "        if len(n) == 1:\n",
    "            list5.append(n)\n",
    "        if len(n) == 2:\n",
    "            if n[0]<=n[1]:\n",
    "                \n",
    "    return 0"
   ]
  },
  {
   "cell_type": "code",
   "execution_count": null,
   "metadata": {},
   "outputs": [],
   "source": [
    "Mark.evaluate(Mark_solution)"
   ]
  },
  {
   "cell_type": "markdown",
   "metadata": {},
   "source": [
    "## Lili"
   ]
  },
  {
   "cell_type": "code",
   "execution_count": null,
   "metadata": {},
   "outputs": [],
   "source": [
    "def Lili_solution(list_of_strings,letter):\n",
    "    a = list_of_strings.copy()\n",
    "    b = letter.lower()\n",
    "    for i in range (0,len(list_of_strings)):\n",
    "        a[i] = list_of_strings[i].lower()\n",
    "    c = 0\n",
    "    d = 0\n",
    "    for s in a:\n",
    "        e = 0\n",
    "        for f in s:\n",
    "            if f == b:\n",
    "                e = e+1\n",
    "        if c < e:\n",
    "            c = e\n",
    "            g = list_of_strings[d]\n",
    "        d = d+1\n",
    "    if c == 0:\n",
    "        g = \"\"\n",
    "        \n",
    "    return g"
   ]
  },
  {
   "cell_type": "code",
   "execution_count": null,
   "metadata": {},
   "outputs": [],
   "source": [
    "Lili.evaluate(Lili_solution)"
   ]
  }
 ],
 "metadata": {
  "kernelspec": {
   "display_name": "Python 3",
   "language": "python",
   "name": "python3"
  },
  "language_info": {
   "codemirror_mode": {
    "name": "ipython",
    "version": 3
   },
   "file_extension": ".py",
   "mimetype": "text/x-python",
   "name": "python",
   "nbconvert_exporter": "python",
   "pygments_lexer": "ipython3",
   "version": "3.7.6"
  }
 },
 "nbformat": 4,
 "nbformat_minor": 4
}
