{
 "cells": [
  {
   "cell_type": "markdown",
   "metadata": {},
   "source": [
    "### Mi a hiba az alábbi kódokban? Javítsd ki őket!"
   ]
  },
  {
   "cell_type": "markdown",
   "metadata": {},
   "source": [
    "#### Annyi jupyter tutor, ami ehhez a házihoz remélhetőleg elég lesz.\n",
    "\n",
    "- Úgy jelöltök ki cellát, hogy belekattintotok.\n",
    "- A kijelölt cellát a nagy RUN gombra kattinva tudjátok lefuttatni. Illeve a CTRL+ENTER és SHIFT+ENTER kombinációval. Az előbbi csak lefuttatja a kijelölt cellát, míg az utóbbi továbblép a következő cellára és azt jelöli ki.\n",
    "- Ha véletlenül örökké futna egy kódrészlet akkor a standard STOP gombbal állíthatjátok le a futást.\n",
    "- Ha ennél nagyobb a baj akkor a Kernel fül alatt Restartoljatok. \n",
    "- Illetve a változtatásaitokat menteni is kell standard Save gomb vagy CTRL+S."
   ]
  },
  {
   "cell_type": "markdown",
   "metadata": {},
   "source": [
    "#### #1"
   ]
  },
  {
   "cell_type": "code",
   "execution_count": 1,
   "metadata": {},
   "outputs": [
    {
     "name": "stdout",
     "output_type": "stream",
     "text": [
      "3\n"
     ]
    }
   ],
   "source": [
    "def egy():\n",
    "    l1 = [3, 5, 24, 9, 15, -4, 87]\n",
    "    l2 = [6, 17, 134, -11, 26, -1]\n",
    "\n",
    "    #A beépített len függvény egy iterálható objektum elemeinek számát adja visszatérési értékként.\n",
    "    #Pl. lista elemeinek száma\n",
    "    for n in range(len(l2)):\n",
    "\n",
    "        if l1[n] > l2[n]:\n",
    "            print(n)\n",
    "        \n",
    "egy()\n",
    "\n",
    "#nem egyforma a két lista hossza, így átírtam, hogy a rövidebbet vegye referenciának"
   ]
  },
  {
   "cell_type": "markdown",
   "metadata": {},
   "source": [
    "#### #2"
   ]
  },
  {
   "cell_type": "code",
   "execution_count": 2,
   "metadata": {},
   "outputs": [
    {
     "data": {
      "text/plain": [
       "'semmi'"
      ]
     },
     "execution_count": 2,
     "metadata": {},
     "output_type": "execute_result"
    }
   ],
   "source": [
    "def ketto(x, y, z):\n",
    "    \n",
    "    if x + y > z and x + z > y and y + z > x:\n",
    "        a = 'háromszög'\n",
    "    \n",
    "        if a == 'háromszög':\n",
    "            return (x, y, z)\n",
    "    else:\n",
    "        return 'semmi'\n",
    "\n",
    "ketto(1,2,3)\n",
    "\n",
    "#if beljebb, else kijebb, amúgy nem lép be a ciklus azon részére ami értéket adni vissza"
   ]
  },
  {
   "cell_type": "markdown",
   "metadata": {},
   "source": [
    "#### #3"
   ]
  },
  {
   "cell_type": "code",
   "execution_count": 3,
   "metadata": {},
   "outputs": [
    {
     "data": {
      "text/plain": [
       "102"
      ]
     },
     "execution_count": 3,
     "metadata": {},
     "output_type": "execute_result"
    }
   ],
   "source": [
    "def harom():\n",
    "    k = 2\n",
    "    s = 0\n",
    "\n",
    "    while s <= 100:\n",
    "\n",
    "        if k % 2 == 0:\n",
    "            s = s + k\n",
    "        else:\n",
    "            break\n",
    "    return s\n",
    "\n",
    "harom()\n",
    "\n",
    "#a k értéke az erediteben nem változik, így érdemes az s értékére írni a while ciklust, \n",
    "#mivel nincs else örökre fut páratlan k esetén, és ha van breakpoint akkor sincs visszatérési érték"
   ]
  },
  {
   "cell_type": "markdown",
   "metadata": {},
   "source": [
    "#### #4"
   ]
  },
  {
   "cell_type": "code",
   "execution_count": 4,
   "metadata": {},
   "outputs": [],
   "source": [
    "def negy():\n",
    "    t = [0,1,4,3]\n",
    "\n",
    "    for i in range(len(t)):\n",
    "\n",
    "        if (len('alma') == range(len(t))) & (t[i] < 4):\n",
    "\n",
    "            None\n",
    "            \n",
    "negy()\n",
    "\n",
    "#a t(i) helyett t[i] és az összehasonlításnál elmaradt egy len()"
   ]
  },
  {
   "cell_type": "markdown",
   "metadata": {},
   "source": [
    "#### #5"
   ]
  },
  {
   "cell_type": "code",
   "execution_count": 5,
   "metadata": {},
   "outputs": [
    {
     "data": {
      "text/plain": [
       "[112, 721, 1002]"
      ]
     },
     "execution_count": 5,
     "metadata": {},
     "output_type": "execute_result"
    }
   ],
   "source": [
    "def ot():\n",
    "    input_lista = [112,4234,721,1002,5982,1035]\n",
    "    out = []\n",
    "    for i in range(0,4):\n",
    "        if input_lista[i] < input_lista[i+1]:\n",
    "            out.append(input_lista[i])\n",
    "        \n",
    "    return out\n",
    "\n",
    "ot()\n",
    "\n",
    "#a for cikls index helyett i, és a range csak 4-ig menjen \n",
    "#hiszen 6 elem esetén nagyobbhoz hasonlításnál tovább nem tud összehasonlítani,\n",
    "#az if ciklust nemtudja összehasonlítani, az index miatt és == miatt,\n",
    "#így olyan kód kell ami beírja sorban az out lista elemeit"
   ]
  },
  {
   "cell_type": "markdown",
   "metadata": {},
   "source": [
    "#### #6"
   ]
  },
  {
   "cell_type": "code",
   "execution_count": 6,
   "metadata": {},
   "outputs": [
    {
     "data": {
      "text/plain": [
       "'Error'"
      ]
     },
     "execution_count": 6,
     "metadata": {},
     "output_type": "execute_result"
    }
   ],
   "source": [
    "def hat():\n",
    "    l = [1,1,1,1,1]\n",
    "\n",
    "    for i in range(0,4):\n",
    "\n",
    "        if l[i+1] == i:\n",
    "\n",
    "            l[i] += 1\n",
    "\n",
    "        else:\n",
    "\n",
    "            return'Error'\n",
    "            \n",
    "hat()\n",
    "\n",
    "#a while ciklusba nincs megadva i érték, illetve az error elé kell parancs, hogy visszaadja"
   ]
  },
  {
   "cell_type": "markdown",
   "metadata": {},
   "source": [
    "#### #7"
   ]
  },
  {
   "cell_type": "code",
   "execution_count": 7,
   "metadata": {},
   "outputs": [
    {
     "data": {
      "text/plain": [
       "22.5"
      ]
     },
     "execution_count": 7,
     "metadata": {},
     "output_type": "execute_result"
    }
   ],
   "source": [
    "def het():\n",
    "    genya = 0\n",
    "    \n",
    "    for i in range(0, 10):\n",
    "        genya += i/2\n",
    "\n",
    "    return genya\n",
    "    \n",
    "het()\n",
    "\n",
    "#az i nemtud felet lépni mert csak egész számot fogad el,\n",
    "#viszont ha a genyát i/2-vel növeljük ciklusonként szerintem ugyanazt kapjuk vissza"
   ]
  },
  {
   "cell_type": "markdown",
   "metadata": {},
   "source": [
    "#### #8"
   ]
  },
  {
   "cell_type": "code",
   "execution_count": 8,
   "metadata": {},
   "outputs": [
    {
     "data": {
      "text/plain": [
       "'kifogytam'"
      ]
     },
     "execution_count": 8,
     "metadata": {},
     "output_type": "execute_result"
    }
   ],
   "source": [
    "def nyolc():\n",
    "    banka = \"almamáter\"\n",
    "    tanga = \"\"\n",
    "    for lanka in banka:\n",
    "        if lanka > tanga:\n",
    "            tanga = lanka\n",
    "        else:\n",
    "            return 'kifogytam'\n",
    "        \n",
    "    return tanga\n",
    "    \n",
    "nyolc()\n",
    "\n",
    "#csak syntax hibák"
   ]
  },
  {
   "cell_type": "markdown",
   "metadata": {},
   "source": [
    "#### #9"
   ]
  },
  {
   "cell_type": "code",
   "execution_count": 9,
   "metadata": {},
   "outputs": [
    {
     "data": {
      "text/plain": [
       "'mmnmnm'"
      ]
     },
     "execution_count": 9,
     "metadata": {},
     "output_type": "execute_result"
    }
   ],
   "source": [
    "def kilenc():\n",
    "        árán = \"\"\n",
    "        száján = \"szárán\"\n",
    "        while len(árán) < 5:\n",
    "            árván = száján * 2\n",
    "            kárán = len(száján) // 3\n",
    "\n",
    "            for bárány in száján:\n",
    "                if száján[kárán] == bárány:\n",
    "                    álcám = True\n",
    "                else:\n",
    "                    álcám = False\n",
    "\n",
    "                if álcám:\n",
    "                    lányán = False\n",
    "                    fácán = True\n",
    "                else:\n",
    "                    lányán = True\n",
    "                    fácán = False\n",
    "        \n",
    "                if lányán:\n",
    "                    árán += \"m\"\n",
    "                elif fácán:\n",
    "                    árán += \"n\"\n",
    "                else:\n",
    "                    hamutálcán = \"pusztulásán\"\n",
    "            \n",
    "        return árán\n",
    "kilenc()\n",
    "\n",
    "#szerintem csak rendetlen volt "
   ]
  },
  {
   "cell_type": "code",
   "execution_count": null,
   "metadata": {},
   "outputs": [],
   "source": []
  }
 ],
 "metadata": {
  "kernelspec": {
   "display_name": "Python 3",
   "language": "python",
   "name": "python3"
  },
  "language_info": {
   "codemirror_mode": {
    "name": "ipython",
    "version": 3
   },
   "file_extension": ".py",
   "mimetype": "text/x-python",
   "name": "python",
   "nbconvert_exporter": "python",
   "pygments_lexer": "ipython3",
   "version": "3.7.3"
  }
 },
 "nbformat": 4,
 "nbformat_minor": 4
}
