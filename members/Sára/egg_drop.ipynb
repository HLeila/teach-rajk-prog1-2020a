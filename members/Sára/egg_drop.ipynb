{
 "cells": [
  {
   "cell_type": "code",
   "execution_count": 2,
   "metadata": {},
   "outputs": [
    {
     "name": "stdout",
     "output_type": "stream",
     "text": [
      "Collecting jkg_evaluators\n",
      "  Downloading https://files.pythonhosted.org/packages/02/13/33a9d6f81bbbf70a076d964e67c8a1ebddaa1000c3b0f6072876219b6850/jkg_evaluators-0.0.2.tar.gz\n",
      "Building wheels for collected packages: jkg-evaluators\n",
      "  Building wheel for jkg-evaluators (setup.py) ... \u001b[?25ldone\n",
      "\u001b[?25h  Created wheel for jkg-evaluators: filename=jkg_evaluators-0.0.2-cp37-none-any.whl size=10176 sha256=304061cfdb6c7d57419ec41f11bf43d4380b4aac03638ccbc27e341f5c9a35e1\n",
      "  Stored in directory: /Users/macbookair/Library/Caches/pip/wheels/76/ec/0d/82e555d5e9ac03a58dd8d760735e3eba11c046a7cf928f5831\n",
      "Successfully built jkg-evaluators\n",
      "Installing collected packages: jkg-evaluators\n",
      "Successfully installed jkg-evaluators-0.0.2\n"
     ]
    }
   ],
   "source": [
    "!pip install jkg_evaluators"
   ]
  },
  {
   "cell_type": "code",
   "execution_count": 1,
   "metadata": {},
   "outputs": [],
   "source": [
    "from jkg_evaluators import eggdrop_100floor_2egg"
   ]
  },
  {
   "cell_type": "code",
   "execution_count": 2,
   "metadata": {},
   "outputs": [],
   "source": [
    "def my_solution1(breaks):\n",
    "\n",
    "    for i in range(1,101):\n",
    "        if breaks(i):\n",
    "            return i - 1"
   ]
  },
  {
   "cell_type": "code",
   "execution_count": 3,
   "metadata": {},
   "outputs": [
    {
     "name": "stdout",
     "output_type": "stream",
     "text": [
      "- success rate: 100/101 (99.0%)\n",
      "- error count: 0\n",
      "- best performance: 1\n",
      "- worst performance: 100\n",
      "- mean performance: 50.99009900990099\n",
      "\n",
      "\n",
      " BAD SOLUTION at: \n",
      " {'egg_count': 2, 'floor_count': 100, 'max_floor': 100}\n"
     ]
    }
   ],
   "source": [
    "eggdrop_100floor_2egg.evaluate(my_solution1)"
   ]
  },
  {
   "cell_type": "code",
   "execution_count": 23,
   "metadata": {},
   "outputs": [],
   "source": [
    "def my_solution2(breaks):\n",
    "    for i in range(0,101,10):\n",
    "        if breaks(i):\n",
    "            for x in range(i-10,101):\n",
    "                if breaks(x):\n",
    "                    return x-1\n",
    "    return i"
   ]
  },
  {
   "cell_type": "code",
   "execution_count": 24,
   "metadata": {},
   "outputs": [
    {
     "name": "stdout",
     "output_type": "stream",
     "text": [
      "- success rate: 101/101 (100.0%)\n",
      "- error count: 0\n",
      "- best performance: 4\n",
      "- worst performance: 22\n",
      "- mean performance: 12.98019801980198\n"
     ]
    }
   ],
   "source": [
    "eggdrop_100floor_2egg.evaluate(my_solution2)"
   ]
  },
  {
   "cell_type": "markdown",
   "metadata": {},
   "source": [
    "Jó megoldás, ügyesen rájöttél, hogy mi a hiva az első megoldásodban."
   ]
  }
 ],
 "metadata": {
  "kernelspec": {
   "display_name": "Python 3",
   "language": "python",
   "name": "python3"
  },
  "language_info": {
   "codemirror_mode": {
    "name": "ipython",
    "version": 3
   },
   "file_extension": ".py",
   "mimetype": "text/x-python",
   "name": "python",
   "nbconvert_exporter": "python",
   "pygments_lexer": "ipython3",
   "version": "3.8.2"
  }
 },
 "nbformat": 4,
 "nbformat_minor": 2
}
