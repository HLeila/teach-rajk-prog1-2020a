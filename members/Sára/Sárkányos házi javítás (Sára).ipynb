{
 "cells": [
  {
   "cell_type": "code",
   "execution_count": 1,
   "metadata": {},
   "outputs": [],
   "source": [
    "from jkg_evaluators import dragonfind_10_to_500"
   ]
  },
  {
   "cell_type": "code",
   "execution_count": 2,
   "metadata": {},
   "outputs": [],
   "source": [
    "def my_solution2(is_dead, number_of_cows):\n",
    "\n",
    "    if number_of_cows <= 10:\n",
    "        for i in range(1, number_of_cows):\n",
    "            if not is_dead(i):\n",
    "                return i\n",
    "    else:\n",
    "        for i in range(0, number_of_cows, 10):\n",
    "            if not is_dead(i):\n",
    "                for x in range(i - 10, number_of_cows):\n",
    "                    if not is_dead(x):\n",
    "                        return x"
   ]
  },
  {
   "cell_type": "code",
   "execution_count": 3,
   "metadata": {
    "scrolled": true
   },
   "outputs": [
    {
     "name": "stdout",
     "output_type": "stream",
     "text": [
      "- success rate: 122509/124714 (98.0%)\n",
      "- error count: 0\n",
      "- best performance: 1\n",
      "- worst performance: 61\n",
      "- mean performance: 24.525113459595556\n",
      "\n",
      "\n",
      " BAD SOLUTION at: \n",
      " {'number_of_cows': 12, 'dragon_coming_to': 11}\n",
      "\n",
      "\n",
      " BAD SOLUTION at: \n",
      " {'number_of_cows': 13, 'dragon_coming_to': 11}\n",
      "\n",
      "\n",
      " BAD SOLUTION at: \n",
      " {'number_of_cows': 13, 'dragon_coming_to': 12}\n",
      "\n",
      "\n",
      " BAD SOLUTION at: \n",
      " {'number_of_cows': 14, 'dragon_coming_to': 11}\n",
      "\n",
      "\n",
      " BAD SOLUTION at: \n",
      " {'number_of_cows': 14, 'dragon_coming_to': 12}\n",
      "\n",
      "\n",
      " BAD SOLUTION at: \n",
      " {'number_of_cows': 14, 'dragon_coming_to': 13}\n",
      "\n",
      "\n",
      " BAD SOLUTION at: \n",
      " {'number_of_cows': 15, 'dragon_coming_to': 11}\n",
      "\n",
      "\n",
      " BAD SOLUTION at: \n",
      " {'number_of_cows': 15, 'dragon_coming_to': 12}\n",
      "\n",
      "\n",
      " BAD SOLUTION at: \n",
      " {'number_of_cows': 15, 'dragon_coming_to': 13}\n",
      "\n",
      "\n",
      " BAD SOLUTION at: \n",
      " {'number_of_cows': 15, 'dragon_coming_to': 14}\n"
     ]
    }
   ],
   "source": [
    "dragonfind_10_to_500.evaluate(my_solution2)"
   ]
  },
  {
   "cell_type": "markdown",
   "metadata": {},
   "source": [
    "Ez egyébként egy tök jó gondolatmenet, de nem hibátlan. Érdemes lett volna kijavítani.\n",
    "\n",
    "\n",
    "Ha megnézed a hibákat, a tehenek száma 12 és 15, a sárkány pedig 11 és 14 között van. Abból származik a hiba, hogy a függvényed második iterációja tízesével lépked a tehenek között. Nézd meg, mi történik, ha csinálok egy tetszőleges `range`-et nullától egy tízzel nem osztható számig, tízesével lépkedve:"
   ]
  },
  {
   "cell_type": "code",
   "execution_count": 8,
   "metadata": {
    "scrolled": true
   },
   "outputs": [
    {
     "data": {
      "text/plain": [
       "[0, 10]"
      ]
     },
     "execution_count": 8,
     "metadata": {},
     "output_type": "execute_result"
    }
   ],
   "source": [
    "list(range(0, 12, 10))"
   ]
  },
  {
   "cell_type": "code",
   "execution_count": 12,
   "metadata": {},
   "outputs": [
    {
     "data": {
      "text/plain": [
       "[0, 10, 20, 30, 40, 50, 60, 70, 80]"
      ]
     },
     "execution_count": 12,
     "metadata": {},
     "output_type": "execute_result"
    }
   ],
   "source": [
    "list(range(0, 87, 10))"
   ]
  },
  {
   "cell_type": "markdown",
   "metadata": {},
   "source": [
    "Levágja a lista végét. Ha most a sárkány pl. a 11. tehénnél van, oda nem jut el a függvény, mert csak a 0. és a 10. tehenet ellenőrzi, akik halottak. Tehát, **ha nem tízzel osztható számú tehén van, és a sárkány az utolsó $n$ $mod$ $10$ tehén között van, nem találjuk meg**.\n",
    "\n",
    "Kiküszöbölhető a probléma, ha pl. hozzáadsz mégegy iterációt, ami az utolsó tízzel osztható indextől megy az utolsó tehénig (de ennél valószínűleg van elegánsabb megoldás):"
   ]
  },
  {
   "cell_type": "code",
   "execution_count": 10,
   "metadata": {},
   "outputs": [],
   "source": [
    "def my_solution2_jav(is_dead, number_of_cows):\n",
    "\n",
    "    if number_of_cows <= 10:\n",
    "        for i in range(1, number_of_cows):\n",
    "            if not is_dead(i):\n",
    "                return i\n",
    "    else:\n",
    "        for i in range(0, number_of_cows, 10):\n",
    "            if not is_dead(i):\n",
    "                for x in range(i - 10, number_of_cows):\n",
    "                    if not is_dead(x):\n",
    "                        return x\n",
    "                    \n",
    "    for k in range(i + 1, number_of_cows):\n",
    "        if not is_dead(k):\n",
    "            return k"
   ]
  },
  {
   "cell_type": "code",
   "execution_count": 11,
   "metadata": {
    "scrolled": true
   },
   "outputs": [
    {
     "name": "stdout",
     "output_type": "stream",
     "text": [
      "- success rate: 124714/124714 (100.0%)\n",
      "- error count: 0\n",
      "- best performance: 1\n",
      "- worst performance: 61\n",
      "- mean performance: 24.589941786808218\n"
     ]
    }
   ],
   "source": [
    "dragonfind_10_to_500.evaluate(my_solution2_jav)"
   ]
  }
 ],
 "metadata": {
  "kernelspec": {
   "display_name": "Python 3",
   "language": "python",
   "name": "python3"
  },
  "language_info": {
   "codemirror_mode": {
    "name": "ipython",
    "version": 3
   },
   "file_extension": ".py",
   "mimetype": "text/x-python",
   "name": "python",
   "nbconvert_exporter": "python",
   "pygments_lexer": "ipython3",
   "version": "3.7.3"
  }
 },
 "nbformat": 4,
 "nbformat_minor": 2
}
