{
 "cells": [
  {
   "cell_type": "code",
   "execution_count": 1,
   "metadata": {},
   "outputs": [
    {
     "name": "stdout",
     "output_type": "stream",
     "text": [
      "Requirement already satisfied: jkg_evaluators in /Users/macbookair/opt/anaconda3/lib/python3.7/site-packages (0.0.2)\r\n"
     ]
    }
   ],
   "source": [
    "!pip install jkg_evaluators"
   ]
  },
  {
   "cell_type": "code",
   "execution_count": 3,
   "metadata": {},
   "outputs": [],
   "source": [
    "from jkg_evaluators import dragonfind_10_to_500"
   ]
  },
  {
   "cell_type": "code",
   "execution_count": 4,
   "metadata": {},
   "outputs": [],
   "source": [
    "def my_solution1(is_dead,\n",
    "                 number_of_cows):\n",
    "\n",
    "    for i in range(1, number_of_cows):\n",
    "        if not is_dead(i):\n",
    "            return i"
   ]
  },
  {
   "cell_type": "code",
   "execution_count": 5,
   "metadata": {
    "scrolled": true
   },
   "outputs": [
    {
     "name": "stdout",
     "output_type": "stream",
     "text": [
      "- success rate: 124714/124714 (100.0%)\n",
      "- error count: 0\n",
      "- best performance: 1\n",
      "- worst performance: 499\n",
      "- mean performance: 167.04724409448818\n"
     ]
    }
   ],
   "source": [
    "dragonfind_10_to_500.evaluate(my_solution1)"
   ]
  },
  {
   "cell_type": "code",
   "execution_count": 49,
   "metadata": {},
   "outputs": [],
   "source": [
    "def my_solution2(is_dead,\n",
    "                 number_of_cows):\n",
    "\n",
    "    if number_of_cows <= 10:\n",
    "        for i in range(1, number_of_cows):\n",
    "            if not is_dead(i):\n",
    "                return i\n",
    "    else:\n",
    "        for i in range(0, number_of_cows,10):\n",
    "            if not is_dead(i):\n",
    "                for x in range(i-10,number_of_cows):\n",
    "                    if not is_dead(x):\n",
    "                        return x"
   ]
  },
  {
   "cell_type": "code",
   "execution_count": 50,
   "metadata": {
    "scrolled": true
   },
   "outputs": [
    {
     "name": "stdout",
     "output_type": "stream",
     "text": [
      "- success rate: 122509/124714 (98.0%)\n",
      "- error count: 0\n",
      "- best performance: 1\n",
      "- worst performance: 61\n",
      "- mean performance: 24.525113459595556\n",
      "\n",
      "\n",
      " BAD SOLUTION at: \n",
      " {'number_of_cows': 12, 'dragon_coming_to': 11}\n",
      "\n",
      "\n",
      " BAD SOLUTION at: \n",
      " {'number_of_cows': 13, 'dragon_coming_to': 11}\n",
      "\n",
      "\n",
      " BAD SOLUTION at: \n",
      " {'number_of_cows': 13, 'dragon_coming_to': 12}\n",
      "\n",
      "\n",
      " BAD SOLUTION at: \n",
      " {'number_of_cows': 14, 'dragon_coming_to': 11}\n",
      "\n",
      "\n",
      " BAD SOLUTION at: \n",
      " {'number_of_cows': 14, 'dragon_coming_to': 12}\n",
      "\n",
      "\n",
      " BAD SOLUTION at: \n",
      " {'number_of_cows': 14, 'dragon_coming_to': 13}\n",
      "\n",
      "\n",
      " BAD SOLUTION at: \n",
      " {'number_of_cows': 15, 'dragon_coming_to': 11}\n",
      "\n",
      "\n",
      " BAD SOLUTION at: \n",
      " {'number_of_cows': 15, 'dragon_coming_to': 12}\n",
      "\n",
      "\n",
      " BAD SOLUTION at: \n",
      " {'number_of_cows': 15, 'dragon_coming_to': 13}\n",
      "\n",
      "\n",
      " BAD SOLUTION at: \n",
      " {'number_of_cows': 15, 'dragon_coming_to': 14}\n"
     ]
    }
   ],
   "source": [
    "dragonfind_10_to_500.evaluate(my_solution2)"
   ]
  },
  {
   "cell_type": "code",
   "execution_count": null,
   "metadata": {},
   "outputs": [],
   "source": []
  }
 ],
 "metadata": {
  "kernelspec": {
   "display_name": "Python 3",
   "language": "python",
   "name": "python3"
  },
  "language_info": {
   "codemirror_mode": {
    "name": "ipython",
    "version": 3
   },
   "file_extension": ".py",
   "mimetype": "text/x-python",
   "name": "python",
   "nbconvert_exporter": "python",
   "pygments_lexer": "ipython3",
   "version": "3.7.3"
  }
 },
 "nbformat": 4,
 "nbformat_minor": 2
}
