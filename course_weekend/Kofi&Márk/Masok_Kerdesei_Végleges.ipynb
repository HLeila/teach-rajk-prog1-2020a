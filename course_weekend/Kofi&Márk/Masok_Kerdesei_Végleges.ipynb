{
 "cells": [
  {
   "cell_type": "markdown",
   "metadata": {},
   "source": [
    "# 1. Ki írta a legkevesebb üzenetet a 2019-es db-chatbe? (3 pont)"
   ]
  },
  {
   "cell_type": "markdown",
   "metadata": {},
   "source": [
    "### Az adatbázis meghívása \n",
    "#### (A print(year) csupán a meghívás állapotának ellenőrzésére szolgál)"
   ]
  },
  {
   "cell_type": "code",
   "execution_count": 1,
   "metadata": {},
   "outputs": [
    {
     "name": "stdout",
     "output_type": "stream",
     "text": [
      "2010\n",
      "2011\n",
      "2012\n",
      "2013\n",
      "2014\n",
      "2015\n",
      "2016\n",
      "2017\n",
      "2018\n",
      "2019\n",
      "2020\n"
     ]
    }
   ],
   "source": [
    "import json\n",
    "def get_data_by_year(year):\n",
    "    path_to_file = '/var/www/rajkjupyter/BBM/data/{}-msg.json'.format(year)\n",
    "    print(year)\n",
    "    return json.load(open(path_to_file, \"r\"))\n",
    "\n",
    "mega=[]\n",
    "for i in range(2010,2021):\n",
    "    mega.append(get_data_by_year(i))"
   ]
  },
  {
   "cell_type": "markdown",
   "metadata": {},
   "source": [
    "### A 2019-es db-chat összes beszélgétésének egy darab listába rendezése (797 a db-chat kódja)"
   ]
  },
  {
   "cell_type": "code",
   "execution_count": 5,
   "metadata": {},
   "outputs": [],
   "source": [
    "dbcset = []\n",
    "for ev in mega:\n",
    "    exampleSet = ev\n",
    "    keyValList = [797]\n",
    "    dbcset += [d for d in exampleSet if d['thread_path'] in keyValList]"
   ]
  },
  {
   "cell_type": "markdown",
   "metadata": {},
   "source": [
    "### A legkevesebb üzenetet küldők kinyerése"
   ]
  },
  {
   "cell_type": "code",
   "execution_count": 7,
   "metadata": {},
   "outputs": [
    {
     "data": {
      "text/plain": [
       "[('Don Cheadle', 37),\n",
       " ('Atticus Finch', 41),\n",
       " ('Ray Milland', 43),\n",
       " ('Glenn Close', 99),\n",
       " ('Adriana Barraza', 106),\n",
       " ('Sylvester Stallone', 282),\n",
       " ('Colin Firth', 516),\n",
       " ('Kate Winslet', 734),\n",
       " ('Katy Perry', 945),\n",
       " ('Christopher Walken', 953),\n",
       " ('Adam Driver', 1513),\n",
       " ('Al Pacino', 1790),\n",
       " ('Liza Minnelli', 2590)]"
      ]
     },
     "execution_count": 7,
     "metadata": {},
     "output_type": "execute_result"
    }
   ],
   "source": [
    "names=[]\n",
    "for dic in dbcset:\n",
    "    names.append(dic[\"sender_name\"])\n",
    "def take_second(elem):\n",
    "    return elem[1]\n",
    "countnames = {}\n",
    "for name in names:\n",
    "    if name in countnames:\n",
    "        countnames[name] += 1\n",
    "    else:\n",
    "        countnames[name] = 1\n",
    "\n",
    "legkevesebb_uzenetet_kuldok=sorted(list(countnames.items()),key=take_second)\n",
    "legkevesebb_uzenetet_kuldok"
   ]
  },
  {
   "cell_type": "markdown",
   "metadata": {},
   "source": [
    "# 2. Ki küldte legtöbb képet a jeszk momentsbe? (2 pont) (javítottuk valamelyest az eredeti megoldásunkhoz képest)"
   ]
  },
  {
   "cell_type": "markdown",
   "metadata": {},
   "source": [
    "### A jeszk moments (494 a jeszk moments kódja) és a jeszk moments kép-küldések listájának létrehozása"
   ]
  },
  {
   "cell_type": "code",
   "execution_count": 18,
   "metadata": {},
   "outputs": [],
   "source": [
    "jeszkmoments = []\n",
    "for ev in mega:\n",
    "    exampleSet = ev\n",
    "    keyValList = [494]\n",
    "    jeszkmoments += [d for d in exampleSet if d['thread_path'] in keyValList]\n",
    "jeszkmoments_kepek = []\n",
    "exampleSet = jeszkmoments\n",
    "keyValList = [n for n in range(1,1000)]\n",
    "jeszkmoments_kepek += [d for d in exampleSet if d['photos'] in keyValList]"
   ]
  },
  {
   "cell_type": "markdown",
   "metadata": {},
   "source": [
    "### A legtöbb kép küldőiének kinyerése"
   ]
  },
  {
   "cell_type": "code",
   "execution_count": 19,
   "metadata": {},
   "outputs": [
    {
     "data": {
      "text/plain": [
       "[('Judy Holliday', 166),\n",
       " ('Olivia de Havilland', 88),\n",
       " ('Michael Douglas', 83),\n",
       " ('Naomi Watts', 62),\n",
       " ('Patricia Neal', 58),\n",
       " ('Holly Golightly ', 57),\n",
       " ('Leonardo DiCaprio', 52),\n",
       " ('Grace Kelly', 50),\n",
       " ('Lucas Hedges', 50),\n",
       " ('Michael Jordan', 50),\n",
       " ('Al Pacino', 48),\n",
       " ('Mary J. Blige', 46),\n",
       " ('Josephine Hull', 46),\n",
       " ('Ronald McDonald', 45),\n",
       " ('Floyd Mayweather, Jr.', 38),\n",
       " ('Gwyneth Paltrow', 38),\n",
       " ('Jack Albertson', 38),\n",
       " ('Maggie Smith', 37),\n",
       " ('Lynn Redgrave', 34),\n",
       " ('Casey Affleck', 34),\n",
       " ('Cliff Robertson', 33),\n",
       " ('Liza Minnelli', 33),\n",
       " ('Batman', 33),\n",
       " ('Harvey Keitel', 32),\n",
       " ('Kathleen Quinlan', 31),\n",
       " ('Christopher Walken', 30),\n",
       " ('Julie Christie', 29),\n",
       " ('George Lucas', 29),\n",
       " ('Susan Hayward', 27),\n",
       " ('Jared Leto', 27),\n",
       " ('Nick Nolte', 25),\n",
       " ('Frances McDormand', 23),\n",
       " ('Paul Newman', 22),\n",
       " ('Jeremy Irons', 22),\n",
       " ('Kevin Kline', 22),\n",
       " ('Frank Langella', 21),\n",
       " ('Julianne Moore', 20),\n",
       " ('Jane Darwell', 19),\n",
       " ('Katy Perry', 19),\n",
       " ('Chiwetel Ejiofor', 18),\n",
       " ('James Patterson', 17),\n",
       " ('Forrest Gump ', 17),\n",
       " ('Charles Laughton', 17),\n",
       " ('Tilda Swinton', 17),\n",
       " ('Massimo Troisi', 17),\n",
       " ('Sylvester Stallone', 16),\n",
       " ('Steve Carell', 15),\n",
       " ('Bette Midler', 15),\n",
       " ('Bruce Dern', 15),\n",
       " ('Joanne Woodward', 14),\n",
       " ('John Malkovich', 14),\n",
       " ('Hattie McDaniel', 14),\n",
       " ('Marina de Tavira', 14),\n",
       " ('Broderick Crawford', 14),\n",
       " ('Louise Fletcher', 13),\n",
       " ('Marlon Brando §', 13),\n",
       " ('The Weeknd', 13),\n",
       " ('Geoffrey Rush', 13),\n",
       " ('Popeye ', 13),\n",
       " ('Jeff Bridges', 12),\n",
       " ('Mahershala Ali', 12),\n",
       " ('Felicity Jones', 12),\n",
       " ('Adam Driver', 12),\n",
       " ('Marisa Tomei', 12),\n",
       " ('Gale Sondergaard', 12),\n",
       " ('Adriana Barraza', 12),\n",
       " ('Maggie Gyllenhaal', 11),\n",
       " ('James Coburn', 11),\n",
       " ('Laura Linney', 11),\n",
       " ('E.T. ', 11),\n",
       " ('Teresa Wright', 10),\n",
       " ('Billy Bob Thornton', 10),\n",
       " ('Mercedes Ruehl', 10),\n",
       " ('Mickey Rourke', 10),\n",
       " ('Melvyn Douglas', 10),\n",
       " ('Warren Beatty', 10),\n",
       " ('Javier Bardem', 10),\n",
       " ('Denzel Washington', 9),\n",
       " ('Joan Fontaine', 9),\n",
       " ('King Kong', 9),\n",
       " ('Kate Winslet', 9),\n",
       " ('Rachel McAdams', 8),\n",
       " ('Saoirse Ronan', 8),\n",
       " ('Whoopi Goldberg', 8),\n",
       " ('Timothy Hutton', 8),\n",
       " ('William Holden', 8),\n",
       " ('Don Cheadle', 8),\n",
       " ('Hugh Griffith', 8),\n",
       " ('Lee Grant', 7),\n",
       " ('Shohreh Aghdashloo', 7),\n",
       " ('David Niven', 7),\n",
       " ('David Beckham', 7),\n",
       " ('Robin Williams', 7),\n",
       " ('Joan Plowright', 6),\n",
       " ('Joseph Schildkraut', 6),\n",
       " ('Tom Wilkinson', 6),\n",
       " ('Meryl Streep', 6),\n",
       " ('Glenn Close', 6),\n",
       " ('Mariah Carey', 6),\n",
       " ('Don Ameche', 5),\n",
       " ('Kevin Spacey', 5),\n",
       " ('Julia Roberts', 5),\n",
       " ('George Arliss', 5),\n",
       " ('Colin Firth', 5),\n",
       " ('Stephen Rea', 5),\n",
       " ('Eileen Heckart', 5),\n",
       " ('Ed Harris', 4),\n",
       " ('Loretta Young', 4),\n",
       " ('Harry Callahan ', 4),\n",
       " ('Britney Spears', 4),\n",
       " ('Nicolas Cage', 4),\n",
       " ('Rosie Perez', 4),\n",
       " ('George Kennedy', 4),\n",
       " ('Fernanda Montenegro', 4),\n",
       " ('LeBron James', 4),\n",
       " ('Mercedes McCambridge', 4),\n",
       " ('Alice Brady', 3),\n",
       " ('Fay Bainter', 3),\n",
       " ('Marianne Jean-Baptiste', 3),\n",
       " ('Jessica Chastain', 3),\n",
       " ('Captain America ', 3),\n",
       " ('Rita Moreno', 3),\n",
       " ('Hawkeye Pierce ', 2),\n",
       " ('Michelle Pfeiffer', 2),\n",
       " ('Paul McCartney', 2),\n",
       " ('Michael Keaton', 2),\n",
       " ('James Cagney', 2),\n",
       " (\"Mo'Nique\", 2),\n",
       " ('Will Smith', 2),\n",
       " ('Ray Milland', 2),\n",
       " ('Chris Cooper', 1),\n",
       " ('Jennifer Hudson', 1),\n",
       " ('Anna Paquin', 1),\n",
       " ('Dorothy Malone', 1),\n",
       " ('Mira Sorvino', 1)]"
      ]
     },
     "execution_count": 19,
     "metadata": {},
     "output_type": "execute_result"
    }
   ],
   "source": [
    "names=[]\n",
    "for dic in jeszkmoments_kepek:\n",
    "    names.append(dic[\"sender_name\"])\n",
    "def take_second(elem):\n",
    "    return elem[1]\n",
    "countnames = {}\n",
    "for name in names:\n",
    "    if name in countnames:\n",
    "        countnames[name] += 1\n",
    "    else:\n",
    "        countnames[name] = 1\n",
    "legtobb_kep_kuldoje=sorted(list(countnames.items()),key=take_second,reverse=True)\n",
    "legtobb_kep_kuldoje"
   ]
  },
  {
   "cell_type": "markdown",
   "metadata": {},
   "source": [
    "# 3. Ki unscubsribeolt legtöbbször a jeszk momentsből? (2 pont) (javítottuk valamelyest az eredeti megoldásunkhoz képest)\n"
   ]
  },
  {
   "cell_type": "markdown",
   "metadata": {},
   "source": [
    "### Unscubsribeolások listájánaklétrehozása"
   ]
  },
  {
   "cell_type": "code",
   "execution_count": 35,
   "metadata": {},
   "outputs": [],
   "source": [
    "unscubsribe = []\n",
    "exampleSet = jeszkmoments\n",
    "keyValList = [\"Unsubscribe\"]\n",
    "unscubsribe += [d for d in exampleSet if d['type'] in keyValList]"
   ]
  },
  {
   "cell_type": "markdown",
   "metadata": {},
   "source": [
    "### A legtöbbet unsubscribeoltak kinyerése"
   ]
  },
  {
   "cell_type": "code",
   "execution_count": 36,
   "metadata": {
    "scrolled": true
   },
   "outputs": [
    {
     "data": {
      "text/plain": [
       "[('Mahershala Ali', 3),\n",
       " ('John Malkovich', 3),\n",
       " ('Ed Harris', 2),\n",
       " ('Tilda Swinton', 2),\n",
       " ('Mickey Rourke', 2),\n",
       " ('Julia Roberts', 2),\n",
       " ('Denzel Washington', 2),\n",
       " ('Chris Cooper', 2),\n",
       " ('Maggie Gyllenhaal', 2),\n",
       " ('Dorothy Malone', 2),\n",
       " ('Joan Fontaine', 2),\n",
       " ('Batman', 2),\n",
       " ('Rachel McAdams', 1),\n",
       " ('Don Ameche', 1),\n",
       " ('Gwyneth Paltrow', 1),\n",
       " ('Fay Bainter', 1),\n",
       " ('George Lucas', 1),\n",
       " ('Saoirse Ronan', 1),\n",
       " ('Scarlett Johansson', 1),\n",
       " ('Casey Affleck', 1),\n",
       " ('Grace Kelly', 1),\n",
       " ('Jennifer Hudson', 1),\n",
       " ('Ronald McDonald', 1),\n",
       " ('Loretta Young', 1),\n",
       " ('Alice Brady', 1),\n",
       " ('Lee Grant', 1),\n",
       " ('Ed Sheeran', 1),\n",
       " ('King Kong', 1),\n",
       " ('Harvey Keitel', 1),\n",
       " ('Steve Carell', 1),\n",
       " ('Mercedes Ruehl', 1),\n",
       " ('Hawkeye Pierce ', 1),\n",
       " ('George Arliss', 1),\n",
       " ('Cliff Robertson', 1),\n",
       " ('Hattie McDaniel', 1),\n",
       " ('Jack Albertson', 1),\n",
       " ('Felicity Jones', 1),\n",
       " ('James Cagney', 1),\n",
       " ('Paul Newman', 1),\n",
       " ('Jack Palance', 1),\n",
       " ('The Weeknd', 1),\n",
       " ('Joanne Woodward', 1),\n",
       " ('Ginger Rogers', 1),\n",
       " ('Michelle Pfeiffer', 1),\n",
       " ('Maggie Smith', 1),\n",
       " ('Ben Johnson', 1),\n",
       " (\"Mo'Nique\", 1),\n",
       " ('Anna Paquin', 1),\n",
       " ('Rosie Perez', 1)]"
      ]
     },
     "execution_count": 36,
     "metadata": {},
     "output_type": "execute_result"
    }
   ],
   "source": [
    "names=[]\n",
    "for dic in unscubsribe:\n",
    "    names.append(dic[\"sender_name\"])\n",
    "def take_second(elem):\n",
    "    return elem[1]\n",
    "countnames = {}\n",
    "for name in names:\n",
    "    if name in countnames:\n",
    "        countnames[name] += 1\n",
    "    else:\n",
    "        countnames[name] = 1\n",
    "legtobbet_unsubscribeoltak=sorted(list(countnames.items()),key=take_second,reverse=True)\n",
    "legtobbet_unsubscribeoltak"
   ]
  },
  {
   "cell_type": "markdown",
   "metadata": {},
   "source": [
    "# 4. Hány emberrel beszél Hanga 2015 óta minden évben, és hánnyal 2016 óta minden évben (rajkba kerülésének éve óta)? Ez alapján kik a rajkosok ebből a listából? (2 pont) (ezt nagyon utolsó percekben csináltuk, bocsi a masszív erdőírtásért) "
   ]
  },
  {
   "cell_type": "markdown",
   "metadata": {},
   "source": [
    "### Éves adatok megnyitása"
   ]
  },
  {
   "cell_type": "code",
   "execution_count": 22,
   "metadata": {},
   "outputs": [],
   "source": [
    "path_to_file = '/var/www/rajkjupyter/BBM/data/2015-msg.json'\n",
    "list_of_dicts_2015 = json.load(open(path_to_file,'r'))\n",
    "path_to_file = '/var/www/rajkjupyter/BBM/data/2016-msg.json'\n",
    "list_of_dicts_2016 = json.load(open(path_to_file,'r'))\n",
    "path_to_file = '/var/www/rajkjupyter/BBM/data/2017-msg.json'\n",
    "list_of_dicts_2017 = json.load(open(path_to_file,'r'))\n",
    "path_to_file = '/var/www/rajkjupyter/BBM/data/2018-msg.json'\n",
    "list_of_dicts_2018 = json.load(open(path_to_file,'r'))\n",
    "path_to_file = '/var/www/rajkjupyter/BBM/data/2019-msg.json'\n",
    "list_of_dicts_2019 = json.load(open(path_to_file,'r'))\n",
    "path_to_file = '/var/www/rajkjupyter/BBM/data/2020-msg.json'\n",
    "list_of_dicts_2020 = json.load(open(path_to_file,'r'))"
   ]
  },
  {
   "cell_type": "markdown",
   "metadata": {},
   "source": [
    "### A különböző emberek kinyerése, akivel egy évben Hanga beszélt"
   ]
  },
  {
   "cell_type": "code",
   "execution_count": 26,
   "metadata": {},
   "outputs": [
    {
     "data": {
      "text/plain": [
       "193"
      ]
     },
     "execution_count": 26,
     "metadata": {},
     "output_type": "execute_result"
    }
   ],
   "source": [
    "nevek = []\n",
    "for dic in list_of_dicts_2015:\n",
    "    nevek.append(dic[\"sender_name\"])\n",
    "countnames = {}\n",
    "for name in nevek:\n",
    "    if name in countnames:\n",
    "        countnames[name] += 1\n",
    "    else:\n",
    "        countnames[name] = 1\n",
    "\n",
    "emberek_alnevei_2015_tol = list(countnames)"
   ]
  },
  {
   "cell_type": "code",
   "execution_count": 37,
   "metadata": {},
   "outputs": [],
   "source": [
    "nevek = []\n",
    "for dic in list_of_dicts_2016:\n",
    "    nevek.append(dic[\"sender_name\"])\n",
    "countnames = {}\n",
    "for name in nevek:\n",
    "    if name in countnames:\n",
    "        countnames[name] += 1\n",
    "    else:\n",
    "        countnames[name] = 1\n",
    "\n",
    "emberek_alnevei_2016_tol = list(countnames)"
   ]
  },
  {
   "cell_type": "code",
   "execution_count": 38,
   "metadata": {},
   "outputs": [],
   "source": [
    "nevek = []\n",
    "for dic in list_of_dicts_2017:\n",
    "    nevek.append(dic[\"sender_name\"])\n",
    "countnames = {}\n",
    "for name in nevek:\n",
    "    if name in countnames:\n",
    "        countnames[name] += 1\n",
    "    else:\n",
    "        countnames[name] = 1\n",
    "\n",
    "emberek_alnevei_2017_tol = list(countnames)"
   ]
  },
  {
   "cell_type": "code",
   "execution_count": 39,
   "metadata": {},
   "outputs": [],
   "source": [
    "nevek = []\n",
    "for dic in list_of_dicts_2018:\n",
    "    nevek.append(dic[\"sender_name\"])\n",
    "countnames = {}\n",
    "for name in nevek:\n",
    "    if name in countnames:\n",
    "        countnames[name] += 1\n",
    "    else:\n",
    "        countnames[name] = 1\n",
    "\n",
    "emberek_alnevei_2018_tol = list(countnames)"
   ]
  },
  {
   "cell_type": "code",
   "execution_count": 40,
   "metadata": {},
   "outputs": [],
   "source": [
    "nevek = []\n",
    "for dic in list_of_dicts_2019:\n",
    "    nevek.append(dic[\"sender_name\"])\n",
    "countnames = {}\n",
    "for name in nevek:\n",
    "    if name in countnames:\n",
    "        countnames[name] += 1\n",
    "    else:\n",
    "        countnames[name] = 1\n",
    "\n",
    "emberek_alnevei_2019_tol = list(countnames)"
   ]
  },
  {
   "cell_type": "code",
   "execution_count": 41,
   "metadata": {},
   "outputs": [],
   "source": [
    "nevek = []\n",
    "for dic in list_of_dicts_2020:\n",
    "    nevek.append(dic[\"sender_name\"])\n",
    "countnames = {}\n",
    "for name in nevek:\n",
    "    if name in countnames:\n",
    "        countnames[name] += 1\n",
    "    else:\n",
    "        countnames[name] = 1\n",
    "\n",
    "emberek_alnevei_2020_tol = list(countnames)"
   ]
  },
  {
   "cell_type": "markdown",
   "metadata": {},
   "source": [
    "### Hány emberrel beszél Hanga 2015 óta minden évben, és hánnyal 2016 óta minden évben"
   ]
  },
  {
   "cell_type": "code",
   "execution_count": 42,
   "metadata": {},
   "outputs": [
    {
     "data": {
      "text/plain": [
       "8"
      ]
     },
     "execution_count": 42,
     "metadata": {},
     "output_type": "execute_result"
    }
   ],
   "source": [
    "Rajkos_1 = []\n",
    "Nem_Rajkos = []\n",
    "for nev in emberek_alnevei_2020_tol:\n",
    "    if nev in emberek_alnevei_2019_tol:\n",
    "        if nev in emberek_alnevei_2018_tol:\n",
    "            if nev in emberek_alnevei_2017_tol:\n",
    "                if nev in emberek_alnevei_2016_tol:\n",
    "                    if nev in emberek_alnevei_2015_tol:\n",
    "                        Rajkos_1.append(nev)\n",
    "    else:\n",
    "        Nem_Rajkos.append(nev)\n",
    "\n",
    "len(Rajkos_1)"
   ]
  },
  {
   "cell_type": "code",
   "execution_count": 43,
   "metadata": {},
   "outputs": [
    {
     "data": {
      "text/plain": [
       "56"
      ]
     },
     "execution_count": 43,
     "metadata": {},
     "output_type": "execute_result"
    }
   ],
   "source": [
    "Rajkos_2 = []\n",
    "Nem_Rajkos = []\n",
    "for nev in emberek_alnevei_2020_tol:\n",
    "    if nev in emberek_alnevei_2019_tol:\n",
    "        if nev in emberek_alnevei_2018_tol:\n",
    "            if nev in emberek_alnevei_2017_tol:\n",
    "                if nev in emberek_alnevei_2016_tol:\n",
    "                        Rajkos_2.append(nev)\n",
    "    else:\n",
    "        Nem_Rajkos.append(nev)\n",
    "\n",
    "len(Rajkos_2)"
   ]
  },
  {
   "cell_type": "markdown",
   "metadata": {},
   "source": [
    "### Megoldás:\n",
    "#### 2015 óta 8 emberrel beszélt minden évben.\n",
    "#### 2016 óta 56 emberrel beszélt minden évben.\n",
    "#### Azok a rajkosok, akikkel 2016 óta minden évben beszélt, kivéve azt a 8 embert, akivel 2015 óta beszél minden évben."
   ]
  }
 ],
 "metadata": {
  "kernelspec": {
   "display_name": "Python 3",
   "language": "python",
   "name": "python3"
  },
  "language_info": {
   "codemirror_mode": {
    "name": "ipython",
    "version": 3
   },
   "file_extension": ".py",
   "mimetype": "text/x-python",
   "name": "python",
   "nbconvert_exporter": "python",
   "pygments_lexer": "ipython3",
   "version": "3.7.5"
  }
 },
 "nbformat": 4,
 "nbformat_minor": 4
}
