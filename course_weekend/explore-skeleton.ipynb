{
 "cells": [
  {
   "cell_type": "markdown",
   "metadata": {},
   "source": [
    "# Adat:\n",
    "\n",
    "## leírás\n",
    "\n",
    "Az adat az én saját teljes facebook messenger history-m, 2010-től múlt szombatig. Azért nem láttok belőle mindent, a következők a korlátok:\n",
    "\n",
    "- az üzeneteket nem látjátok, csak a hosszukat, karakterben\n",
    "- mindenkinek a nevét véletlenszerűen kicseréltem egy híres emberével (a forbes celebrity top100-ból, oszkárdíjas/oszkár jelölt színészek és a top 100 kitalált karakter közül válogatva)\n",
    "- a névcsere konziztens, így egy híresség mindig ugyanazt az embert jelöli (akkor is, ha a csetben esetleg valaki megváltoztatta a nevét)\n",
    "- fotók, videók, stickerek és gifek sincsenek meg, csak az, hogy adott üzenetben a küldő hány ilyet küldött\n",
    "\n",
    "## forma\n",
    "\n",
    "Az adat *json* formátumban van, amit a pythonba úgy fogunk beolvasni, hogy egy listát kapunk, amiben dictionary-k vannak. Minden dictionary egy csetben történt eseményt jelöl, ezek a következőek lehetnek:\n",
    "- elküldött üzenetet\n",
    "- valaki megosztott valamilyen tartalmat\n",
    "- valakit felvettek a beszélgetésbe vagy kirakták/kirakta magát\n",
    "\n",
    "Minden dictionaryben 19 key van, amik a következőket jelentik:\n",
    "\n",
    "- ```type```: ez négy féle dolog lehet\n",
    "    - *Generic*: ez azt jelenti, hogy a dictionary egy sima üzenetet jelöl\n",
    "    - *Share*: ez valamilyen tartalom megosztását jelenti\n",
    "    - *Subscribe*: ez azt jelenti, hogy valaki hozzáadott valakit a beszélgetéshez\n",
    "    - *Unsubscribe*: ez azt jelenti, hogy valaki levett valakit a beszélgetésről\n",
    "- ```sender_name```: *string*, a küldő, megosztó, vagy beszélgetésbe felvevő/leszedő álneve\n",
    "- ```datetime```/```year```/```month```/```day```/```hour```/```minute```: ezek az esemény idejét jelzik\n",
    "- ```timestamp_ms```: az 1970 január 1. óta eltelt miliszekundumok számát jelzi (arra pl. elég jó, hogy nagyon könnyen ki lehet vele számolni két esemény között eltelt időt, meg összehasonlításra is szuper)\n",
    "- ```content_l```: *float*, ez mindig az üzenetben elküldött karakterek számát jelöli\n",
    "- ```gifs```/```videos```/```photos```/```sticker```: ezek a nevükben megfogalmazott tartalomtípus darabszámát jelölik az üzenetben\n",
    "- ```reactions```: ez egy lista azokról az emberekről, akik reactokat nyomkodtak az üzenetre\n",
    "- ```users```: ez egy lista azokról az emberekről, akik a beszélgetéshez hozzá lettek adva, vagy el lettek távolítva (csak akkor aktuális, ha a ```type``` *Subscribe* vagy *Unsubscribe* értéket vesz fel)\n",
    "- ```thread_path```: ez annak a threadnek (beszélgetésnek) az azonosítója, amiben az adott esemény történt\n",
    "- ```thread_type```: ez a thread fajtáját jelöli, lehet *RegularGroup* (csoportos) vagy *Regular* (egyéni)\n",
    "- ```index```: ez az adott esemény indexe, évenként egyedi\n",
    "\n",
    "**Az adat nincs időrendi sorrendben!** Ha olyan feladatot szeretnétek megoldani, amihez ez hasznos, nektek kell sorbarakni."
   ]
  },
  {
   "cell_type": "markdown",
   "metadata": {},
   "source": [
    "# Segítség:"
   ]
  },
  {
   "cell_type": "markdown",
   "metadata": {},
   "source": [
    "## Az adat évenként van külön fájlokba szedve, így tudom pl 2011-et beolvasni:"
   ]
  },
  {
   "cell_type": "code",
   "execution_count": 2,
   "metadata": {},
   "outputs": [],
   "source": [
    "import json"
   ]
  },
  {
   "cell_type": "code",
   "execution_count": 2,
   "metadata": {},
   "outputs": [],
   "source": [
    "path_to_file = 'data/2011-msg.json'"
   ]
  },
  {
   "cell_type": "code",
   "execution_count": 3,
   "metadata": {},
   "outputs": [],
   "source": [
    "list_of_dicts_2011 = json.load(open(path_to_file,'r'))"
   ]
  },
  {
   "cell_type": "code",
   "execution_count": 4,
   "metadata": {},
   "outputs": [
    {
     "data": {
      "text/plain": [
       "list"
      ]
     },
     "execution_count": 4,
     "metadata": {},
     "output_type": "execute_result"
    }
   ],
   "source": [
    "type(list_of_dicts_2011)"
   ]
  },
  {
   "cell_type": "code",
   "execution_count": 40,
   "metadata": {},
   "outputs": [
    {
     "data": {
      "text/plain": [
       "{'index': 2736,\n",
       " 'sender_name': 'Kim Hunter',\n",
       " 'timestamp_ms': 1317483598004,\n",
       " 'type': 'Generic',\n",
       " 'thread_path': 230,\n",
       " 'thread_type': 'RegularGroup',\n",
       " 'reactions': [],\n",
       " 'sticker': None,\n",
       " 'ip': None,\n",
       " 'photos': 0,\n",
       " 'users': [],\n",
       " 'gifs': 0,\n",
       " 'videos': 0,\n",
       " 'content_l': 2,\n",
       " 'datetime': '2011-10-01T17:39:58.004Z',\n",
       " 'year': 2011,\n",
       " 'month': 10,\n",
       " 'day': 1,\n",
       " 'hour': 17,\n",
       " 'minute': 39}"
      ]
     },
     "execution_count": 40,
     "metadata": {},
     "output_type": "execute_result"
    }
   ],
   "source": [
    "list_of_dicts_2011[10]"
   ]
  },
  {
   "cell_type": "code",
   "execution_count": 6,
   "metadata": {},
   "outputs": [
    {
     "data": {
      "text/plain": [
       "9598"
      ]
     },
     "execution_count": 6,
     "metadata": {},
     "output_type": "execute_result"
    }
   ],
   "source": [
    "len(list_of_dicts_2011)"
   ]
  },
  {
   "cell_type": "markdown",
   "metadata": {},
   "source": [
    "## A python string formázós technikájával + egy egyszerű függvénnyel paraméteresen is be lehet olvasni az adatot az egyes évekre:"
   ]
  },
  {
   "cell_type": "code",
   "execution_count": 3,
   "metadata": {},
   "outputs": [],
   "source": [
    "def get_data_by_year(year):\n",
    "\n",
    "    path_to_file = \"data/{}-msg.json\".format(year)\n",
    "    return json.load(open(path_to_file, \"r\"))"
   ]
  },
  {
   "cell_type": "code",
   "execution_count": 4,
   "metadata": {},
   "outputs": [],
   "source": [
    "list_of_dicts_2010 = get_data_by_year(2010)"
   ]
  },
  {
   "cell_type": "code",
   "execution_count": 7,
   "metadata": {},
   "outputs": [
    {
     "data": {
      "text/plain": [
       "{'index': 0,\n",
       " 'sender_name': 'Jesse Eisenberg',\n",
       " 'timestamp_ms': 1290623412000,\n",
       " 'type': 'Generic',\n",
       " 'thread_path': 302,\n",
       " 'thread_type': 'RegularGroup',\n",
       " 'reactions': [],\n",
       " 'sticker': None,\n",
       " 'ip': None,\n",
       " 'photos': 0,\n",
       " 'users': [],\n",
       " 'gifs': 0,\n",
       " 'videos': 0,\n",
       " 'content_l': 833,\n",
       " 'datetime': '2010-11-24T19:30:12.000Z',\n",
       " 'year': 2010,\n",
       " 'month': 11,\n",
       " 'day': 24,\n",
       " 'hour': 19,\n",
       " 'minute': 30}"
      ]
     },
     "execution_count": 7,
     "metadata": {},
     "output_type": "execute_result"
    }
   ],
   "source": [
    "list_of_dicts_2010[34]"
   ]
  },
  {
   "cell_type": "markdown",
   "metadata": {},
   "source": [
    "## Ha esetleg szeretnétek valamit ábrázolni, javaslom hozzá a matplotlib package-et\n",
    "\n",
    "### itt egy példa arról, hogy hogyan készül egy histogramm az események hónapokra vonatkozó eloszlásáról (2012-ből)"
   ]
  },
  {
   "cell_type": "code",
   "execution_count": 9,
   "metadata": {},
   "outputs": [
    {
     "data": {
      "text/plain": [
       "'tadaa!'"
      ]
     },
     "execution_count": 9,
     "metadata": {},
     "output_type": "execute_result"
    },
    {
     "data": {
      "image/png": "[encoded data removed]",
      "text/plain": [
       "<Figure size 432x288 with 1 Axes>"
      ]
     },
     "metadata": {
      "needs_background": "light"
     },
     "output_type": "display_data"
    }
   ],
   "source": [
    "# készítek egy listát amibe minden eseménynél berakom a hónapot\n",
    "\n",
    "event_months = []\n",
    "for dic in list_of_dicts_2012:\n",
    "    event_months.append(dic[\"month\"])\n",
    "\n",
    "# importálom matplotlibet és beállítom hogy faszán működjön jupyter notebookban\n",
    "# ezt érdemes csak egyszer a notebook elején\n",
    "\n",
    "import matplotlib.pyplot as plt\n",
    "\n",
    "%matplotlib inline\n",
    "\n",
    "# ezzel a borzasztó egyszerű parancsal elkészítem a histogrammot\n",
    "\n",
    "plt.hist(event_months, bins=12)\n",
    "\n",
    "\"tadaa!\""
   ]
  },
  {
   "cell_type": "markdown",
   "metadata": {},
   "source": [
    "# Explore feladatok\n",
    "\n",
    "- mi az én álnevem? (1 pont)\n",
    "- mi a jeszk-moments azonosítója? (2 pont)\n",
    "- melyik a 2019-es db-cset? (5 pont)\n",
    "- hányan vannak, akik minden évben küldtek üzenetet? (3 pont)\n",
    "- hányan vannak, akik pontosan n évben küldtek üzenetet ($ n = 1, ... 11 $) (2 pont, ábrázolásért +1)\n",
    "- ki írja átlagosan a leghosszabb üzeneteket? (2 pont)\n",
    "- ki van bent a második legtöbb csetben? (3 pont)\n",
    "- melyik az a cset, ahol a legtöbb idő telt el két üzenet között, és mennyi ez az idő? (4 pont)\n",
    "\n",
    "# Függvény Feladatok\n",
    "\n",
    "- megadok egy timestamp-et, ki az eddig az időpontig írt leghosszabb üzenet szerzője? (1 pont)\n",
    "- megadok egy timestamp-et, melyik óra eddig az időpontig a legkevésbé aktív (1 pont)\n",
    "- megadok egy timestamp-et és egy embert, mondd meg, hány karaktert küldött eddig az időpontig (2 pont)\n",
    "- megadok egy timestamp-et, hányan írtak eddig az időpontig legalább 10 üzenetet? (3 pont)\n",
    "- megadok egy timestamp-et, melyik volt a top5 legaktívabb cset  eddig az időpontig (4 pont)\n",
    "- megadok egy timestamp-et és egy csetet (```thread_id```), összesen hány különböző ember, hány üzenetben, hány karaktert írt eddig az időpontig (4 pont)\n",
    "- megadok egy timestamp-et, melyik csetbe és kicsoda írta  eddig az időpontig a legtöbb karaktert (5 pont)\n",
    "- megadok egy órát, átlagosan hány üzenetet küldtek ebben az órában (az összes eltelt napra átlagolva) (5 pont)\n",
    "- megadok egy timestamp-et, mi volt a leghosszabb periódus eddig az időpontig üzenet nélkül (7 pont)\n",
    "\n",
    "### bónusz:\n",
    "\n",
    "- bárhol ahol top1-et keresünk, megadni top5öt (+1 pont)\n",
    "- bármelyik csapat dobhat be plusz feladatokat a megbeszélt időkorlátig publikusan, rögtön válaszolok rá, hogy hány pontot érne\n",
    "- ha olyan feladatot csinálsz meg, amit egyik másik csapat sem tudott (+1 pont)"
   ]
  },
  {
   "cell_type": "code",
   "execution_count": null,
   "metadata": {},
   "outputs": [],
   "source": []
  }
 ],
 "metadata": {
  "kernelspec": {
   "display_name": "Python 3",
   "language": "python",
   "name": "python3"
  },
  "language_info": {
   "codemirror_mode": {
    "name": "ipython",
    "version": 3
   },
   "file_extension": ".py",
   "mimetype": "text/x-python",
   "name": "python",
   "nbconvert_exporter": "python",
   "pygments_lexer": "ipython3",
   "version": "3.7.3"
  }
 },
 "nbformat": 4,
 "nbformat_minor": 2
}
