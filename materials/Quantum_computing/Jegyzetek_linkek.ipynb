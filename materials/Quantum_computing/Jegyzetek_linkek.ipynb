{
 "cells": [
  {
   "cell_type": "markdown",
   "metadata": {},
   "source": [
    "### Linkek"
   ]
  },
  {
   "cell_type": "markdown",
   "metadata": {},
   "source": [
    "### [PBS Spacetime a Double Split Experiment-ről](https://www.youtube.com/watch?v=p-MNSLsjjdo&t=627s)\n",
    "### [Hosszabb, technikai részletekbe menő előadás a kvantumszámítógépről](https://www.youtube.com/watch?v=F_Riqjdh2oM)\n",
    "### [PBS Spacetime a kvantum-számítógépek és a kriptográfia kapcsolatáról](https://www.youtube.com/watch?v=pi7YwxxZQ5A&t=725s)\n",
    "### [Infinite series a kvantum számítógépről](https://www.youtube.com/watch?v=IrbJYsep45E&t=663s)\n",
    "### [Shor algoritmus](https://www.youtube.com/watch?v=12Q3Mrh03Gk&t=606s)\n",
    "### [Shor algoritmus kvantumszámítógéppel](https://www.youtube.com/watch?v=wUwZZaI5u0c&t=620s)\n",
    "### [Hogyan teljesítette túl a Google Sycamore a klasszikus számítógépet](https://ai.googleblog.com/2019/10/quantum-supremacy-using-programmable.html)\n",
    "### [IBM Quantum Experience - az IBM otthonról is használható kvantum-számítógépe](https://quantum-computing.ibm.com/)"
   ]
  },
  {
   "cell_type": "markdown",
   "metadata": {},
   "source": [
    "### Exponenciális komplexitás"
   ]
  },
  {
   "cell_type": "code",
   "execution_count": 69,
   "metadata": {},
   "outputs": [],
   "source": [
    "p1 = 2 * 3 * 5 * 7 * 11 * 13 * 17 * 19 + 1\n",
    "p2 = 2 * 3 * 5 * 7 * 11 * 13 * 17 * 19 * p1 + 1"
   ]
  },
  {
   "cell_type": "code",
   "execution_count": 70,
   "metadata": {},
   "outputs": [],
   "source": [
    "product = p1 * p2\n",
    "ndigits = len(str(product))"
   ]
  },
  {
   "cell_type": "code",
   "execution_count": 71,
   "metadata": {
    "scrolled": true
   },
   "outputs": [
    {
     "name": "stdout",
     "output_type": "stream",
     "text": [
      "p1 = 9699691, p2 = 94083995795791\n",
      "p1 * p2 = 912585687264471800581\n",
      "Számjegyek: 21\n",
      "Ha egy művelet egy másodperc, ennek a kiszámolása 24 napba telik.\n"
     ]
    }
   ],
   "source": [
    "print(\"p1 = {}, p2 = {}\".format(p1, p2))\n",
    "print(\"p1 * p2 = {}\".format(product))\n",
    "print(\"Számjegyek: {}\".format(ndigits))\n",
    "print(\n",
    "    \"Ha egy művelet egy másodperc, ennek a kiszámolása {} napba telik.\".format(\n",
    "        round(2 ** ndigits / 60 / 60 / 24)\n",
    "    )\n",
    ")"
   ]
  },
  {
   "cell_type": "code",
   "execution_count": 72,
   "metadata": {},
   "outputs": [],
   "source": [
    "from matplotlib import pyplot as plt"
   ]
  },
  {
   "cell_type": "code",
   "execution_count": 73,
   "metadata": {},
   "outputs": [],
   "source": [
    "x = np.arange(50)\n",
    "y = (2 ** x/60/60/24/365).round()"
   ]
  },
  {
   "cell_type": "code",
   "execution_count": 74,
   "metadata": {},
   "outputs": [
    {
     "data": {
      "text/plain": [
       "Text(0.5, 1.0, 'Faktorizációhoz szükséges idő (ha egy művelet = 1 s)')"
      ]
     },
     "execution_count": 74,
     "metadata": {},
     "output_type": "execute_result"
    },
    {
     "data": {
      "image/png": "[encoded data removed]",
      "text/plain": [
       "<Figure size 720x576 with 1 Axes>"
      ]
     },
     "metadata": {
      "needs_background": "light"
     },
     "output_type": "display_data"
    }
   ],
   "source": [
    "fig = plt.figure(figsize=(10, 8))\n",
    "plt.plot(x, y, c=\"orange\", linewidth=3)\n",
    "plt.xlabel(\"Számjegyek\", fontsize=\"large\")\n",
    "plt.ylabel(\"Évek\", fontsize=\"large\")\n",
    "plt.ylim(0, y[-1])\n",
    "plt.title(\"Faktorizációhoz szükséges idő (ha egy művelet = 1 s)\")"
   ]
  },
  {
   "cell_type": "code",
   "execution_count": null,
   "metadata": {},
   "outputs": [],
   "source": []
  }
 ],
 "metadata": {
  "kernelspec": {
   "display_name": "Python 3",
   "language": "python",
   "name": "python3"
  },
  "language_info": {
   "codemirror_mode": {
    "name": "ipython",
    "version": 3
   },
   "file_extension": ".py",
   "mimetype": "text/x-python",
   "name": "python",
   "nbconvert_exporter": "python",
   "pygments_lexer": "ipython3",
   "version": "3.7.3"
  }
 },
 "nbformat": 4,
 "nbformat_minor": 2
}
